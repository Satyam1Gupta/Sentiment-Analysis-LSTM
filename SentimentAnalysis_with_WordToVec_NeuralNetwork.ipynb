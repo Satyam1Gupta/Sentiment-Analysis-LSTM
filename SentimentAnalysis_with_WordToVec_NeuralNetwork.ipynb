{
  "cells": [
    {
      "cell_type": "markdown",
      "metadata": {
        "id": "view-in-github",
        "colab_type": "text"
      },
      "source": [
        "<a href=\"https://colab.research.google.com/github/Satyam1Gupta/Sentiment-Analysis-LSTM/blob/main/SentimentAnalysis_with_WordToVec_NeuralNetwork.ipynb\" target=\"_parent\"><img src=\"https://colab.research.google.com/assets/colab-badge.svg\" alt=\"Open In Colab\"/></a>"
      ]
    },
    {
      "cell_type": "markdown",
      "metadata": {
        "id": "Ag88fDJdv-fv"
      },
      "source": []
    },
    {
      "cell_type": "markdown",
      "metadata": {
        "id": "EwZa81ThPbt3"
      },
      "source": [
        "## Setting the environment"
      ]
    },
    {
      "cell_type": "code",
      "execution_count": null,
      "metadata": {
        "id": "bj1dnOyZOUv2"
      },
      "outputs": [],
      "source": []
    },
    {
      "cell_type": "code",
      "execution_count": null,
      "metadata": {
        "id": "F0M1fdcBOf_Y"
      },
      "outputs": [],
      "source": []
    },
    {
      "cell_type": "code",
      "execution_count": null,
      "metadata": {
        "id": "W-vpR9QCOn2i"
      },
      "outputs": [],
      "source": [
        "# Importing essential libraries and functions\n",
        "\n",
        "import pandas as pd\n",
        "import numpy as np\n",
        "import re\n",
        "import nltk\n",
        "from nltk.corpus import stopwords\n",
        "from numpy import array\n",
        "\n",
        "from keras.preprocessing.text import one_hot, Tokenizer\n",
        "from keras.preprocessing.sequence import pad_sequences\n",
        "from keras.models import Sequential\n",
        "from keras.layers import Activation, Dropout, Dense, Flatten, GlobalMaxPooling1D, Embedding, Conv1D, LSTM\n",
        "from keras.layers import Flatten, GlobalMaxPooling1D, Embedding, Conv1D, LSTM\n",
        "from sklearn.model_selection import train_test_split\n",
        "from keras.utils import to_categorical\n"
      ]
    },
    {
      "cell_type": "markdown",
      "source": [
        "## Loading dataset"
      ],
      "metadata": {
        "id": "q6FO9rxjxHe_"
      }
    },
    {
      "cell_type": "code",
      "execution_count": null,
      "metadata": {
        "id": "sNL6yy_DO0n1",
        "colab": {
          "base_uri": "https://localhost:8080/"
        },
        "outputId": "a57633ec-f732-40cd-efda-dea7b02f7e7f"
      },
      "outputs": [
        {
          "output_type": "execute_result",
          "data": {
            "text/plain": [
              "                                                     text  sentiment\n",
              "0       what did just say vote for modi  welcome bjp t...          1\n",
              "1       asking his supporters prefix chowkidar their n...          1\n",
              "2       answer who among these the most powerful world...          1\n",
              "3       with upcoming election india saga going import...          1\n",
              "4                              gandhi was gay does modi            1\n",
              "...                                                   ...        ...\n",
              "131356  what modi saying against democracy should flee...          0\n",
              "131357  niti aayog accessory for the modi government m...          0\n",
              "131358  mrjairam here answer lies bjp godi media many ...          0\n",
              "131359  india prime ministerasaduddin owaisi slams mod...          0\n",
              "131360  promise you all that will try take advanijis l...          0\n",
              "\n",
              "[131361 rows x 2 columns]"
            ],
            "text/html": [
              "\n",
              "  <div id=\"df-74fc160d-7296-47d6-8f2b-ef628e498241\" class=\"colab-df-container\">\n",
              "    <div>\n",
              "<style scoped>\n",
              "    .dataframe tbody tr th:only-of-type {\n",
              "        vertical-align: middle;\n",
              "    }\n",
              "\n",
              "    .dataframe tbody tr th {\n",
              "        vertical-align: top;\n",
              "    }\n",
              "\n",
              "    .dataframe thead th {\n",
              "        text-align: right;\n",
              "    }\n",
              "</style>\n",
              "<table border=\"1\" class=\"dataframe\">\n",
              "  <thead>\n",
              "    <tr style=\"text-align: right;\">\n",
              "      <th></th>\n",
              "      <th>text</th>\n",
              "      <th>sentiment</th>\n",
              "    </tr>\n",
              "  </thead>\n",
              "  <tbody>\n",
              "    <tr>\n",
              "      <th>0</th>\n",
              "      <td>what did just say vote for modi  welcome bjp t...</td>\n",
              "      <td>1</td>\n",
              "    </tr>\n",
              "    <tr>\n",
              "      <th>1</th>\n",
              "      <td>asking his supporters prefix chowkidar their n...</td>\n",
              "      <td>1</td>\n",
              "    </tr>\n",
              "    <tr>\n",
              "      <th>2</th>\n",
              "      <td>answer who among these the most powerful world...</td>\n",
              "      <td>1</td>\n",
              "    </tr>\n",
              "    <tr>\n",
              "      <th>3</th>\n",
              "      <td>with upcoming election india saga going import...</td>\n",
              "      <td>1</td>\n",
              "    </tr>\n",
              "    <tr>\n",
              "      <th>4</th>\n",
              "      <td>gandhi was gay does modi</td>\n",
              "      <td>1</td>\n",
              "    </tr>\n",
              "    <tr>\n",
              "      <th>...</th>\n",
              "      <td>...</td>\n",
              "      <td>...</td>\n",
              "    </tr>\n",
              "    <tr>\n",
              "      <th>131356</th>\n",
              "      <td>what modi saying against democracy should flee...</td>\n",
              "      <td>0</td>\n",
              "    </tr>\n",
              "    <tr>\n",
              "      <th>131357</th>\n",
              "      <td>niti aayog accessory for the modi government m...</td>\n",
              "      <td>0</td>\n",
              "    </tr>\n",
              "    <tr>\n",
              "      <th>131358</th>\n",
              "      <td>mrjairam here answer lies bjp godi media many ...</td>\n",
              "      <td>0</td>\n",
              "    </tr>\n",
              "    <tr>\n",
              "      <th>131359</th>\n",
              "      <td>india prime ministerasaduddin owaisi slams mod...</td>\n",
              "      <td>0</td>\n",
              "    </tr>\n",
              "    <tr>\n",
              "      <th>131360</th>\n",
              "      <td>promise you all that will try take advanijis l...</td>\n",
              "      <td>0</td>\n",
              "    </tr>\n",
              "  </tbody>\n",
              "</table>\n",
              "<p>131361 rows × 2 columns</p>\n",
              "</div>\n",
              "    <div class=\"colab-df-buttons\">\n",
              "\n",
              "  <div class=\"colab-df-container\">\n",
              "    <button class=\"colab-df-convert\" onclick=\"convertToInteractive('df-74fc160d-7296-47d6-8f2b-ef628e498241')\"\n",
              "            title=\"Convert this dataframe to an interactive table.\"\n",
              "            style=\"display:none;\">\n",
              "\n",
              "  <svg xmlns=\"http://www.w3.org/2000/svg\" height=\"24px\" viewBox=\"0 -960 960 960\">\n",
              "    <path d=\"M120-120v-720h720v720H120Zm60-500h600v-160H180v160Zm220 220h160v-160H400v160Zm0 220h160v-160H400v160ZM180-400h160v-160H180v160Zm440 0h160v-160H620v160ZM180-180h160v-160H180v160Zm440 0h160v-160H620v160Z\"/>\n",
              "  </svg>\n",
              "    </button>\n",
              "\n",
              "  <style>\n",
              "    .colab-df-container {\n",
              "      display:flex;\n",
              "      gap: 12px;\n",
              "    }\n",
              "\n",
              "    .colab-df-convert {\n",
              "      background-color: #E8F0FE;\n",
              "      border: none;\n",
              "      border-radius: 50%;\n",
              "      cursor: pointer;\n",
              "      display: none;\n",
              "      fill: #1967D2;\n",
              "      height: 32px;\n",
              "      padding: 0 0 0 0;\n",
              "      width: 32px;\n",
              "    }\n",
              "\n",
              "    .colab-df-convert:hover {\n",
              "      background-color: #E2EBFA;\n",
              "      box-shadow: 0px 1px 2px rgba(60, 64, 67, 0.3), 0px 1px 3px 1px rgba(60, 64, 67, 0.15);\n",
              "      fill: #174EA6;\n",
              "    }\n",
              "\n",
              "    .colab-df-buttons div {\n",
              "      margin-bottom: 4px;\n",
              "    }\n",
              "\n",
              "    [theme=dark] .colab-df-convert {\n",
              "      background-color: #3B4455;\n",
              "      fill: #D2E3FC;\n",
              "    }\n",
              "\n",
              "    [theme=dark] .colab-df-convert:hover {\n",
              "      background-color: #434B5C;\n",
              "      box-shadow: 0px 1px 3px 1px rgba(0, 0, 0, 0.15);\n",
              "      filter: drop-shadow(0px 1px 2px rgba(0, 0, 0, 0.3));\n",
              "      fill: #FFFFFF;\n",
              "    }\n",
              "  </style>\n",
              "\n",
              "    <script>\n",
              "      const buttonEl =\n",
              "        document.querySelector('#df-74fc160d-7296-47d6-8f2b-ef628e498241 button.colab-df-convert');\n",
              "      buttonEl.style.display =\n",
              "        google.colab.kernel.accessAllowed ? 'block' : 'none';\n",
              "\n",
              "      async function convertToInteractive(key) {\n",
              "        const element = document.querySelector('#df-74fc160d-7296-47d6-8f2b-ef628e498241');\n",
              "        const dataTable =\n",
              "          await google.colab.kernel.invokeFunction('convertToInteractive',\n",
              "                                                    [key], {});\n",
              "        if (!dataTable) return;\n",
              "\n",
              "        const docLinkHtml = 'Like what you see? Visit the ' +\n",
              "          '<a target=\"_blank\" href=https://colab.research.google.com/notebooks/data_table.ipynb>data table notebook</a>'\n",
              "          + ' to learn more about interactive tables.';\n",
              "        element.innerHTML = '';\n",
              "        dataTable['output_type'] = 'display_data';\n",
              "        await google.colab.output.renderOutput(dataTable, element);\n",
              "        const docLink = document.createElement('div');\n",
              "        docLink.innerHTML = docLinkHtml;\n",
              "        element.appendChild(docLink);\n",
              "      }\n",
              "    </script>\n",
              "  </div>\n",
              "\n",
              "\n",
              "<div id=\"df-78b647dc-0d68-4132-a256-7a438e4f4d84\">\n",
              "  <button class=\"colab-df-quickchart\" onclick=\"quickchart('df-78b647dc-0d68-4132-a256-7a438e4f4d84')\"\n",
              "            title=\"Suggest charts\"\n",
              "            style=\"display:none;\">\n",
              "\n",
              "<svg xmlns=\"http://www.w3.org/2000/svg\" height=\"24px\"viewBox=\"0 0 24 24\"\n",
              "     width=\"24px\">\n",
              "    <g>\n",
              "        <path d=\"M19 3H5c-1.1 0-2 .9-2 2v14c0 1.1.9 2 2 2h14c1.1 0 2-.9 2-2V5c0-1.1-.9-2-2-2zM9 17H7v-7h2v7zm4 0h-2V7h2v10zm4 0h-2v-4h2v4z\"/>\n",
              "    </g>\n",
              "</svg>\n",
              "  </button>\n",
              "\n",
              "<style>\n",
              "  .colab-df-quickchart {\n",
              "      --bg-color: #E8F0FE;\n",
              "      --fill-color: #1967D2;\n",
              "      --hover-bg-color: #E2EBFA;\n",
              "      --hover-fill-color: #174EA6;\n",
              "      --disabled-fill-color: #AAA;\n",
              "      --disabled-bg-color: #DDD;\n",
              "  }\n",
              "\n",
              "  [theme=dark] .colab-df-quickchart {\n",
              "      --bg-color: #3B4455;\n",
              "      --fill-color: #D2E3FC;\n",
              "      --hover-bg-color: #434B5C;\n",
              "      --hover-fill-color: #FFFFFF;\n",
              "      --disabled-bg-color: #3B4455;\n",
              "      --disabled-fill-color: #666;\n",
              "  }\n",
              "\n",
              "  .colab-df-quickchart {\n",
              "    background-color: var(--bg-color);\n",
              "    border: none;\n",
              "    border-radius: 50%;\n",
              "    cursor: pointer;\n",
              "    display: none;\n",
              "    fill: var(--fill-color);\n",
              "    height: 32px;\n",
              "    padding: 0;\n",
              "    width: 32px;\n",
              "  }\n",
              "\n",
              "  .colab-df-quickchart:hover {\n",
              "    background-color: var(--hover-bg-color);\n",
              "    box-shadow: 0 1px 2px rgba(60, 64, 67, 0.3), 0 1px 3px 1px rgba(60, 64, 67, 0.15);\n",
              "    fill: var(--button-hover-fill-color);\n",
              "  }\n",
              "\n",
              "  .colab-df-quickchart-complete:disabled,\n",
              "  .colab-df-quickchart-complete:disabled:hover {\n",
              "    background-color: var(--disabled-bg-color);\n",
              "    fill: var(--disabled-fill-color);\n",
              "    box-shadow: none;\n",
              "  }\n",
              "\n",
              "  .colab-df-spinner {\n",
              "    border: 2px solid var(--fill-color);\n",
              "    border-color: transparent;\n",
              "    border-bottom-color: var(--fill-color);\n",
              "    animation:\n",
              "      spin 1s steps(1) infinite;\n",
              "  }\n",
              "\n",
              "  @keyframes spin {\n",
              "    0% {\n",
              "      border-color: transparent;\n",
              "      border-bottom-color: var(--fill-color);\n",
              "      border-left-color: var(--fill-color);\n",
              "    }\n",
              "    20% {\n",
              "      border-color: transparent;\n",
              "      border-left-color: var(--fill-color);\n",
              "      border-top-color: var(--fill-color);\n",
              "    }\n",
              "    30% {\n",
              "      border-color: transparent;\n",
              "      border-left-color: var(--fill-color);\n",
              "      border-top-color: var(--fill-color);\n",
              "      border-right-color: var(--fill-color);\n",
              "    }\n",
              "    40% {\n",
              "      border-color: transparent;\n",
              "      border-right-color: var(--fill-color);\n",
              "      border-top-color: var(--fill-color);\n",
              "    }\n",
              "    60% {\n",
              "      border-color: transparent;\n",
              "      border-right-color: var(--fill-color);\n",
              "    }\n",
              "    80% {\n",
              "      border-color: transparent;\n",
              "      border-right-color: var(--fill-color);\n",
              "      border-bottom-color: var(--fill-color);\n",
              "    }\n",
              "    90% {\n",
              "      border-color: transparent;\n",
              "      border-bottom-color: var(--fill-color);\n",
              "    }\n",
              "  }\n",
              "</style>\n",
              "\n",
              "  <script>\n",
              "    async function quickchart(key) {\n",
              "      const quickchartButtonEl =\n",
              "        document.querySelector('#' + key + ' button');\n",
              "      quickchartButtonEl.disabled = true;  // To prevent multiple clicks.\n",
              "      quickchartButtonEl.classList.add('colab-df-spinner');\n",
              "      try {\n",
              "        const charts = await google.colab.kernel.invokeFunction(\n",
              "            'suggestCharts', [key], {});\n",
              "      } catch (error) {\n",
              "        console.error('Error during call to suggestCharts:', error);\n",
              "      }\n",
              "      quickchartButtonEl.classList.remove('colab-df-spinner');\n",
              "      quickchartButtonEl.classList.add('colab-df-quickchart-complete');\n",
              "    }\n",
              "    (() => {\n",
              "      let quickchartButtonEl =\n",
              "        document.querySelector('#df-78b647dc-0d68-4132-a256-7a438e4f4d84 button');\n",
              "      quickchartButtonEl.style.display =\n",
              "        google.colab.kernel.accessAllowed ? 'block' : 'none';\n",
              "    })();\n",
              "  </script>\n",
              "</div>\n",
              "\n",
              "  <div id=\"id_30d2db6e-5557-4525-b657-494b292452eb\">\n",
              "    <style>\n",
              "      .colab-df-generate {\n",
              "        background-color: #E8F0FE;\n",
              "        border: none;\n",
              "        border-radius: 50%;\n",
              "        cursor: pointer;\n",
              "        display: none;\n",
              "        fill: #1967D2;\n",
              "        height: 32px;\n",
              "        padding: 0 0 0 0;\n",
              "        width: 32px;\n",
              "      }\n",
              "\n",
              "      .colab-df-generate:hover {\n",
              "        background-color: #E2EBFA;\n",
              "        box-shadow: 0px 1px 2px rgba(60, 64, 67, 0.3), 0px 1px 3px 1px rgba(60, 64, 67, 0.15);\n",
              "        fill: #174EA6;\n",
              "      }\n",
              "\n",
              "      [theme=dark] .colab-df-generate {\n",
              "        background-color: #3B4455;\n",
              "        fill: #D2E3FC;\n",
              "      }\n",
              "\n",
              "      [theme=dark] .colab-df-generate:hover {\n",
              "        background-color: #434B5C;\n",
              "        box-shadow: 0px 1px 3px 1px rgba(0, 0, 0, 0.15);\n",
              "        filter: drop-shadow(0px 1px 2px rgba(0, 0, 0, 0.3));\n",
              "        fill: #FFFFFF;\n",
              "      }\n",
              "    </style>\n",
              "    <button class=\"colab-df-generate\" onclick=\"generateWithVariable('twitter_data')\"\n",
              "            title=\"Generate code using this dataframe.\"\n",
              "            style=\"display:none;\">\n",
              "\n",
              "  <svg xmlns=\"http://www.w3.org/2000/svg\" height=\"24px\"viewBox=\"0 0 24 24\"\n",
              "       width=\"24px\">\n",
              "    <path d=\"M7,19H8.4L18.45,9,17,7.55,7,17.6ZM5,21V16.75L18.45,3.32a2,2,0,0,1,2.83,0l1.4,1.43a1.91,1.91,0,0,1,.58,1.4,1.91,1.91,0,0,1-.58,1.4L9.25,21ZM18.45,9,17,7.55Zm-12,3A5.31,5.31,0,0,0,4.9,8.1,5.31,5.31,0,0,0,1,6.5,5.31,5.31,0,0,0,4.9,4.9,5.31,5.31,0,0,0,6.5,1,5.31,5.31,0,0,0,8.1,4.9,5.31,5.31,0,0,0,12,6.5,5.46,5.46,0,0,0,6.5,12Z\"/>\n",
              "  </svg>\n",
              "    </button>\n",
              "    <script>\n",
              "      (() => {\n",
              "      const buttonEl =\n",
              "        document.querySelector('#id_30d2db6e-5557-4525-b657-494b292452eb button.colab-df-generate');\n",
              "      buttonEl.style.display =\n",
              "        google.colab.kernel.accessAllowed ? 'block' : 'none';\n",
              "\n",
              "      buttonEl.onclick = () => {\n",
              "        google.colab.notebook.generateWithVariable('twitter_data');\n",
              "      }\n",
              "      })();\n",
              "    </script>\n",
              "  </div>\n",
              "\n",
              "    </div>\n",
              "  </div>\n"
            ],
            "application/vnd.google.colaboratory.intrinsic+json": {
              "type": "dataframe",
              "variable_name": "twitter_data"
            }
          },
          "metadata": {},
          "execution_count": 2
        }
      ],
      "source": [
        "\n",
        "twitter_data = pd.read_excel(\"/content/Final_balanced_sentiment_data.xlsx\")\n",
        "\n",
        "twitter_data"
      ]
    },
    {
      "source": [
        "from matplotlib import pyplot as plt\n",
        "twitter_data['sentiment'].plot(kind='hist', bins=20, title='sentiment')\n",
        "plt.gca().spines[['top', 'right',]].set_visible(False)"
      ],
      "cell_type": "code",
      "metadata": {
        "colab": {
          "base_uri": "https://localhost:8080/"
        },
        "id": "lmcthRV2fl10",
        "outputId": "6218c23a-d318-4281-eab1-66bb83bbef9f"
      },
      "execution_count": null,
      "outputs": [
        {
          "output_type": "display_data",
          "data": {
            "text/plain": [
              "<Figure size 640x480 with 1 Axes>"
            ],
            "image/png": "[encoded data removed]"
          },
          "metadata": {}
        }
      ]
    },
    {
      "cell_type": "code",
      "source": [
        "# from google.colab import drive\n",
        "# drive.mount('/content/drive')"
      ],
      "metadata": {
        "id": "AKq0TqwyeS-C"
      },
      "execution_count": null,
      "outputs": []
    },
    {
      "cell_type": "code",
      "execution_count": null,
      "metadata": {
        "id": "elu2E2KjPBJX",
        "colab": {
          "base_uri": "https://localhost:8080/"
        },
        "outputId": "711e9c4b-42dd-44ef-c88c-e0bc2d549f2a"
      },
      "outputs": [
        {
          "output_type": "execute_result",
          "data": {
            "text/plain": [
              "(131361, 2)"
            ]
          },
          "metadata": {},
          "execution_count": 5
        }
      ],
      "source": [
        "# Dataset exploration\n",
        "\n",
        "twitter_data.shape"
      ]
    },
    {
      "cell_type": "code",
      "execution_count": null,
      "metadata": {
        "id": "Ua8sjtdaPIAq",
        "colab": {
          "base_uri": "https://localhost:8080/"
        },
        "outputId": "74ff997c-f4eb-496b-b1bd-de04ea0ce2a0"
      },
      "outputs": [
        {
          "output_type": "execute_result",
          "data": {
            "text/plain": [
              "                                                text  sentiment\n",
              "0  what did just say vote for modi  welcome bjp t...          1\n",
              "1  asking his supporters prefix chowkidar their n...          1\n",
              "2  answer who among these the most powerful world...          1\n",
              "3  with upcoming election india saga going import...          1\n",
              "4                         gandhi was gay does modi            1"
            ],
            "text/html": [
              "\n",
              "  <div id=\"df-5cf4cbb1-8351-433b-ba63-4275fec0b54a\" class=\"colab-df-container\">\n",
              "    <div>\n",
              "<style scoped>\n",
              "    .dataframe tbody tr th:only-of-type {\n",
              "        vertical-align: middle;\n",
              "    }\n",
              "\n",
              "    .dataframe tbody tr th {\n",
              "        vertical-align: top;\n",
              "    }\n",
              "\n",
              "    .dataframe thead th {\n",
              "        text-align: right;\n",
              "    }\n",
              "</style>\n",
              "<table border=\"1\" class=\"dataframe\">\n",
              "  <thead>\n",
              "    <tr style=\"text-align: right;\">\n",
              "      <th></th>\n",
              "      <th>text</th>\n",
              "      <th>sentiment</th>\n",
              "    </tr>\n",
              "  </thead>\n",
              "  <tbody>\n",
              "    <tr>\n",
              "      <th>0</th>\n",
              "      <td>what did just say vote for modi  welcome bjp t...</td>\n",
              "      <td>1</td>\n",
              "    </tr>\n",
              "    <tr>\n",
              "      <th>1</th>\n",
              "      <td>asking his supporters prefix chowkidar their n...</td>\n",
              "      <td>1</td>\n",
              "    </tr>\n",
              "    <tr>\n",
              "      <th>2</th>\n",
              "      <td>answer who among these the most powerful world...</td>\n",
              "      <td>1</td>\n",
              "    </tr>\n",
              "    <tr>\n",
              "      <th>3</th>\n",
              "      <td>with upcoming election india saga going import...</td>\n",
              "      <td>1</td>\n",
              "    </tr>\n",
              "    <tr>\n",
              "      <th>4</th>\n",
              "      <td>gandhi was gay does modi</td>\n",
              "      <td>1</td>\n",
              "    </tr>\n",
              "  </tbody>\n",
              "</table>\n",
              "</div>\n",
              "    <div class=\"colab-df-buttons\">\n",
              "\n",
              "  <div class=\"colab-df-container\">\n",
              "    <button class=\"colab-df-convert\" onclick=\"convertToInteractive('df-5cf4cbb1-8351-433b-ba63-4275fec0b54a')\"\n",
              "            title=\"Convert this dataframe to an interactive table.\"\n",
              "            style=\"display:none;\">\n",
              "\n",
              "  <svg xmlns=\"http://www.w3.org/2000/svg\" height=\"24px\" viewBox=\"0 -960 960 960\">\n",
              "    <path d=\"M120-120v-720h720v720H120Zm60-500h600v-160H180v160Zm220 220h160v-160H400v160Zm0 220h160v-160H400v160ZM180-400h160v-160H180v160Zm440 0h160v-160H620v160ZM180-180h160v-160H180v160Zm440 0h160v-160H620v160Z\"/>\n",
              "  </svg>\n",
              "    </button>\n",
              "\n",
              "  <style>\n",
              "    .colab-df-container {\n",
              "      display:flex;\n",
              "      gap: 12px;\n",
              "    }\n",
              "\n",
              "    .colab-df-convert {\n",
              "      background-color: #E8F0FE;\n",
              "      border: none;\n",
              "      border-radius: 50%;\n",
              "      cursor: pointer;\n",
              "      display: none;\n",
              "      fill: #1967D2;\n",
              "      height: 32px;\n",
              "      padding: 0 0 0 0;\n",
              "      width: 32px;\n",
              "    }\n",
              "\n",
              "    .colab-df-convert:hover {\n",
              "      background-color: #E2EBFA;\n",
              "      box-shadow: 0px 1px 2px rgba(60, 64, 67, 0.3), 0px 1px 3px 1px rgba(60, 64, 67, 0.15);\n",
              "      fill: #174EA6;\n",
              "    }\n",
              "\n",
              "    .colab-df-buttons div {\n",
              "      margin-bottom: 4px;\n",
              "    }\n",
              "\n",
              "    [theme=dark] .colab-df-convert {\n",
              "      background-color: #3B4455;\n",
              "      fill: #D2E3FC;\n",
              "    }\n",
              "\n",
              "    [theme=dark] .colab-df-convert:hover {\n",
              "      background-color: #434B5C;\n",
              "      box-shadow: 0px 1px 3px 1px rgba(0, 0, 0, 0.15);\n",
              "      filter: drop-shadow(0px 1px 2px rgba(0, 0, 0, 0.3));\n",
              "      fill: #FFFFFF;\n",
              "    }\n",
              "  </style>\n",
              "\n",
              "    <script>\n",
              "      const buttonEl =\n",
              "        document.querySelector('#df-5cf4cbb1-8351-433b-ba63-4275fec0b54a button.colab-df-convert');\n",
              "      buttonEl.style.display =\n",
              "        google.colab.kernel.accessAllowed ? 'block' : 'none';\n",
              "\n",
              "      async function convertToInteractive(key) {\n",
              "        const element = document.querySelector('#df-5cf4cbb1-8351-433b-ba63-4275fec0b54a');\n",
              "        const dataTable =\n",
              "          await google.colab.kernel.invokeFunction('convertToInteractive',\n",
              "                                                    [key], {});\n",
              "        if (!dataTable) return;\n",
              "\n",
              "        const docLinkHtml = 'Like what you see? Visit the ' +\n",
              "          '<a target=\"_blank\" href=https://colab.research.google.com/notebooks/data_table.ipynb>data table notebook</a>'\n",
              "          + ' to learn more about interactive tables.';\n",
              "        element.innerHTML = '';\n",
              "        dataTable['output_type'] = 'display_data';\n",
              "        await google.colab.output.renderOutput(dataTable, element);\n",
              "        const docLink = document.createElement('div');\n",
              "        docLink.innerHTML = docLinkHtml;\n",
              "        element.appendChild(docLink);\n",
              "      }\n",
              "    </script>\n",
              "  </div>\n",
              "\n",
              "\n",
              "<div id=\"df-0ff3468a-9ee5-49ba-abda-4cafe1c10c42\">\n",
              "  <button class=\"colab-df-quickchart\" onclick=\"quickchart('df-0ff3468a-9ee5-49ba-abda-4cafe1c10c42')\"\n",
              "            title=\"Suggest charts\"\n",
              "            style=\"display:none;\">\n",
              "\n",
              "<svg xmlns=\"http://www.w3.org/2000/svg\" height=\"24px\"viewBox=\"0 0 24 24\"\n",
              "     width=\"24px\">\n",
              "    <g>\n",
              "        <path d=\"M19 3H5c-1.1 0-2 .9-2 2v14c0 1.1.9 2 2 2h14c1.1 0 2-.9 2-2V5c0-1.1-.9-2-2-2zM9 17H7v-7h2v7zm4 0h-2V7h2v10zm4 0h-2v-4h2v4z\"/>\n",
              "    </g>\n",
              "</svg>\n",
              "  </button>\n",
              "\n",
              "<style>\n",
              "  .colab-df-quickchart {\n",
              "      --bg-color: #E8F0FE;\n",
              "      --fill-color: #1967D2;\n",
              "      --hover-bg-color: #E2EBFA;\n",
              "      --hover-fill-color: #174EA6;\n",
              "      --disabled-fill-color: #AAA;\n",
              "      --disabled-bg-color: #DDD;\n",
              "  }\n",
              "\n",
              "  [theme=dark] .colab-df-quickchart {\n",
              "      --bg-color: #3B4455;\n",
              "      --fill-color: #D2E3FC;\n",
              "      --hover-bg-color: #434B5C;\n",
              "      --hover-fill-color: #FFFFFF;\n",
              "      --disabled-bg-color: #3B4455;\n",
              "      --disabled-fill-color: #666;\n",
              "  }\n",
              "\n",
              "  .colab-df-quickchart {\n",
              "    background-color: var(--bg-color);\n",
              "    border: none;\n",
              "    border-radius: 50%;\n",
              "    cursor: pointer;\n",
              "    display: none;\n",
              "    fill: var(--fill-color);\n",
              "    height: 32px;\n",
              "    padding: 0;\n",
              "    width: 32px;\n",
              "  }\n",
              "\n",
              "  .colab-df-quickchart:hover {\n",
              "    background-color: var(--hover-bg-color);\n",
              "    box-shadow: 0 1px 2px rgba(60, 64, 67, 0.3), 0 1px 3px 1px rgba(60, 64, 67, 0.15);\n",
              "    fill: var(--button-hover-fill-color);\n",
              "  }\n",
              "\n",
              "  .colab-df-quickchart-complete:disabled,\n",
              "  .colab-df-quickchart-complete:disabled:hover {\n",
              "    background-color: var(--disabled-bg-color);\n",
              "    fill: var(--disabled-fill-color);\n",
              "    box-shadow: none;\n",
              "  }\n",
              "\n",
              "  .colab-df-spinner {\n",
              "    border: 2px solid var(--fill-color);\n",
              "    border-color: transparent;\n",
              "    border-bottom-color: var(--fill-color);\n",
              "    animation:\n",
              "      spin 1s steps(1) infinite;\n",
              "  }\n",
              "\n",
              "  @keyframes spin {\n",
              "    0% {\n",
              "      border-color: transparent;\n",
              "      border-bottom-color: var(--fill-color);\n",
              "      border-left-color: var(--fill-color);\n",
              "    }\n",
              "    20% {\n",
              "      border-color: transparent;\n",
              "      border-left-color: var(--fill-color);\n",
              "      border-top-color: var(--fill-color);\n",
              "    }\n",
              "    30% {\n",
              "      border-color: transparent;\n",
              "      border-left-color: var(--fill-color);\n",
              "      border-top-color: var(--fill-color);\n",
              "      border-right-color: var(--fill-color);\n",
              "    }\n",
              "    40% {\n",
              "      border-color: transparent;\n",
              "      border-right-color: var(--fill-color);\n",
              "      border-top-color: var(--fill-color);\n",
              "    }\n",
              "    60% {\n",
              "      border-color: transparent;\n",
              "      border-right-color: var(--fill-color);\n",
              "    }\n",
              "    80% {\n",
              "      border-color: transparent;\n",
              "      border-right-color: var(--fill-color);\n",
              "      border-bottom-color: var(--fill-color);\n",
              "    }\n",
              "    90% {\n",
              "      border-color: transparent;\n",
              "      border-bottom-color: var(--fill-color);\n",
              "    }\n",
              "  }\n",
              "</style>\n",
              "\n",
              "  <script>\n",
              "    async function quickchart(key) {\n",
              "      const quickchartButtonEl =\n",
              "        document.querySelector('#' + key + ' button');\n",
              "      quickchartButtonEl.disabled = true;  // To prevent multiple clicks.\n",
              "      quickchartButtonEl.classList.add('colab-df-spinner');\n",
              "      try {\n",
              "        const charts = await google.colab.kernel.invokeFunction(\n",
              "            'suggestCharts', [key], {});\n",
              "      } catch (error) {\n",
              "        console.error('Error during call to suggestCharts:', error);\n",
              "      }\n",
              "      quickchartButtonEl.classList.remove('colab-df-spinner');\n",
              "      quickchartButtonEl.classList.add('colab-df-quickchart-complete');\n",
              "    }\n",
              "    (() => {\n",
              "      let quickchartButtonEl =\n",
              "        document.querySelector('#df-0ff3468a-9ee5-49ba-abda-4cafe1c10c42 button');\n",
              "      quickchartButtonEl.style.display =\n",
              "        google.colab.kernel.accessAllowed ? 'block' : 'none';\n",
              "    })();\n",
              "  </script>\n",
              "</div>\n",
              "\n",
              "    </div>\n",
              "  </div>\n"
            ],
            "application/vnd.google.colaboratory.intrinsic+json": {
              "type": "dataframe",
              "variable_name": "twitter_data"
            }
          },
          "metadata": {},
          "execution_count": 6
        }
      ],
      "source": [
        "twitter_data.head(5)"
      ]
    },
    {
      "cell_type": "code",
      "execution_count": null,
      "metadata": {
        "id": "CRIDYlo4O8Va",
        "colab": {
          "base_uri": "https://localhost:8080/"
        },
        "outputId": "e4f358c8-8f30-498c-e0ab-56a16eb87a5c"
      },
      "outputs": [
        {
          "output_type": "execute_result",
          "data": {
            "text/plain": [
              "2"
            ]
          },
          "metadata": {},
          "execution_count": 7
        }
      ],
      "source": [
        "# Checking for missing values\n",
        "\n",
        "twitter_data.isnull().values.sum()"
      ]
    },
    {
      "cell_type": "code",
      "source": [
        "# Delete rows with any null values\n",
        "twitter_data = twitter_data.dropna()\n",
        "\n",
        "# Verify that there are no missing values left\n",
        "missing_values_cleaned = twitter_data.isnull().sum()\n",
        "print(missing_values_cleaned)"
      ],
      "metadata": {
        "colab": {
          "base_uri": "https://localhost:8080/"
        },
        "id": "Cpue0Uf8gBTR",
        "outputId": "51abeb95-f1c8-43d5-cabe-061e6cbaf3bc"
      },
      "execution_count": null,
      "outputs": [
        {
          "output_type": "stream",
          "name": "stdout",
          "text": [
            "text         0\n",
            "sentiment    0\n",
            "dtype: int64\n"
          ]
        }
      ]
    },
    {
      "cell_type": "code",
      "execution_count": null,
      "metadata": {
        "id": "ys4A3cAFPSYI",
        "colab": {
          "base_uri": "https://localhost:8080/"
        },
        "outputId": "7f062a02-b9c5-40ea-d3df-8b4911c61b29"
      },
      "outputs": [
        {
          "output_type": "execute_result",
          "data": {
            "text/plain": [
              "<Axes: xlabel='sentiment', ylabel='count'>"
            ]
          },
          "metadata": {},
          "execution_count": 9
        },
        {
          "output_type": "display_data",
          "data": {
            "text/plain": [
              "<Figure size 640x480 with 1 Axes>"
            ],
            "image/png": "[encoded data removed]"
          },
          "metadata": {}
        }
      ],
      "source": [
        "# Let's observe distribution of positive / negative sentiments in dataset\n",
        "\n",
        "import seaborn as sns\n",
        "sns.countplot(x='sentiment', data=twitter_data)"
      ]
    },
    {
      "cell_type": "markdown",
      "metadata": {
        "id": "IAVIsg26PVZC"
      },
      "source": [
        "## Data Preprocessing"
      ]
    },
    {
      "cell_type": "code",
      "execution_count": null,
      "metadata": {
        "id": "PJ6a6aKjPORv",
        "colab": {
          "base_uri": "https://localhost:8080/",
          "height": 36
        },
        "outputId": "bdb45dea-ad32-4b4d-bb18-b10afe1274c2"
      },
      "outputs": [
        {
          "output_type": "execute_result",
          "data": {
            "text/plain": [
              "'answer who among these the most powerful world leader today trump putin modi may '"
            ],
            "application/vnd.google.colaboratory.intrinsic+json": {
              "type": "string"
            }
          },
          "metadata": {},
          "execution_count": 10
        }
      ],
      "source": [
        "twitter_data[\"text\"][2]\n",
        "\n",
        "# You can see that our text contains punctuations, brackets, HTML tags and numbers\n",
        "# We will preprocess this text in the next section"
      ]
    },
    {
      "cell_type": "code",
      "execution_count": null,
      "metadata": {
        "id": "pPFVY9UtPnkY"
      },
      "outputs": [],
      "source": [
        "TAG_RE = re.compile(r'<[^>]+>')\n",
        "\n",
        "def remove_tags(text):\n",
        "    '''Removes HTML tags: replaces anything between opening and closing <> with empty space'''\n",
        "\n",
        "    return TAG_RE.sub('', text)"
      ]
    },
    {
      "cell_type": "code",
      "source": [
        "import nltk\n",
        "nltk.download('stopwords')"
      ],
      "metadata": {
        "id": "D3GyEDf7DwFz",
        "colab": {
          "base_uri": "https://localhost:8080/"
        },
        "outputId": "863edf51-657f-46d9-a968-59cbafde7f42"
      },
      "execution_count": null,
      "outputs": [
        {
          "output_type": "stream",
          "name": "stderr",
          "text": [
            "[nltk_data] Downloading package stopwords to /root/nltk_data...\n",
            "[nltk_data]   Package stopwords is already up-to-date!\n"
          ]
        },
        {
          "output_type": "execute_result",
          "data": {
            "text/plain": [
              "True"
            ]
          },
          "metadata": {},
          "execution_count": 12
        }
      ]
    },
    {
      "cell_type": "code",
      "execution_count": null,
      "metadata": {
        "id": "QBuD9E20PZDb"
      },
      "outputs": [],
      "source": [
        "def preprocess_text(sen):\n",
        "    '''Cleans text data up, leaving only 2 or more char long non-stepwords composed of A-Z & a-z only\n",
        "    in lowercase'''\n",
        "    sentence=sen\n",
        "    # sentence = sen.lower()\n",
        "\n",
        "    # # Remove html tags\n",
        "    # sentence = remove_tags(sentence)\n",
        "\n",
        "    # # Remove punctuations and numbers\n",
        "    # sentence = re.sub('[^a-zA-Z]', ' ', sentence)\n",
        "\n",
        "    # Single character removal\n",
        "    sentence = re.sub(r\"\\s+[a-zA-Z]\\s+\", ' ', sentence)  # When we remove apostrophe from the word \"Mark's\", the apostrophe is replaced by an empty space. Hence, we are left with single character \"s\" that we are removing here.\n",
        "\n",
        "    # Remove multiple spaces\n",
        "    sentence = re.sub(r'\\s+', ' ', sentence)  # Next, we remove all the single characters and replace it by a space which creates multiple spaces in our text. Finally, we remove the multiple spaces from our text as well.\n",
        "\n",
        "    # Remove Stopwords\n",
        "    pattern = re.compile(r'\\b(' + r'|'.join(stopwords.words('english')) + r')\\b\\s*')\n",
        "    sentence = pattern.sub('', sentence)\n",
        "\n",
        "    return sentence"
      ]
    },
    {
      "cell_type": "code",
      "execution_count": null,
      "metadata": {
        "id": "GPSBPltpQDPp"
      },
      "outputs": [],
      "source": [
        "# Calling preprocessing_text function on twitter_data\n",
        "\n",
        "X = []\n",
        "sentences = list(twitter_data['text'])\n",
        "for sen in sentences:\n",
        "    X.append(preprocess_text(sen))"
      ]
    },
    {
      "cell_type": "code",
      "execution_count": null,
      "metadata": {
        "id": "CZXW5YCbQGoW",
        "colab": {
          "base_uri": "https://localhost:8080/",
          "height": 36
        },
        "outputId": "77759f3c-4d8c-4994-8b2a-ff0bda93b5f6"
      },
      "outputs": [
        {
          "output_type": "execute_result",
          "data": {
            "text/plain": [
              "'answer among powerful world leader today trump putin modi may '"
            ],
            "application/vnd.google.colaboratory.intrinsic+json": {
              "type": "string"
            }
          },
          "metadata": {},
          "execution_count": 15
        }
      ],
      "source": [
        "# Sample cleaned up movie review\n",
        "\n",
        "X[2]\n",
        "\n",
        "# As we shall use Word Embeddings, stemming/lemmatization is not performed as a preprocessing step here"
      ]
    },
    {
      "cell_type": "code",
      "execution_count": null,
      "metadata": {
        "id": "-EKC4DJTQKsB"
      },
      "outputs": [],
      "source": [
        "# Converting sentiment labels to 0 & 1\n",
        "\n",
        "y = twitter_data['sentiment']\n",
        "\n",
        "# y = np.array(list(map(lambda x: 1 if x==\"positive\" else 0, y)))"
      ]
    },
    {
      "cell_type": "code",
      "execution_count": null,
      "metadata": {
        "id": "UZPyxSQVQPT_"
      },
      "outputs": [],
      "source": [
        "X_train, X_test, y_train, y_test = train_test_split(X, y, test_size=0.20, random_state=42)\n",
        "\n",
        "# The train set will be used to train our deep learning models\n",
        "# while test set will be used to evaluate how well our model performs"
      ]
    },
    {
      "cell_type": "markdown",
      "metadata": {
        "id": "FsF3k9QbQc5q"
      },
      "source": [
        "## Preparing embedding layer"
      ]
    },
    {
      "cell_type": "markdown",
      "source": [
        "*Embedding* layer converts our textual data into numeric form. It is then **used as the first layer for the deep learning models in Keras**."
      ],
      "metadata": {
        "id": "hv27X0dUcurD"
      }
    },
    {
      "cell_type": "code",
      "source": [
        "# Embedding layer expects the words to be in numeric form\n",
        "# Using Tokenizer function from keras.preprocessing.text library\n",
        "# Method fit_on_text trains the tokenizer\n",
        "# Method texts_to_sequences converts sentences to their numeric form\n",
        "\n",
        "word_tokenizer = Tokenizer()\n",
        "word_tokenizer.fit_on_texts(X_train)\n",
        "\n",
        "X_train = word_tokenizer.texts_to_sequences(X_train)\n",
        "X_test = word_tokenizer.texts_to_sequences(X_test)"
      ],
      "metadata": {
        "id": "kZ5kWzGKeAgc"
      },
      "execution_count": null,
      "outputs": []
    },
    {
      "cell_type": "code",
      "source": [
        "# Adding 1 to store dimensions for words for which no pretrained word embeddings exist\n",
        "\n",
        "vocab_length = len(word_tokenizer.word_index) + 1\n",
        "\n",
        "vocab_length"
      ],
      "metadata": {
        "id": "vn-Rj21reKVm",
        "colab": {
          "base_uri": "https://localhost:8080/"
        },
        "outputId": "87047d00-fcbf-4156-f7b4-8bffade334cd"
      },
      "execution_count": null,
      "outputs": [
        {
          "output_type": "execute_result",
          "data": {
            "text/plain": [
              "88154"
            ]
          },
          "metadata": {},
          "execution_count": 19
        }
      ]
    },
    {
      "cell_type": "code",
      "source": [
        "# Padding all reviews to fixed length 100\n",
        "\n",
        "maxlen = 100\n",
        "\n",
        "X_train = pad_sequences(X_train, padding='post', maxlen=maxlen)\n",
        "X_test = pad_sequences(X_test, padding='post', maxlen=maxlen)"
      ],
      "metadata": {
        "id": "9-QqBAR0hz22"
      },
      "execution_count": null,
      "outputs": []
    },
    {
      "cell_type": "code",
      "source": [
        "# prompt: Donwlnload word to vec word embeddings to create an embeddign dict.\n",
        "import gensim.downloader as api\n",
        "\n",
        "# Download the word2vec model\n",
        "model = api.load(\"word2vec-google-news-300\")\n",
        "\n",
        "# Create an embedding dict\n",
        "embedding_dict = {}\n",
        "# Iterate directly over the model's vocabulary and vectors\n",
        "for word in model.key_to_index:\n",
        "    embedding_dict[word] = model[word]\n"
      ],
      "metadata": {
        "id": "bubBRjs9IQ03"
      },
      "execution_count": null,
      "outputs": []
    },
    {
      "cell_type": "code",
      "source": [
        "# prompt: print the size and first 5 data of embedding dict\n",
        "\n",
        "print(\"Size of embedding_dict:\", len(embedding_dict))\n",
        "print(\"First 5 data of embedding_dict:\")\n",
        "for i in range(5):\n",
        "    print(list(embedding_dict.items())[i])\n",
        "# size of each row =300"
      ],
      "metadata": {
        "colab": {
          "base_uri": "https://localhost:8080/"
        },
        "collapsed": true,
        "id": "zsZooex9gxc0",
        "outputId": "3b03e8c5-9efb-4749-f4ef-770cf2fa2f6f"
      },
      "execution_count": null,
      "outputs": [
        {
          "output_type": "stream",
          "name": "stdout",
          "text": [
            "Size of embedding_dict: 3000000\n",
            "First 5 data of embedding_dict:\n",
            "('</s>', array([ 1.1291504e-03, -8.9645386e-04,  3.1852722e-04,  1.5335083e-03,\n",
            "        1.1062622e-03, -1.4038086e-03, -3.0517578e-05, -4.1961670e-04,\n",
            "       -5.7601929e-04,  1.0757446e-03, -1.0223389e-03, -6.1798096e-04,\n",
            "       -7.5531006e-04,  1.4038086e-03, -1.6403198e-03, -6.3323975e-04,\n",
            "        1.6326904e-03, -1.0070801e-03, -1.2664795e-03,  6.5231323e-04,\n",
            "       -4.1580200e-04, -1.0757446e-03,  1.5258789e-03, -2.7465820e-04,\n",
            "        1.4019012e-04,  1.5716553e-03,  1.3580322e-03, -8.3160400e-04,\n",
            "       -1.4038086e-03,  1.5792847e-03,  2.5367737e-04, -7.3242188e-04,\n",
            "       -1.0538101e-04, -1.1672974e-03,  1.5792847e-03,  6.5612793e-04,\n",
            "       -6.5994263e-04,  2.9206276e-06,  1.1291504e-03,  4.2724609e-04,\n",
            "       -3.7002563e-04, -1.1520386e-03,  1.2664795e-03, -3.5166740e-06,\n",
            "        2.6512146e-04, -4.0245056e-04,  1.4114380e-04, -3.3617020e-05,\n",
            "        7.5912476e-04, -5.1879883e-04, -7.1048737e-05,  6.0272217e-04,\n",
            "       -5.0735474e-04, -1.6250610e-03, -4.3678284e-04, -9.9182129e-04,\n",
            "       -1.2207031e-03, -3.2234192e-04,  6.8664551e-05, -1.1672974e-03,\n",
            "       -5.1116943e-04,  1.4114380e-03,  3.3569336e-04, -4.7492981e-04,\n",
            "       -1.3732910e-03,  3.6621094e-04, -1.4419556e-03, -6.0653687e-04,\n",
            "        8.0108643e-04,  1.1291504e-03, -8.3541870e-04, -1.1596680e-03,\n",
            "        9.1552734e-04,  5.2261353e-04, -3.2806396e-04,  1.5945435e-03,\n",
            "       -1.5792847e-03, -3.5667419e-04,  4.9591064e-04,  1.0147095e-03,\n",
            "       -1.0986328e-03, -1.6593933e-04, -1.4209747e-04, -2.6130676e-04,\n",
            "        1.2588501e-03,  3.8623810e-05,  1.6880035e-04, -1.0299683e-03,\n",
            "        1.6098022e-03,  6.2942505e-04,  4.1770935e-04, -1.3504028e-03,\n",
            "        3.4904480e-04,  1.1444092e-03, -1.2054443e-03, -1.1825562e-03,\n",
            "        9.4985962e-04,  6.0558319e-05,  1.0728836e-05, -6.6757202e-04,\n",
            "        1.2435913e-03,  6.9046021e-04,  5.5551529e-05, -8.6212158e-04,\n",
            "       -1.1672974e-03,  1.2130737e-03, -8.0490112e-04, -8.7738037e-04,\n",
            "        2.2792816e-04, -3.9672852e-04, -8.5830688e-04,  2.8800964e-04,\n",
            "       -1.5869141e-03,  4.8446655e-04, -1.1215210e-03,  1.9669533e-06,\n",
            "       -3.7956238e-04,  7.0571899e-04, -1.5869141e-03,  1.6250610e-03,\n",
            "        1.5563965e-03, -4.3106079e-04,  9.8419189e-04,  9.0408325e-04,\n",
            "       -1.3961792e-03,  1.2054443e-03, -7.0190430e-04,  2.7084351e-04,\n",
            "       -1.2359619e-03,  6.9046021e-04, -8.4304810e-04,  1.3427734e-03,\n",
            "       -1.4343262e-03, -6.7138672e-04,  1.5487671e-03, -1.0986328e-03,\n",
            "        1.1901855e-03, -1.4266968e-03, -6.8283081e-04, -7.8582764e-04,\n",
            "        4.8065186e-04,  4.0817261e-04, -6.3705444e-04,  1.4495850e-04,\n",
            "       -9.7656250e-04,  1.4495850e-03,  8.4564090e-07, -1.6632080e-03,\n",
            "       -3.2806396e-04,  6.2942505e-04, -1.4343262e-03, -3.4141541e-04,\n",
            "        1.1520386e-03, -5.3024292e-04, -4.7111511e-04, -8.5067749e-04,\n",
            "       -1.3809204e-03, -1.2435913e-03, -1.3275146e-03,  1.0757446e-03,\n",
            "        1.3198853e-03, -3.0326843e-04, -3.7431717e-05,  1.1825562e-03,\n",
            "       -1.3580322e-03, -1.0452271e-03,  5.6743622e-05, -1.0147095e-03,\n",
            "        4.3296814e-04, -1.5716553e-03, -9.1075897e-05,  1.0604858e-03,\n",
            "       -6.0272217e-04, -1.5335083e-03, -1.5335083e-03,  5.4168701e-04,\n",
            "        1.3351440e-03,  4.1198730e-04, -3.1089783e-04,  1.7642975e-04,\n",
            "       -1.3732910e-04, -6.9808960e-04, -8.6212158e-04, -1.0833740e-03,\n",
            "       -2.9802322e-05,  8.0108643e-04,  6.7901611e-04,  3.3569336e-04,\n",
            "       -1.3885498e-03,  1.3504028e-03,  2.3460388e-04, -1.3351440e-03,\n",
            "       -8.7356567e-04, -7.4386597e-04,  1.0833740e-03,  6.0558319e-05,\n",
            "       -1.2664795e-03,  1.1901855e-03, -6.2179565e-04,  1.3597310e-07,\n",
            "        1.2741089e-03, -9.8419189e-04, -1.5487671e-03,  1.5563965e-03,\n",
            "       -1.3122559e-03, -7.9345703e-04,  1.5335083e-03,  1.2969971e-03,\n",
            "       -1.8024445e-04,  9.1934204e-04,  1.2054443e-03,  7.7056885e-04,\n",
            "       -1.6555786e-03,  7.7056885e-04,  1.4495850e-03, -1.3046265e-03,\n",
            "        6.1035156e-04,  6.5994263e-04,  1.2588501e-03,  1.4190674e-03,\n",
            "       -1.2207031e-03, -1.5106201e-03,  1.1291504e-03,  1.3427734e-03,\n",
            "        1.6632080e-03, -5.7220459e-04, -5.5694580e-04,  3.9863586e-04,\n",
            "       -2.7084351e-04,  4.9591064e-04,  1.6098022e-03, -7.0571899e-04,\n",
            "        6.2561035e-04, -9.7656250e-04, -1.8978119e-04,  9.5367432e-05,\n",
            "       -5.1879883e-04, -2.0408630e-04, -8.2778931e-04, -1.2302399e-04,\n",
            "        7.6293945e-04,  3.2234192e-04, -1.2435913e-03,  9.9182129e-04,\n",
            "        1.0604858e-03, -1.4114380e-03,  9.6797943e-05, -1.5563965e-03,\n",
            "        2.1934509e-04, -5.5313110e-05, -9.1171265e-04, -1.4877319e-03,\n",
            "        1.3656616e-03, -8.4304810e-04, -4.1961670e-04,  3.2424927e-04,\n",
            "       -1.0070801e-03,  1.2588501e-04, -4.5585632e-04,  1.9264221e-04,\n",
            "       -2.6893616e-04,  1.4953613e-03, -1.5869141e-03,  5.9127808e-04,\n",
            "       -1.4648438e-03,  9.6511841e-04, -1.2817383e-03,  1.6021729e-03,\n",
            "        1.0910034e-03, -1.3122559e-03,  1.0910034e-03, -5.1116943e-04,\n",
            "        3.4523010e-04,  1.0452271e-03, -2.0694733e-04,  9.0408325e-04,\n",
            "        6.6757202e-04,  1.1062622e-03, -8.7356567e-04, -3.7574768e-04,\n",
            "       -2.5749207e-04, -9.1552734e-05,  1.4343262e-03, -1.1825562e-03,\n",
            "       -8.7261200e-05,  1.3275146e-03, -1.5830994e-04,  1.2893677e-03,\n",
            "       -9.8419189e-04, -5.4931641e-04, -1.5487671e-03,  1.3732910e-03,\n",
            "       -6.0796738e-05, -8.2397461e-04,  1.3275146e-03,  1.1596680e-03,\n",
            "        5.6838989e-04, -1.5640259e-03, -1.2302399e-04, -8.6307526e-05],\n",
            "      dtype=float32))\n",
            "('in', array([ 0.0703125 ,  0.08691406,  0.08789062,  0.0625    ,  0.06933594,\n",
            "       -0.10888672, -0.08154297, -0.15429688,  0.02075195,  0.13183594,\n",
            "       -0.11376953, -0.03735352,  0.06933594,  0.078125  , -0.10302734,\n",
            "       -0.09765625,  0.04418945,  0.10253906, -0.06079102, -0.03613281,\n",
            "       -0.04541016,  0.04736328, -0.12060547, -0.06396484,  0.0022583 ,\n",
            "        0.03710938, -0.00291443,  0.11767578,  0.06176758,  0.06396484,\n",
            "        0.08105469, -0.06884766, -0.0213623 ,  0.05517578, -0.08544922,\n",
            "        0.06884766, -0.12792969, -0.03320312,  0.09863281,  0.17578125,\n",
            "        0.11083984, -0.03466797, -0.04711914, -0.00848389,  0.03588867,\n",
            "        0.10302734,  0.02697754, -0.02868652, -0.00512695,  0.10644531,\n",
            "        0.05981445,  0.09423828,  0.03369141, -0.02709961, -0.09423828,\n",
            "        0.00102997, -0.04833984,  0.03442383,  0.08105469, -0.11328125,\n",
            "       -0.08886719,  0.03588867, -0.14550781, -0.24414062, -0.06152344,\n",
            "        0.05297852,  0.05688477,  0.1796875 ,  0.06103516,  0.08691406,\n",
            "        0.12402344, -0.0402832 ,  0.02258301,  0.17773438, -0.02966309,\n",
            "       -0.02966309,  0.1171875 ,  0.03112793, -0.09619141,  0.06640625,\n",
            "        0.00469971, -0.08007812,  0.06298828, -0.02062988, -0.0546875 ,\n",
            "       -0.13574219, -0.06347656,  0.08349609, -0.06396484,  0.02148438,\n",
            "        0.07714844, -0.03710938, -0.03369141, -0.18359375, -0.07275391,\n",
            "        0.01586914,  0.09326172, -0.06152344, -0.01422119, -0.00344849,\n",
            "        0.0111084 , -0.15820312, -0.01708984,  0.00619507, -0.00872803,\n",
            "       -0.08056641, -0.01525879, -0.08789062,  0.003479  , -0.01611328,\n",
            "       -0.0123291 ,  0.09765625, -0.13964844, -0.0859375 , -0.02685547,\n",
            "        0.05395508,  0.1328125 ,  0.11279297,  0.12109375,  0.08544922,\n",
            "       -0.0071106 ,  0.04467773, -0.14550781, -0.00320435, -0.11767578,\n",
            "       -0.06542969,  0.07128906, -0.09423828, -0.03027344,  0.12011719,\n",
            "        0.08007812, -0.09472656, -0.16210938, -0.07763672,  0.02124023,\n",
            "       -0.08154297,  0.00393677, -0.15722656, -0.09814453,  0.03979492,\n",
            "        0.03930664, -0.00909424,  0.10302734,  0.06787109, -0.04272461,\n",
            "        0.06347656, -0.04907227,  0.02087402, -0.16699219,  0.09326172,\n",
            "        0.09375   ,  0.00686646,  0.05371094,  0.05249023, -0.02441406,\n",
            "       -0.0324707 , -0.06152344, -0.0055542 ,  0.09619141,  0.0378418 ,\n",
            "        0.01220703, -0.04394531, -0.00747681,  0.10546875,  0.02038574,\n",
            "        0.14550781,  0.08203125,  0.00576782,  0.00457764, -0.09277344,\n",
            "       -0.13867188, -0.05737305, -0.05151367, -0.13085938, -0.13964844,\n",
            "       -0.02050781, -0.02709961,  0.03271484,  0.10498047, -0.00233459,\n",
            "       -0.02258301,  0.00050354, -0.11083984,  0.08496094, -0.12988281,\n",
            "       -0.01745605, -0.00035858,  0.10791016,  0.08886719,  0.04467773,\n",
            "        0.02514648,  0.02380371,  0.08105469,  0.02368164, -0.10986328,\n",
            "        0.00537109, -0.0177002 , -0.03393555, -0.03295898, -0.1640625 ,\n",
            "        0.09570312, -0.01831055,  0.00531006, -0.03442383, -0.04418945,\n",
            "       -0.06640625, -0.01794434, -0.02966309, -0.00759888, -0.05126953,\n",
            "       -0.05419922,  0.08935547, -0.07177734,  0.01525879, -0.08251953,\n",
            "       -0.03173828,  0.03564453, -0.02124023, -0.05932617, -0.01306152,\n",
            "        0.046875  ,  0.02307129,  0.02099609, -0.07861328, -0.00805664,\n",
            "        0.01953125, -0.0055542 ,  0.04150391,  0.02783203,  0.01361084,\n",
            "        0.03466797, -0.18261719,  0.12011719,  0.07421875, -0.04101562,\n",
            "       -0.00994873,  0.04296875, -0.0072937 ,  0.12304688,  0.05761719,\n",
            "       -0.0534668 , -0.03222656, -0.00909424, -0.04663086,  0.04394531,\n",
            "       -0.05078125,  0.06884766,  0.00299072, -0.00418091, -0.04418945,\n",
            "        0.07373047, -0.01275635,  0.06738281,  0.00628662,  0.07519531,\n",
            "       -0.0378418 ,  0.00488281,  0.04467773, -0.06738281,  0.00970459,\n",
            "        0.00473022,  0.02050781,  0.07128906,  0.17089844,  0.17382812,\n",
            "        0.05566406,  0.09130859, -0.03735352,  0.04980469, -0.03930664,\n",
            "        0.04418945,  0.0625    ,  0.04858398, -0.05322266,  0.04882812,\n",
            "       -0.13085938, -0.02893066, -0.03613281, -0.06079102, -0.05737305,\n",
            "        0.12304688, -0.08251953, -0.01190186,  0.125     ,  0.00135803,\n",
            "        0.06396484, -0.10644531, -0.14355469, -0.04223633,  0.02404785,\n",
            "       -0.16894531, -0.08886719, -0.08056641,  0.06494141,  0.0612793 ,\n",
            "       -0.04736328, -0.05883789, -0.04760742,  0.01446533, -0.0625    ],\n",
            "      dtype=float32))\n",
            "('for', array([-1.17797852e-02, -4.73632812e-02,  4.46777344e-02,  6.34765625e-02,\n",
            "       -1.81884766e-02, -6.39648438e-02, -1.31225586e-03, -7.22656250e-02,\n",
            "        6.44531250e-02,  8.64257812e-02, -1.69921875e-01, -3.97949219e-02,\n",
            "        7.12890625e-02, -2.58789062e-02,  1.81884766e-02,  1.36718750e-01,\n",
            "        1.44531250e-01, -3.36914062e-02, -9.76562500e-02, -1.20117188e-01,\n",
            "       -7.95898438e-02,  6.25000000e-02, -6.68945312e-02,  7.42187500e-02,\n",
            "        2.27050781e-02,  3.34472656e-02, -1.80664062e-01,  5.20019531e-02,\n",
            "        1.38549805e-02,  9.27734375e-02,  3.50952148e-03, -9.09423828e-03,\n",
            "       -9.71679688e-02,  6.78710938e-02, -8.78906250e-03,  4.41894531e-02,\n",
            "       -1.33789062e-01, -9.96093750e-02,  3.32031250e-02,  2.79541016e-02,\n",
            "        1.55273438e-01, -1.77001953e-02,  1.42822266e-02, -1.09863281e-01,\n",
            "       -8.54492188e-02, -7.32421875e-02, -2.46582031e-02,  1.72851562e-01,\n",
            "        6.17675781e-02,  8.93554688e-02, -2.42919922e-02,  1.41601562e-01,\n",
            "       -3.29589844e-02,  2.74658203e-02, -1.55273438e-01,  7.87353516e-03,\n",
            "       -7.08007812e-02,  4.37011719e-02,  6.01196289e-03, -5.59082031e-02,\n",
            "       -1.47460938e-01,  2.84423828e-02, -1.32812500e-01, -1.76757812e-01,\n",
            "       -9.13085938e-02, -5.07812500e-02, -2.60009766e-02, -1.48437500e-01,\n",
            "       -8.05664062e-02,  1.50390625e-01, -4.34570312e-02,  7.91015625e-02,\n",
            "        3.32031250e-02,  9.03320312e-02,  2.27050781e-02, -6.25000000e-02,\n",
            "        1.64062500e-01,  8.59375000e-02, -1.23901367e-02,  1.96289062e-01,\n",
            "       -6.22558594e-02,  2.24609375e-02, -3.01513672e-02,  2.12402344e-02,\n",
            "        3.32641602e-03, -5.54199219e-02, -7.32421875e-02,  2.97851562e-02,\n",
            "        4.98046875e-02,  1.74560547e-02,  1.04492188e-01,  3.88183594e-02,\n",
            "        8.49609375e-02, -2.48046875e-01,  6.93359375e-02, -1.49414062e-01,\n",
            "        5.83496094e-02,  9.57031250e-02, -3.34472656e-02,  6.29882812e-02,\n",
            "        2.13623047e-02, -1.45507812e-01,  5.37109375e-02, -9.08203125e-02,\n",
            "       -2.53906250e-02,  4.54101562e-02,  5.31005859e-03, -1.15722656e-01,\n",
            "       -1.95312500e-02,  1.21093750e-01,  3.22265625e-02,  9.47265625e-02,\n",
            "       -6.44531250e-02,  2.27050781e-02,  1.20605469e-01,  6.03027344e-02,\n",
            "        1.20605469e-01,  4.88281250e-02,  9.32617188e-02,  6.68945312e-02,\n",
            "        2.92968750e-02, -3.41796875e-02, -1.11328125e-01,  5.34667969e-02,\n",
            "       -2.56347656e-02,  1.78222656e-02,  6.22558594e-02, -2.58789062e-02,\n",
            "        1.45507812e-01,  6.25000000e-02,  1.07910156e-01, -1.63085938e-01,\n",
            "       -9.76562500e-02, -1.05957031e-01, -8.54492188e-02, -8.88671875e-02,\n",
            "        1.01074219e-01, -7.95898438e-02,  8.42285156e-03,  2.40478516e-02,\n",
            "        1.30859375e-01,  5.12695312e-02,  8.15429688e-02,  9.37500000e-02,\n",
            "       -5.85937500e-02, -9.66796875e-02, -2.83203125e-02, -1.45507812e-01,\n",
            "       -1.47460938e-01,  1.45507812e-01, -1.75781250e-02,  3.29589844e-02,\n",
            "       -8.54492188e-02, -1.09863281e-02, -3.71093750e-02, -1.36718750e-02,\n",
            "        3.58886719e-02, -8.23974609e-03,  5.02929688e-02, -9.47265625e-02,\n",
            "        4.78515625e-02,  2.07519531e-02,  3.06396484e-02,  1.29882812e-01,\n",
            "        5.27343750e-02,  1.87988281e-02, -1.75781250e-02,  3.49121094e-02,\n",
            "        1.83105469e-02, -9.88769531e-03, -1.84570312e-01, -8.98437500e-02,\n",
            "       -2.90527344e-02, -6.07910156e-02, -5.12695312e-02, -2.36511230e-03,\n",
            "        6.64062500e-02, -8.25195312e-02, -4.00390625e-02,  9.61914062e-02,\n",
            "       -1.54296875e-01, -1.53320312e-01,  2.83203125e-02,  1.31225586e-02,\n",
            "        2.99072266e-02, -1.21459961e-02, -9.66796875e-02,  2.47802734e-02,\n",
            "        1.93359375e-01,  1.30004883e-02,  2.41699219e-02, -3.58886719e-02,\n",
            "        9.86328125e-02, -9.66796875e-02, -2.00195312e-01, -1.37939453e-02,\n",
            "        8.59375000e-02, -8.00781250e-02, -1.76757812e-01, -1.74804688e-01,\n",
            "        5.12695312e-03, -3.49121094e-02, -5.46875000e-02,  9.37500000e-02,\n",
            "       -9.32617188e-02, -1.19628906e-02, -5.64575195e-04,  9.76562500e-02,\n",
            "        2.47802734e-02, -3.97949219e-02,  9.76562500e-03,  1.18164062e-01,\n",
            "        2.57568359e-02,  1.23046875e-01,  6.44531250e-02,  7.08007812e-02,\n",
            "        2.92968750e-02, -4.95605469e-02, -7.81250000e-02,  2.89306641e-02,\n",
            "        4.56542969e-02, -4.29687500e-02,  2.58789062e-02, -5.17578125e-02,\n",
            "        1.40625000e-01,  4.27246094e-03, -3.78417969e-02,  2.74658203e-02,\n",
            "        6.00585938e-02,  2.83203125e-02,  2.80761719e-02, -3.66210938e-02,\n",
            "        1.30859375e-01, -9.67979431e-05, -6.93359375e-02, -2.20947266e-02,\n",
            "        6.78710938e-02, -2.33154297e-02, -1.53198242e-02, -5.83496094e-02,\n",
            "        6.10351562e-02,  6.44683838e-04,  3.99780273e-03, -7.12890625e-02,\n",
            "        9.17968750e-02,  2.62451172e-02,  2.00195312e-02,  3.54003906e-02,\n",
            "       -5.78613281e-02, -2.96630859e-02,  2.73437500e-02,  2.51464844e-02,\n",
            "        6.03027344e-02,  1.31835938e-01, -4.36401367e-03,  2.73132324e-03,\n",
            "        5.98144531e-02,  9.86328125e-02, -9.17968750e-02, -4.58984375e-02,\n",
            "       -1.74560547e-02,  3.83300781e-02, -1.91650391e-02,  4.63867188e-02,\n",
            "        4.78515625e-02,  9.81445312e-02, -4.02832031e-02,  9.42382812e-02,\n",
            "       -3.46679688e-02, -4.22363281e-02,  7.03125000e-02, -1.36718750e-02,\n",
            "        1.06445312e-01,  1.64794922e-02,  1.31835938e-01, -1.69372559e-03,\n",
            "       -8.48388672e-03, -1.42578125e-01, -4.66308594e-02, -1.09863281e-01,\n",
            "        8.20312500e-02, -4.10156250e-02, -1.89208984e-02,  8.78906250e-02,\n",
            "       -2.80761719e-03,  2.38281250e-01, -4.71191406e-02, -2.29492188e-02,\n",
            "        4.07714844e-02,  2.92968750e-02, -2.25830078e-02,  3.72314453e-03,\n",
            "       -8.25195312e-02,  8.15429688e-02,  7.93457031e-03,  4.76837158e-04,\n",
            "        1.84326172e-02,  7.12890625e-02, -3.49121094e-02,  2.41699219e-02],\n",
            "      dtype=float32))\n",
            "('that', array([-1.57470703e-02, -2.83203125e-02,  8.34960938e-02,  5.02929688e-02,\n",
            "       -1.10351562e-01,  3.17382812e-02, -1.42211914e-02, -8.98437500e-02,\n",
            "        1.17675781e-01,  1.18164062e-01, -7.17773438e-02, -7.71484375e-02,\n",
            "       -6.88476562e-02,  7.71484375e-02, -1.38671875e-01,  6.50024414e-03,\n",
            "        1.09863281e-02, -1.51367188e-02, -9.61303711e-04, -3.02734375e-02,\n",
            "       -1.58309937e-04,  3.83300781e-02, -2.41699219e-02, -4.58984375e-02,\n",
            "        9.47265625e-02, -5.51757812e-02, -6.49414062e-02,  6.10351562e-03,\n",
            "        8.54492188e-04,  6.20117188e-02, -5.44433594e-02,  1.40991211e-02,\n",
            "        2.22167969e-02, -4.49218750e-02,  1.11328125e-01, -3.85742188e-02,\n",
            "        5.12695312e-02,  2.51464844e-02,  1.69677734e-02,  6.29882812e-02,\n",
            "        1.37695312e-01,  1.35742188e-01,  6.54296875e-02, -6.44531250e-02,\n",
            "       -2.40478516e-02, -1.33666992e-02, -3.71093750e-02,  4.30297852e-03,\n",
            "       -1.57470703e-02,  1.90429688e-02,  1.08398438e-01,  4.46777344e-02,\n",
            "       -4.49218750e-02, -9.52148438e-02,  8.69140625e-02,  8.20312500e-02,\n",
            "        6.83593750e-03, -1.31835938e-01,  2.73132324e-03, -7.56835938e-02,\n",
            "        2.24609375e-02,  1.71875000e-01, -4.85839844e-02,  3.83300781e-02,\n",
            "       -8.83789062e-02, -1.72119141e-02,  2.18505859e-02,  1.33789062e-01,\n",
            "        1.06811523e-02,  4.98046875e-02,  3.80859375e-02, -5.24902344e-03,\n",
            "        6.12792969e-02, -5.00488281e-02, -1.05957031e-01,  5.56640625e-02,\n",
            "        1.54296875e-01,  1.70898438e-01,  4.80957031e-02,  1.26953125e-01,\n",
            "        8.15429688e-02, -1.01562500e-01,  4.39453125e-02, -1.35498047e-02,\n",
            "       -1.33789062e-01, -1.57226562e-01,  2.42919922e-02,  2.08984375e-01,\n",
            "       -1.02050781e-01, -9.37500000e-02,  4.85839844e-02,  7.51953125e-02,\n",
            "        3.52478027e-03, -1.23535156e-01, -2.41699219e-02, -1.31988525e-03,\n",
            "        3.83300781e-02,  7.59887695e-03,  1.77001953e-02,  4.37011719e-02,\n",
            "       -9.81445312e-02, -5.81054688e-02,  1.40991211e-02,  4.10156250e-02,\n",
            "       -3.54003906e-02, -2.29492188e-02, -1.30859375e-01, -1.44531250e-01,\n",
            "        2.89306641e-02, -1.22558594e-01, -7.12890625e-02, -7.14111328e-03,\n",
            "       -9.66796875e-02,  5.85937500e-02,  1.04003906e-01,  2.63671875e-02,\n",
            "        7.56835938e-03,  3.61328125e-02,  4.02832031e-02,  5.27343750e-02,\n",
            "       -2.04101562e-01, -3.34472656e-02, -2.90527344e-02,  3.17382812e-02,\n",
            "       -1.23535156e-01, -6.73828125e-02,  1.58691406e-02, -8.64257812e-02,\n",
            "        1.25122070e-02, -6.29882812e-02, -1.20605469e-01,  2.34375000e-02,\n",
            "       -1.31835938e-01, -1.18164062e-01, -1.21459961e-02, -1.09863281e-01,\n",
            "        9.52148438e-02, -4.19921875e-02,  1.83105469e-02,  5.17578125e-02,\n",
            "        1.49536133e-02, -1.59179688e-01, -2.17285156e-02, -5.12695312e-03,\n",
            "        3.58886719e-02, -3.03649902e-03, -7.81250000e-02, -5.12695312e-02,\n",
            "       -7.41577148e-03,  8.74023438e-02, -2.39257812e-02,  4.41894531e-02,\n",
            "       -1.13769531e-01,  2.14843750e-02, -3.82995605e-03, -4.34570312e-02,\n",
            "       -1.04003906e-01, -1.85546875e-01, -4.49218750e-02,  4.49218750e-02,\n",
            "       -4.44335938e-02,  1.90429688e-02, -2.09960938e-02,  1.34887695e-02,\n",
            "        1.52587891e-02, -3.03955078e-02,  4.66308594e-02,  1.02539062e-01,\n",
            "       -1.38549805e-02,  8.23974609e-03, -5.27343750e-02,  1.96533203e-02,\n",
            "       -7.61718750e-02, -8.98437500e-02,  4.39453125e-02,  7.93457031e-03,\n",
            "        1.26342773e-02, -1.08398438e-01, -1.85546875e-02, -1.04492188e-01,\n",
            "       -1.52343750e-01, -7.91015625e-02, -2.88085938e-02, -1.86767578e-02,\n",
            "        9.71679688e-02, -8.36181641e-03, -3.54003906e-02,  7.53784180e-03,\n",
            "        5.81054688e-02,  8.20312500e-02,  2.88085938e-02,  5.10253906e-02,\n",
            "        3.17382812e-03, -1.85546875e-02,  1.49536133e-02, -7.27539062e-02,\n",
            "       -3.41796875e-02,  4.39453125e-02, -4.88281250e-02, -1.61132812e-01,\n",
            "        2.56347656e-02,  3.66210938e-02, -1.53541565e-04, -1.25885010e-03,\n",
            "       -3.97949219e-02, -3.22265625e-02, -1.57470703e-02,  6.07910156e-02,\n",
            "        9.71679688e-02, -1.50146484e-02, -3.36914062e-02, -1.53198242e-02,\n",
            "        4.66918945e-03,  3.29589844e-02, -8.20312500e-02,  1.06445312e-01,\n",
            "        1.54296875e-01,  8.78906250e-03, -1.20117188e-01,  6.12792969e-02,\n",
            "        5.85937500e-02,  3.88183594e-02, -1.59912109e-02, -4.39453125e-02,\n",
            "        1.20117188e-01, -7.51953125e-02,  1.25000000e-01,  3.51562500e-02,\n",
            "        7.27539062e-02,  8.74023438e-02,  2.11181641e-02, -7.37304688e-02,\n",
            "        3.44238281e-02, -9.42382812e-02,  1.15966797e-02, -5.71289062e-02,\n",
            "       -7.86132812e-02,  1.59912109e-02,  7.56835938e-02,  3.05175781e-02,\n",
            "        4.60815430e-03, -1.45507812e-01, -2.47802734e-02, -1.07910156e-01,\n",
            "        6.88476562e-02,  5.81054688e-02,  1.25000000e-01, -6.54296875e-02,\n",
            "        5.27954102e-03,  1.18408203e-02,  6.98242188e-02,  1.26953125e-01,\n",
            "        6.54296875e-02, -1.73339844e-02,  1.19140625e-01, -3.24707031e-02,\n",
            "        1.44531250e-01,  7.66601562e-02, -3.22265625e-02, -6.59179688e-02,\n",
            "        6.29882812e-02, -6.25000000e-02, -9.61914062e-02,  1.06445312e-01,\n",
            "       -3.97949219e-02,  1.16210938e-01, -9.70458984e-03, -3.54003906e-02,\n",
            "       -6.54296875e-02,  5.88378906e-02,  1.62109375e-01,  5.12695312e-02,\n",
            "        1.59179688e-01,  9.52148438e-02,  7.61718750e-02, -9.17968750e-02,\n",
            "        2.51464844e-02, -7.86132812e-02,  8.93554688e-02, -5.85937500e-02,\n",
            "       -4.00390625e-02,  4.58984375e-02,  3.10058594e-02,  3.90625000e-02,\n",
            "        3.56445312e-02, -1.05957031e-01, -3.71093750e-02, -1.61132812e-01,\n",
            "        2.13623047e-02,  1.22070312e-03, -1.12915039e-02, -1.56250000e-02,\n",
            "       -3.34472656e-02, -2.06298828e-02, -1.94091797e-02,  6.39648438e-02,\n",
            "        2.01416016e-02,  6.86645508e-03,  6.10351562e-02, -1.48437500e-01],\n",
            "      dtype=float32))\n",
            "('is', array([ 0.00704956, -0.07324219,  0.171875  ,  0.02258301, -0.1328125 ,\n",
            "        0.19824219,  0.11279297, -0.10791016,  0.07177734,  0.02087402,\n",
            "       -0.12304688, -0.05908203,  0.10107422,  0.01074219,  0.14355469,\n",
            "        0.25976562, -0.03637695,  0.18554688, -0.07861328, -0.02270508,\n",
            "       -0.12060547,  0.17773438,  0.04956055,  0.01721191,  0.07958984,\n",
            "       -0.0456543 , -0.18847656,  0.18945312, -0.02319336,  0.06298828,\n",
            "        0.09765625, -0.01904297, -0.07910156,  0.15234375,  0.17382812,\n",
            "        0.1015625 , -0.16308594,  0.11474609,  0.10058594, -0.09277344,\n",
            "        0.109375  ,  0.05883789, -0.02160645,  0.06347656,  0.04199219,\n",
            "       -0.0088501 ,  0.03222656,  0.10644531,  0.06445312, -0.11865234,\n",
            "        0.03051758,  0.06689453,  0.12207031, -0.08300781,  0.171875  ,\n",
            "        0.07861328,  0.09521484, -0.00778198,  0.02319336,  0.0234375 ,\n",
            "       -0.0168457 ,  0.15527344, -0.10986328, -0.17675781, -0.11621094,\n",
            "        0.0234375 , -0.01062012,  0.05273438, -0.13378906,  0.07958984,\n",
            "        0.07373047,  0.04394531,  0.11523438, -0.02062988,  0.07470703,\n",
            "       -0.01153564,  0.08056641,  0.04174805,  0.08007812,  0.3515625 ,\n",
            "        0.09667969, -0.21289062,  0.16503906, -0.078125  ,  0.06982422,\n",
            "       -0.00139618, -0.09130859,  0.12988281,  0.25195312, -0.01611328,\n",
            "        0.09326172, -0.14648438, -0.00151062, -0.15136719, -0.02685547,\n",
            "       -0.15722656,  0.02636719,  0.0859375 ,  0.07177734,  0.07714844,\n",
            "       -0.0390625 ,  0.05444336, -0.12792969,  0.09130859, -0.18457031,\n",
            "       -0.03759766, -0.0279541 , -0.08984375, -0.11669922, -0.09863281,\n",
            "        0.0480957 , -0.16210938, -0.10888672,  0.08496094, -0.0456543 ,\n",
            "        0.15820312, -0.03808594, -0.08203125,  0.203125  ,  0.08642578,\n",
            "        0.06933594,  0.03222656, -0.16015625,  0.09472656, -0.0246582 ,\n",
            "        0.05419922,  0.0279541 ,  0.04492188,  0.16992188,  0.07275391,\n",
            "       -0.03637695, -0.01025391, -0.01708984, -0.10742188, -0.0007019 ,\n",
            "       -0.07373047,  0.25390625,  0.05664062,  0.03515625, -0.00860596,\n",
            "        0.18554688,  0.02148438,  0.26367188, -0.02380371, -0.09912109,\n",
            "       -0.04125977, -0.06933594, -0.11376953,  0.05004883, -0.05883789,\n",
            "        0.04614258,  0.08740234,  0.10546875,  0.10644531,  0.0279541 ,\n",
            "        0.09472656,  0.11621094, -0.17285156, -0.03491211, -0.20800781,\n",
            "        0.05957031,  0.10400391, -0.00179291,  0.05859375, -0.02978516,\n",
            "       -0.03759766,  0.04858398, -0.06396484,  0.07958984,  0.06933594,\n",
            "       -0.10498047, -0.14453125,  0.04345703, -0.06884766, -0.03564453,\n",
            "       -0.01171875,  0.01367188, -0.06591797,  0.11914062,  0.03125   ,\n",
            "       -0.04638672, -0.00196838,  0.00735474, -0.05664062,  0.02783203,\n",
            "        0.08251953, -0.01348877,  0.07177734,  0.14453125,  0.12792969,\n",
            "        0.04223633,  0.14160156, -0.01806641,  0.02160645, -0.09179688,\n",
            "        0.13378906, -0.1953125 , -0.05029297, -0.0378418 , -0.09619141,\n",
            "        0.10302734, -0.10693359, -0.14746094,  0.09960938, -0.23046875,\n",
            "        0.22753906, -0.07519531,  0.06494141,  0.09179688,  0.046875  ,\n",
            "        0.06298828,  0.06982422,  0.04614258,  0.09716797, -0.20214844,\n",
            "        0.19921875,  0.18652344, -0.11962891, -0.14257812,  0.15039062,\n",
            "       -0.03369141, -0.14550781, -0.00069046, -0.07324219,  0.13378906,\n",
            "        0.03564453, -0.02294922,  0.02770996, -0.07910156,  0.20703125,\n",
            "       -0.08349609, -0.04956055,  0.03149414,  0.1484375 ,  0.05566406,\n",
            "       -0.04492188, -0.07958984,  0.00476074, -0.02075195,  0.06005859,\n",
            "        0.00476074,  0.01116943,  0.17285156, -0.13476562,  0.03076172,\n",
            "       -0.07958984,  0.09033203,  0.06103516,  0.07714844, -0.05029297,\n",
            "       -0.09228516, -0.26757812,  0.10791016,  0.0859375 ,  0.06298828,\n",
            "        0.10791016, -0.0267334 ,  0.10205078, -0.12060547,  0.05297852,\n",
            "        0.09472656, -0.16503906,  0.04418945,  0.07226562,  0.04125977,\n",
            "        0.42578125, -0.10302734, -0.16015625, -0.09033203, -0.06396484,\n",
            "       -0.0480957 ,  0.14453125,  0.06542969,  0.04931641,  0.05419922,\n",
            "        0.13574219, -0.01928711, -0.21582031, -0.07421875, -0.14648438,\n",
            "        0.01147461, -0.16503906, -0.10498047,  0.00320435,  0.13476562,\n",
            "       -0.00396729, -0.10351562, -0.13964844,  0.10449219, -0.01257324,\n",
            "       -0.23339844, -0.03637695, -0.09375   ,  0.18261719,  0.02709961,\n",
            "        0.12792969, -0.02478027,  0.01123047,  0.1640625 ,  0.10693359],\n",
            "      dtype=float32))\n"
          ]
        }
      ]
    },
    {
      "cell_type": "code",
      "source": [
        "#  Instead of using Glove as word embedding here use the word to vec as the word embeddign\n",
        "\n",
        "import numpy as np\n",
        "import gensim\n",
        "from gensim.models import Word2Vec\n",
        "\n",
        "# Create Embedding Matrix having 100 columns\n",
        "# Containing 100-dimensional wordtovec word embeddings for all words in our corpus.\n",
        "\n",
        "embedding_matrix = np.zeros((vocab_length, 300))\n",
        "for word, index in word_tokenizer.word_index.items():\n",
        "    embedding_vector = embedding_dict.get(word)\n",
        "    if embedding_vector is not None:\n",
        "        embedding_matrix[index] = embedding_vector\n"
      ],
      "metadata": {
        "id": "cdOGbxY4Glah"
      },
      "execution_count": null,
      "outputs": []
    },
    {
      "cell_type": "code",
      "source": [
        "#  Donwlnload Glove word embeddings to create an embeddign dict.\n",
        "\n",
        "# !wget http://nlp.stanford.edu/data/glove.6B.zip\n",
        "# !unzip glove.6B.zip\n"
      ],
      "metadata": {
        "id": "cDozJQxz3I-0"
      },
      "execution_count": null,
      "outputs": []
    },
    {
      "cell_type": "code",
      "execution_count": null,
      "metadata": {
        "id": "VH4uFszlRGPk"
      },
      "outputs": [],
      "source": [
        "# # Load GloVe word embeddings and create an Embeddings Dictionary\n",
        "\n",
        "# from numpy import asarray\n",
        "# from numpy import zeros\n",
        "\n",
        "# embeddings_dictionary = dict()\n",
        "# glove_file = open('/content/glove.6B.100d.txt', encoding=\"utf8\")\n",
        "\n",
        "# for line in glove_file:\n",
        "#     records = line.split()\n",
        "#     word = records[0]\n",
        "#     vector_dimensions = asarray(records[1:], dtype='float32')\n",
        "#     embeddings_dictionary [word] = vector_dimensions\n",
        "# glove_file.close()"
      ]
    },
    {
      "cell_type": "code",
      "execution_count": null,
      "metadata": {
        "id": "ZN6SP61FSDZB"
      },
      "outputs": [],
      "source": [
        "# # Create Embedding Matrix having 100 columns\n",
        "# # Containing 100-dimensional GloVe word embeddings for all words in our corpus.\n",
        "\n",
        "# embedding_matrix = zeros((vocab_length, 100))\n",
        "# for word, index in word_tokenizer.word_index.items():\n",
        "#     embedding_vector = embeddings_dictionary.get(word)\n",
        "#     if embedding_vector is not None:\n",
        "#         embedding_matrix[index] = embedding_vector"
      ]
    },
    {
      "cell_type": "code",
      "source": [
        "embedding_matrix.shape"
      ],
      "metadata": {
        "id": "fjwFEeCmiAPo",
        "colab": {
          "base_uri": "https://localhost:8080/"
        },
        "outputId": "22172751-a1ed-4b85-fd41-319b754d4bcc"
      },
      "execution_count": null,
      "outputs": [
        {
          "output_type": "execute_result",
          "data": {
            "text/plain": [
              "(88154, 300)"
            ]
          },
          "metadata": {},
          "execution_count": 26
        }
      ]
    },
    {
      "cell_type": "markdown",
      "source": [
        "# Model Training with:"
      ],
      "metadata": {
        "id": "OW-AbfS3jNy_"
      }
    },
    {
      "cell_type": "markdown",
      "metadata": {
        "id": "F_bNYrfoSIBj"
      },
      "source": [
        "## Simple Neural Network"
      ]
    },
    {
      "cell_type": "code",
      "execution_count": null,
      "metadata": {
        "id": "qf-U8d-WSFxk"
      },
      "outputs": [],
      "source": [
        "# Neural Network architecture\n",
        "\n",
        "# snn_model = Sequential()\n",
        "# embedding_layer = Embedding(vocab_length, 100, weights=[embedding_matrix], input_length=maxlen , trainable=False)\n",
        "\n",
        "# snn_model.add(embedding_layer)\n",
        "\n",
        "# snn_model.add(Flatten())\n",
        "# snn_model.add(Dense(1, activation='sigmoid'))\n",
        "snn_model = Sequential()\n",
        "embedding_layer = Embedding(vocab_length, 300, weights=[embedding_matrix], input_length=maxlen, trainable=False)\n",
        "snn_model.add(embedding_layer)\n",
        "snn_model.add(Flatten())\n",
        "snn_model.add(Dense(3, activation='softmax'))  # 3 output nodes for 3 classes\n"
      ]
    },
    {
      "cell_type": "code",
      "execution_count": null,
      "metadata": {
        "id": "JjUzsDS5SOrH",
        "colab": {
          "base_uri": "https://localhost:8080/"
        },
        "outputId": "691deb6b-5c06-42d3-9e96-5b844fd8b8c5"
      },
      "outputs": [
        {
          "output_type": "stream",
          "name": "stdout",
          "text": [
            "Model: \"sequential_1\"\n",
            "_________________________________________________________________\n",
            " Layer (type)                Output Shape              Param #   \n",
            "=================================================================\n",
            " embedding_1 (Embedding)     (None, 100, 300)          26446200  \n",
            "                                                                 \n",
            " flatten (Flatten)           (None, 30000)             0         \n",
            "                                                                 \n",
            " dense (Dense)               (None, 3)                 90003     \n",
            "                                                                 \n",
            "=================================================================\n",
            "Total params: 26536203 (101.23 MB)\n",
            "Trainable params: 90003 (351.57 KB)\n",
            "Non-trainable params: 26446200 (100.88 MB)\n",
            "_________________________________________________________________\n",
            "None\n"
          ]
        }
      ],
      "source": [
        "# Model compiling\n",
        "\n",
        "# snn_model.compile(optimizer='adam', loss='binary_crossentropy', metrics=['acc'])\n",
        "\n",
        "snn_model.compile(optimizer='adam', loss='categorical_crossentropy', metrics=['accuracy'])\n",
        "print(snn_model.summary())\n"
      ]
    },
    {
      "cell_type": "code",
      "source": [
        "\n",
        "# Convert labels to one-hot encoding\n",
        "y_train = to_categorical(y_train, num_classes=3)\n",
        "y_test = to_categorical(y_test, num_classes=3)\n",
        "\n",
        "# Now print the shapes to verify\n",
        "print(\"Corrected Shapes:\")\n",
        "print(\"y_train shape:\", y_train.shape)\n",
        "print(\"y_test shape:\", y_test.shape)"
      ],
      "metadata": {
        "colab": {
          "base_uri": "https://localhost:8080/"
        },
        "id": "UyKfXYLOlVxs",
        "outputId": "2af1a782-858d-418f-9958-ff25836063d8"
      },
      "execution_count": null,
      "outputs": [
        {
          "output_type": "stream",
          "name": "stdout",
          "text": [
            "Corrected Shapes:\n",
            "y_train shape: (105087, 3)\n",
            "y_test shape: (26272, 3)\n"
          ]
        }
      ]
    },
    {
      "cell_type": "code",
      "execution_count": null,
      "metadata": {
        "id": "Fbjq_xjXSVIw",
        "colab": {
          "base_uri": "https://localhost:8080/"
        },
        "outputId": "4d5fc7ef-d257-425c-988b-dca7946a805b"
      },
      "outputs": [
        {
          "output_type": "stream",
          "name": "stdout",
          "text": [
            "Epoch 1/6\n",
            "657/657 [==============================] - 19s 27ms/step - loss: 0.8627 - accuracy: 0.6113 - val_loss: 0.8177 - val_accuracy: 0.6408\n",
            "Epoch 2/6\n",
            "657/657 [==============================] - 13s 19ms/step - loss: 0.7603 - accuracy: 0.6734 - val_loss: 0.7985 - val_accuracy: 0.6531\n",
            "Epoch 3/6\n",
            "657/657 [==============================] - 14s 22ms/step - loss: 0.7229 - accuracy: 0.6941 - val_loss: 0.7922 - val_accuracy: 0.6556\n",
            "Epoch 4/6\n",
            "657/657 [==============================] - 15s 23ms/step - loss: 0.7008 - accuracy: 0.7067 - val_loss: 0.7900 - val_accuracy: 0.6594\n",
            "Epoch 5/6\n",
            "657/657 [==============================] - 14s 21ms/step - loss: 0.6862 - accuracy: 0.7132 - val_loss: 0.7954 - val_accuracy: 0.6570\n",
            "Epoch 6/6\n",
            "657/657 [==============================] - 17s 26ms/step - loss: 0.6748 - accuracy: 0.7189 - val_loss: 0.8001 - val_accuracy: 0.6592\n"
          ]
        }
      ],
      "source": [
        "# Model training\n",
        "\n",
        "snn_model_history = snn_model.fit(X_train, y_train, batch_size=128, epochs=6, verbose=1, validation_split=0.2)"
      ]
    },
    {
      "cell_type": "code",
      "execution_count": null,
      "metadata": {
        "id": "bLiriTfNSYcc",
        "colab": {
          "base_uri": "https://localhost:8080/"
        },
        "outputId": "9dd27a0c-b6ce-40e9-8ac2-bab960c4cabf"
      },
      "outputs": [
        {
          "output_type": "stream",
          "name": "stdout",
          "text": [
            "821/821 [==============================] - 4s 5ms/step - loss: 0.7939 - accuracy: 0.6651\n"
          ]
        }
      ],
      "source": [
        "# Predictions on the Test Set\n",
        "\n",
        "score = snn_model.evaluate(X_test, y_test, verbose=1)"
      ]
    },
    {
      "cell_type": "code",
      "execution_count": null,
      "metadata": {
        "id": "CeFtXQ9MSaaN",
        "colab": {
          "base_uri": "https://localhost:8080/"
        },
        "outputId": "be6810be-64f8-4850-df3c-c68038f07475"
      },
      "outputs": [
        {
          "output_type": "stream",
          "name": "stdout",
          "text": [
            "Test Score: 0.7938565015792847\n",
            "Test Accuracy: 0.6651187539100647\n"
          ]
        }
      ],
      "source": [
        "# Model Performance\n",
        "\n",
        "print(\"Test Score:\", score[0])\n",
        "print(\"Test Accuracy:\", score[1])"
      ]
    },
    {
      "cell_type": "code",
      "execution_count": null,
      "metadata": {
        "id": "r55HElqVSc5K",
        "colab": {
          "base_uri": "https://localhost:8080/",
          "height": 927
        },
        "outputId": "35d232a4-6f0a-4d48-fc3b-1a800f70f1ce"
      },
      "outputs": [
        {
          "output_type": "display_data",
          "data": {
            "text/plain": [
              "<Figure size 640x480 with 1 Axes>"
            ],
            "image/png": "[encoded data removed]"
          },
          "metadata": {}
        },
        {
          "output_type": "display_data",
          "data": {
            "text/plain": [
              "<Figure size 640x480 with 1 Axes>"
            ],
            "image/png": "[encoded data removed]"
          },
          "metadata": {}
        }
      ],
      "source": [
        "import matplotlib.pyplot as plt\n",
        "\n",
        "# Plot training & validation accuracy values\n",
        "plt.plot(snn_model_history.history['accuracy'])\n",
        "plt.plot(snn_model_history.history['val_accuracy'])\n",
        "plt.title('Model accuracy')\n",
        "plt.ylabel('Accuracy')\n",
        "plt.xlabel('Epoch')\n",
        "plt.legend(['Train', 'Validation'], loc='upper left')\n",
        "plt.show()\n",
        "\n",
        "# Plot training & validation loss values\n",
        "plt.plot(snn_model_history.history['loss'])\n",
        "plt.plot(snn_model_history.history['val_loss'])\n",
        "plt.title('Model loss')\n",
        "plt.ylabel('Loss')\n",
        "plt.xlabel('Epoch')\n",
        "plt.legend(['Train', 'Validation'], loc='upper left')\n",
        "plt.show()\n"
      ]
    },
    {
      "cell_type": "markdown",
      "metadata": {
        "id": "HMulFBC4SfAY"
      },
      "source": [
        "## Convolutional Neural Network"
      ]
    },
    {
      "cell_type": "code",
      "execution_count": null,
      "metadata": {
        "id": "CzNlGNGGUhVx"
      },
      "outputs": [],
      "source": [
        "from keras.layers import Conv1D"
      ]
    },
    {
      "cell_type": "code",
      "execution_count": null,
      "metadata": {
        "id": "kbVF6c4ASgUs"
      },
      "outputs": [],
      "source": [
        "# # Neural Network architecture\n",
        "\n",
        "# cnn_model = Sequential()\n",
        "\n",
        "# embedding_layer = Embedding(vocab_length, 100, weights=[embedding_matrix], input_length=maxlen , trainable=False)\n",
        "# cnn_model.add(embedding_layer)\n",
        "\n",
        "# cnn_model.add(Conv1D(128, 5, activation='relu'))\n",
        "# cnn_model.add(GlobalMaxPooling1D())\n",
        "# cnn_model.add(Dense(1, activation='sigmoid'))\n",
        "\n",
        "\n",
        "# Define the model\n",
        "cnn_model = Sequential()\n",
        "\n",
        "# Embedding layer\n",
        "embedding_layer = Embedding(vocab_length, 300, weights=[embedding_matrix], input_length=maxlen, trainable=False)\n",
        "cnn_model.add(embedding_layer)\n",
        "\n",
        "# Convolutional layer\n",
        "cnn_model.add(Conv1D(128, 5, activation='relu'))\n",
        "\n",
        "# Global max pooling layer\n",
        "cnn_model.add(GlobalMaxPooling1D())\n",
        "\n",
        "# Output layer for 3 classes\n",
        "cnn_model.add(Dense(3, activation='softmax'))  # 3 output units for 3 classes, softmax for multi-class classification"
      ]
    },
    {
      "cell_type": "code",
      "execution_count": null,
      "metadata": {
        "id": "XayF5sTqSlP_",
        "colab": {
          "base_uri": "https://localhost:8080/"
        },
        "outputId": "531988c9-560c-459c-b59f-a369107102d9"
      },
      "outputs": [
        {
          "output_type": "stream",
          "name": "stdout",
          "text": [
            "Model: \"sequential_3\"\n",
            "_________________________________________________________________\n",
            " Layer (type)                Output Shape              Param #   \n",
            "=================================================================\n",
            " embedding_3 (Embedding)     (None, 100, 300)          26446200  \n",
            "                                                                 \n",
            " conv1d (Conv1D)             (None, 96, 128)           192128    \n",
            "                                                                 \n",
            " global_max_pooling1d (Glob  (None, 128)               0         \n",
            " alMaxPooling1D)                                                 \n",
            "                                                                 \n",
            " dense_1 (Dense)             (None, 3)                 387       \n",
            "                                                                 \n",
            "=================================================================\n",
            "Total params: 26638715 (101.62 MB)\n",
            "Trainable params: 192515 (752.01 KB)\n",
            "Non-trainable params: 26446200 (100.88 MB)\n",
            "_________________________________________________________________\n",
            "None\n"
          ]
        }
      ],
      "source": [
        "# Model compiling\n",
        "\n",
        "# cnn_model.compile(optimizer='adam', loss='binary_crossentropy', metrics=['acc'])\n",
        "# print(cnn_model.summary())\n",
        "\n",
        "\n",
        "cnn_model.compile(optimizer='adam', loss='categorical_crossentropy', metrics=['accuracy'],run_eagerly=True)\n",
        "\n",
        "# Print model summary\n",
        "print(cnn_model.summary())"
      ]
    },
    {
      "cell_type": "code",
      "source": [
        "# y_train = to_categorical(y_train, num_classes=3)\n",
        "# y_test = to_categorical(y_test, num_classes=3)\n",
        "\n",
        "# Now print the shapes to verify\n",
        "print(\"y_train shape:\", y_train.shape)\n",
        "print(\"y_test shape:\", y_test.shape)"
      ],
      "metadata": {
        "colab": {
          "base_uri": "https://localhost:8080/"
        },
        "id": "YAZQojqN3TNq",
        "outputId": "d81c4bc8-e1d3-449e-f43f-3a93739c153b"
      },
      "execution_count": null,
      "outputs": [
        {
          "output_type": "stream",
          "name": "stdout",
          "text": [
            "y_train shape: (105087, 3)\n",
            "y_test shape: (26272, 3)\n"
          ]
        }
      ]
    },
    {
      "cell_type": "code",
      "execution_count": null,
      "metadata": {
        "id": "AaF5Rc6GSnDY",
        "colab": {
          "base_uri": "https://localhost:8080/"
        },
        "outputId": "a58dd333-767c-439d-9a91-3500357e751d"
      },
      "outputs": [
        {
          "output_type": "stream",
          "name": "stdout",
          "text": [
            "Epoch 1/6\n",
            "657/657 [==============================] - 328s 500ms/step - loss: 0.0887 - accuracy: 0.9828 - val_loss: 0.5325 - val_accuracy: 0.8323\n",
            "Epoch 2/6\n",
            "657/657 [==============================] - 295s 448ms/step - loss: 0.0642 - accuracy: 0.9891 - val_loss: 0.5632 - val_accuracy: 0.8335\n",
            "Epoch 3/6\n",
            "657/657 [==============================] - 295s 449ms/step - loss: 0.0465 - accuracy: 0.9931 - val_loss: 0.5941 - val_accuracy: 0.8327\n",
            "Epoch 4/6\n",
            "657/657 [==============================] - 294s 448ms/step - loss: 0.0345 - accuracy: 0.9956 - val_loss: 0.6258 - val_accuracy: 0.8291\n",
            "Epoch 5/6\n",
            "657/657 [==============================] - 291s 443ms/step - loss: 0.0275 - accuracy: 0.9965 - val_loss: 0.6642 - val_accuracy: 0.8309\n",
            "Epoch 6/6\n",
            "657/657 [==============================] - 296s 451ms/step - loss: 0.0239 - accuracy: 0.9965 - val_loss: 0.7128 - val_accuracy: 0.8218\n"
          ]
        }
      ],
      "source": [
        "# Model training\n",
        "\n",
        "cnn_model_history = cnn_model.fit(X_train, y_train, batch_size=128, epochs=6, verbose=1, validation_split=0.2)"
      ]
    },
    {
      "cell_type": "code",
      "execution_count": null,
      "metadata": {
        "id": "fTqK3hr6VNUi",
        "colab": {
          "base_uri": "https://localhost:8080/"
        },
        "outputId": "a581fade-9545-4abe-f445-cc45fa21feb3"
      },
      "outputs": [
        {
          "output_type": "stream",
          "name": "stdout",
          "text": [
            "821/821 [==============================] - 36s 44ms/step - loss: 0.6964 - accuracy: 0.8261\n"
          ]
        }
      ],
      "source": [
        "# Predictions on the Test Set\n",
        "\n",
        "score = cnn_model.evaluate(X_test, y_test, verbose=1)"
      ]
    },
    {
      "cell_type": "code",
      "execution_count": null,
      "metadata": {
        "id": "bQhafHPmSvpG",
        "colab": {
          "base_uri": "https://localhost:8080/"
        },
        "outputId": "93ec9756-639c-44ba-995d-77884b4ab5b8"
      },
      "outputs": [
        {
          "output_type": "stream",
          "name": "stdout",
          "text": [
            "Test Score: 0.69640052318573\n",
            "Test Accuracy: 0.8261266946792603\n"
          ]
        }
      ],
      "source": [
        "# Model Performance\n",
        "\n",
        "print(\"Test Score:\", score[0])\n",
        "print(\"Test Accuracy:\", score[1])"
      ]
    },
    {
      "cell_type": "code",
      "execution_count": null,
      "metadata": {
        "id": "YLdZa9GNSyAy",
        "colab": {
          "base_uri": "https://localhost:8080/",
          "height": 927
        },
        "outputId": "6cfd66c0-d5b1-4afb-a1fb-2ed8ab53e0d1"
      },
      "outputs": [
        {
          "output_type": "display_data",
          "data": {
            "text/plain": [
              "<Figure size 640x480 with 1 Axes>"
            ],
            "image/png": "[encoded data removed]"
          },
          "metadata": {}
        },
        {
          "output_type": "display_data",
          "data": {
            "text/plain": [
              "<Figure size 640x480 with 1 Axes>"
            ],
            "image/png": "[encoded data removed]"
          },
          "metadata": {}
        }
      ],
      "source": [
        "import matplotlib.pyplot as plt\n",
        "\n",
        "# Plot training & validation accuracy values\n",
        "plt.plot(cnn_model_history.history['accuracy'])\n",
        "plt.plot(cnn_model_history.history['val_accuracy'])\n",
        "plt.title('Model accuracy')\n",
        "plt.ylabel('Accuracy')\n",
        "plt.xlabel('Epoch')\n",
        "plt.legend(['Train', 'Validation'], loc='upper left')\n",
        "plt.show()\n",
        "\n",
        "# Plot training & validation loss values\n",
        "plt.plot(cnn_model_history.history['loss'])\n",
        "plt.plot(cnn_model_history.history['val_loss'])\n",
        "plt.title('Model loss')\n",
        "plt.ylabel('Loss')\n",
        "plt.xlabel('Epoch')\n",
        "plt.legend(['Train', 'Validation'], loc='upper left')\n",
        "plt.show()\n"
      ]
    },
    {
      "cell_type": "markdown",
      "metadata": {
        "id": "2QTts_XPS1Wn"
      },
      "source": [
        "## Recurrent Neural Network (LSTM)"
      ]
    },
    {
      "cell_type": "code",
      "execution_count": null,
      "metadata": {
        "id": "1iLtWqoMVwU5"
      },
      "outputs": [],
      "source": [
        "from keras.layers import LSTM"
      ]
    },
    {
      "cell_type": "code",
      "execution_count": null,
      "metadata": {
        "id": "0ccqZ-8kS2el"
      },
      "outputs": [],
      "source": [
        "# Neural Network architecture\n",
        "\n",
        "lstm_model = Sequential()\n",
        "embedding_layer = Embedding(vocab_length, 300, weights=[embedding_matrix], input_length=maxlen , trainable=False)\n",
        "\n",
        "lstm_model.add(embedding_layer)\n",
        "lstm_model.add(LSTM(128))\n",
        "\n",
        "lstm_model.add(Dense(3, activation='softmax'))"
      ]
    },
    {
      "cell_type": "code",
      "execution_count": null,
      "metadata": {
        "id": "Zk00Ss9HS68g",
        "colab": {
          "base_uri": "https://localhost:8080/"
        },
        "outputId": "6e6adf62-715b-45a5-a9f3-db3f9b36394b"
      },
      "outputs": [
        {
          "output_type": "stream",
          "name": "stdout",
          "text": [
            "Model: \"sequential_5\"\n",
            "_________________________________________________________________\n",
            " Layer (type)                Output Shape              Param #   \n",
            "=================================================================\n",
            " embedding_5 (Embedding)     (None, 100, 300)          26446200  \n",
            "                                                                 \n",
            " lstm (LSTM)                 (None, 128)               219648    \n",
            "                                                                 \n",
            " dense_2 (Dense)             (None, 3)                 387       \n",
            "                                                                 \n",
            "=================================================================\n",
            "Total params: 26666235 (101.72 MB)\n",
            "Trainable params: 220035 (859.51 KB)\n",
            "Non-trainable params: 26446200 (100.88 MB)\n",
            "_________________________________________________________________\n",
            "None\n"
          ]
        }
      ],
      "source": [
        "# Model compiling\n",
        "\n",
        "lstm_model.compile(optimizer='adam', loss='binary_crossentropy', metrics=['acc'])\n",
        "print(lstm_model.summary())"
      ]
    },
    {
      "cell_type": "code",
      "source": [
        "# y_train = to_categorical(y_train, num_classes=3)\n",
        "# y_test = to_categorical(y_test, num_classes=3)\n",
        "\n",
        "# Now print the shapes to verify\n",
        "print(\"y_train shape:\", y_train.shape)\n",
        "print(\"y_test shape:\", y_test.shape)"
      ],
      "metadata": {
        "colab": {
          "base_uri": "https://localhost:8080/"
        },
        "id": "PuRoeXBi-yNR",
        "outputId": "352ec647-95b4-4f40-8320-4831a14b89c7"
      },
      "execution_count": null,
      "outputs": [
        {
          "output_type": "stream",
          "name": "stdout",
          "text": [
            "y_train shape: (105087, 3)\n",
            "y_test shape: (26272, 3)\n"
          ]
        }
      ]
    },
    {
      "cell_type": "code",
      "execution_count": 53,
      "metadata": {
        "id": "QMhhaZUaS9jF",
        "colab": {
          "base_uri": "https://localhost:8080/"
        },
        "outputId": "cd9228b8-378f-42a5-bdee-4da77c0f68cb"
      },
      "outputs": [
        {
          "output_type": "stream",
          "name": "stdout",
          "text": [
            "Epoch 1/6\n",
            "657/657 [==============================] - 298s 449ms/step - loss: 0.6365 - acc: 0.3395 - val_loss: 0.6348 - val_acc: 0.3297\n",
            "Epoch 2/6\n",
            "657/657 [==============================] - 293s 446ms/step - loss: 0.5050 - acc: 0.5954 - val_loss: 0.4223 - val_acc: 0.7059\n",
            "Epoch 3/6\n",
            "657/657 [==============================] - 291s 443ms/step - loss: 0.3778 - acc: 0.7471 - val_loss: 0.3495 - val_acc: 0.7711\n",
            "Epoch 4/6\n",
            "657/657 [==============================] - 277s 421ms/step - loss: 0.3279 - acc: 0.7904 - val_loss: 0.3140 - val_acc: 0.8043\n",
            "Epoch 5/6\n",
            "657/657 [==============================] - 292s 444ms/step - loss: 0.2917 - acc: 0.8204 - val_loss: 0.2854 - val_acc: 0.8287\n",
            "Epoch 6/6\n",
            "657/657 [==============================] - 291s 444ms/step - loss: 0.2556 - acc: 0.8501 - val_loss: 0.2584 - val_acc: 0.8512\n"
          ]
        }
      ],
      "source": [
        "# Model Training\n",
        "\n",
        "lstm_model_history = lstm_model.fit(X_train, y_train, batch_size=128, epochs=6, verbose=1, validation_split=0.2)"
      ]
    },
    {
      "cell_type": "code",
      "source": [
        "# Predictions on the Test Set\n",
        "\n",
        "score = lstm_model.evaluate(X_test, y_test, verbose=1)"
      ],
      "metadata": {
        "id": "w7il9EjzlAaR",
        "colab": {
          "base_uri": "https://localhost:8080/"
        },
        "outputId": "efc1ef9e-b6b2-41cf-eda7-4fa65895cc97"
      },
      "execution_count": 54,
      "outputs": [
        {
          "output_type": "stream",
          "name": "stdout",
          "text": [
            "821/821 [==============================] - 59s 72ms/step - loss: 0.2556 - acc: 0.8525\n"
          ]
        }
      ]
    },
    {
      "cell_type": "code",
      "execution_count": 55,
      "metadata": {
        "id": "6j71n54zS9mc",
        "colab": {
          "base_uri": "https://localhost:8080/"
        },
        "outputId": "c2139edb-cc66-449f-c612-e7f5f7bc7d98"
      },
      "outputs": [
        {
          "output_type": "stream",
          "name": "stdout",
          "text": [
            "Test Score: 0.25561681389808655\n",
            "Test Accuracy: 0.8524665236473083\n"
          ]
        }
      ],
      "source": [
        "# Model Performance\n",
        "\n",
        "print(\"Test Score:\", score[0])\n",
        "print(\"Test Accuracy:\", score[1])"
      ]
    },
    {
      "cell_type": "code",
      "execution_count": 56,
      "metadata": {
        "id": "LiibO1EuS9qB",
        "colab": {
          "base_uri": "https://localhost:8080/",
          "height": 927
        },
        "outputId": "c711b800-bca5-4bd2-e28a-415f4c119299"
      },
      "outputs": [
        {
          "output_type": "display_data",
          "data": {
            "text/plain": [
              "<Figure size 640x480 with 1 Axes>"
            ],
            "image/png": "[encoded data removed]"
          },
          "metadata": {}
        },
        {
          "output_type": "display_data",
          "data": {
            "text/plain": [
              "<Figure size 640x480 with 1 Axes>"
            ],
            "image/png": "[encoded data removed]"
          },
          "metadata": {}
        }
      ],
      "source": [
        "# Model Performance Charts\n",
        "\n",
        "import matplotlib.pyplot as plt\n",
        "\n",
        "plt.plot(lstm_model_history.history['acc'])\n",
        "plt.plot(lstm_model_history.history['val_acc'])\n",
        "\n",
        "plt.title('model accuracy')\n",
        "plt.ylabel('accuracy')\n",
        "plt.xlabel('epoch')\n",
        "plt.legend(['train','test'], loc='upper left')\n",
        "plt.show()\n",
        "\n",
        "plt.plot(lstm_model_history.history['loss'])\n",
        "plt.plot(lstm_model_history.history['val_loss'])\n",
        "\n",
        "plt.title('model loss')\n",
        "plt.ylabel('loss')\n",
        "plt.xlabel('epoch')\n",
        "plt.legend(['train','test'], loc='upper left')\n",
        "plt.show()"
      ]
    }
  ],
  "metadata": {
    "colab": {
      "provenance": [],
      "collapsed_sections": [
        "EwZa81ThPbt3",
        "q6FO9rxjxHe_"
      ],
      "include_colab_link": true
    },
    "kernelspec": {
      "display_name": "Python 3",
      "name": "python3"
    },
    "language_info": {
      "name": "python"
    }
  },
  "nbformat": 4,
  "nbformat_minor": 0
}