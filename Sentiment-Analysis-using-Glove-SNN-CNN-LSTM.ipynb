{
  "cells": [
    {
      "cell_type": "markdown",
      "metadata": {
        "id": "view-in-github",
        "colab_type": "text"
      },
      "source": [
        "<a href=\"https://colab.research.google.com/github/Satyam1Gupta/Sentiment-Analysis-LSTM/blob/main/Sentiment-Analysis-using-Glove-SNN-CNN-LSTM.ipynb\" target=\"_parent\"><img src=\"https://colab.research.google.com/assets/colab-badge.svg\" alt=\"Open In Colab\"/></a>"
      ]
    },
    {
      "cell_type": "markdown",
      "metadata": {
        "id": "Ag88fDJdv-fv"
      },
      "source": []
    },
    {
      "cell_type": "markdown",
      "metadata": {
        "id": "EwZa81ThPbt3"
      },
      "source": [
        "## Setting the environment"
      ]
    },
    {
      "cell_type": "code",
      "execution_count": 135,
      "metadata": {
        "id": "bj1dnOyZOUv2"
      },
      "outputs": [],
      "source": []
    },
    {
      "cell_type": "code",
      "execution_count": null,
      "metadata": {
        "id": "F0M1fdcBOf_Y"
      },
      "outputs": [],
      "source": []
    },
    {
      "cell_type": "code",
      "execution_count": 38,
      "metadata": {
        "id": "W-vpR9QCOn2i"
      },
      "outputs": [],
      "source": [
        "# Importing essential libraries and functions\n",
        "\n",
        "import pandas as pd\n",
        "import numpy as np\n",
        "import re\n",
        "import nltk\n",
        "from nltk.corpus import stopwords\n",
        "from numpy import array\n",
        "\n",
        "from keras.preprocessing.text import one_hot, Tokenizer\n",
        "from keras.preprocessing.sequence import pad_sequences\n",
        "from keras.models import Sequential\n",
        "from keras.layers import Activation, Dropout, Dense, Flatten, GlobalMaxPooling1D, Embedding, Conv1D, LSTM\n",
        "from keras.layers import Flatten, GlobalMaxPooling1D, Embedding, Conv1D, LSTM\n",
        "from sklearn.model_selection import train_test_split\n",
        "from keras.utils import to_categorical\n"
      ]
    },
    {
      "cell_type": "markdown",
      "source": [
        "## Loading dataset"
      ],
      "metadata": {
        "id": "q6FO9rxjxHe_"
      }
    },
    {
      "cell_type": "code",
      "execution_count": 6,
      "metadata": {
        "id": "sNL6yy_DO0n1",
        "outputId": "7a4f9481-63c0-45c4-ab69-fa31ecc46f54",
        "colab": {
          "base_uri": "https://localhost:8080/",
          "height": 728
        }
      },
      "outputs": [
        {
          "output_type": "execute_result",
          "data": {
            "text/plain": [
              "                                                     text  sentiment\n",
              "0       what did just say vote for modi  welcome bjp t...          1\n",
              "1       asking his supporters prefix chowkidar their n...          1\n",
              "2       answer who among these the most powerful world...          1\n",
              "3       with upcoming election india saga going import...          1\n",
              "4                              gandhi was gay does modi            1\n",
              "...                                                   ...        ...\n",
              "131356  what modi saying against democracy should flee...          0\n",
              "131357  niti aayog accessory for the modi government m...          0\n",
              "131358  mrjairam here answer lies bjp godi media many ...          0\n",
              "131359  india prime ministerasaduddin owaisi slams mod...          0\n",
              "131360  promise you all that will try take advanijis l...          0\n",
              "\n",
              "[131361 rows x 2 columns]"
            ],
            "text/html": [
              "\n",
              "  <div id=\"df-b683468d-d5e2-4c0e-a9a1-6ddf2e670644\" class=\"colab-df-container\">\n",
              "    <div>\n",
              "<style scoped>\n",
              "    .dataframe tbody tr th:only-of-type {\n",
              "        vertical-align: middle;\n",
              "    }\n",
              "\n",
              "    .dataframe tbody tr th {\n",
              "        vertical-align: top;\n",
              "    }\n",
              "\n",
              "    .dataframe thead th {\n",
              "        text-align: right;\n",
              "    }\n",
              "</style>\n",
              "<table border=\"1\" class=\"dataframe\">\n",
              "  <thead>\n",
              "    <tr style=\"text-align: right;\">\n",
              "      <th></th>\n",
              "      <th>text</th>\n",
              "      <th>sentiment</th>\n",
              "    </tr>\n",
              "  </thead>\n",
              "  <tbody>\n",
              "    <tr>\n",
              "      <th>0</th>\n",
              "      <td>what did just say vote for modi  welcome bjp t...</td>\n",
              "      <td>1</td>\n",
              "    </tr>\n",
              "    <tr>\n",
              "      <th>1</th>\n",
              "      <td>asking his supporters prefix chowkidar their n...</td>\n",
              "      <td>1</td>\n",
              "    </tr>\n",
              "    <tr>\n",
              "      <th>2</th>\n",
              "      <td>answer who among these the most powerful world...</td>\n",
              "      <td>1</td>\n",
              "    </tr>\n",
              "    <tr>\n",
              "      <th>3</th>\n",
              "      <td>with upcoming election india saga going import...</td>\n",
              "      <td>1</td>\n",
              "    </tr>\n",
              "    <tr>\n",
              "      <th>4</th>\n",
              "      <td>gandhi was gay does modi</td>\n",
              "      <td>1</td>\n",
              "    </tr>\n",
              "    <tr>\n",
              "      <th>...</th>\n",
              "      <td>...</td>\n",
              "      <td>...</td>\n",
              "    </tr>\n",
              "    <tr>\n",
              "      <th>131356</th>\n",
              "      <td>what modi saying against democracy should flee...</td>\n",
              "      <td>0</td>\n",
              "    </tr>\n",
              "    <tr>\n",
              "      <th>131357</th>\n",
              "      <td>niti aayog accessory for the modi government m...</td>\n",
              "      <td>0</td>\n",
              "    </tr>\n",
              "    <tr>\n",
              "      <th>131358</th>\n",
              "      <td>mrjairam here answer lies bjp godi media many ...</td>\n",
              "      <td>0</td>\n",
              "    </tr>\n",
              "    <tr>\n",
              "      <th>131359</th>\n",
              "      <td>india prime ministerasaduddin owaisi slams mod...</td>\n",
              "      <td>0</td>\n",
              "    </tr>\n",
              "    <tr>\n",
              "      <th>131360</th>\n",
              "      <td>promise you all that will try take advanijis l...</td>\n",
              "      <td>0</td>\n",
              "    </tr>\n",
              "  </tbody>\n",
              "</table>\n",
              "<p>131361 rows × 2 columns</p>\n",
              "</div>\n",
              "    <div class=\"colab-df-buttons\">\n",
              "\n",
              "  <div class=\"colab-df-container\">\n",
              "    <button class=\"colab-df-convert\" onclick=\"convertToInteractive('df-b683468d-d5e2-4c0e-a9a1-6ddf2e670644')\"\n",
              "            title=\"Convert this dataframe to an interactive table.\"\n",
              "            style=\"display:none;\">\n",
              "\n",
              "  <svg xmlns=\"http://www.w3.org/2000/svg\" height=\"24px\" viewBox=\"0 -960 960 960\">\n",
              "    <path d=\"M120-120v-720h720v720H120Zm60-500h600v-160H180v160Zm220 220h160v-160H400v160Zm0 220h160v-160H400v160ZM180-400h160v-160H180v160Zm440 0h160v-160H620v160ZM180-180h160v-160H180v160Zm440 0h160v-160H620v160Z\"/>\n",
              "  </svg>\n",
              "    </button>\n",
              "\n",
              "  <style>\n",
              "    .colab-df-container {\n",
              "      display:flex;\n",
              "      gap: 12px;\n",
              "    }\n",
              "\n",
              "    .colab-df-convert {\n",
              "      background-color: #E8F0FE;\n",
              "      border: none;\n",
              "      border-radius: 50%;\n",
              "      cursor: pointer;\n",
              "      display: none;\n",
              "      fill: #1967D2;\n",
              "      height: 32px;\n",
              "      padding: 0 0 0 0;\n",
              "      width: 32px;\n",
              "    }\n",
              "\n",
              "    .colab-df-convert:hover {\n",
              "      background-color: #E2EBFA;\n",
              "      box-shadow: 0px 1px 2px rgba(60, 64, 67, 0.3), 0px 1px 3px 1px rgba(60, 64, 67, 0.15);\n",
              "      fill: #174EA6;\n",
              "    }\n",
              "\n",
              "    .colab-df-buttons div {\n",
              "      margin-bottom: 4px;\n",
              "    }\n",
              "\n",
              "    [theme=dark] .colab-df-convert {\n",
              "      background-color: #3B4455;\n",
              "      fill: #D2E3FC;\n",
              "    }\n",
              "\n",
              "    [theme=dark] .colab-df-convert:hover {\n",
              "      background-color: #434B5C;\n",
              "      box-shadow: 0px 1px 3px 1px rgba(0, 0, 0, 0.15);\n",
              "      filter: drop-shadow(0px 1px 2px rgba(0, 0, 0, 0.3));\n",
              "      fill: #FFFFFF;\n",
              "    }\n",
              "  </style>\n",
              "\n",
              "    <script>\n",
              "      const buttonEl =\n",
              "        document.querySelector('#df-b683468d-d5e2-4c0e-a9a1-6ddf2e670644 button.colab-df-convert');\n",
              "      buttonEl.style.display =\n",
              "        google.colab.kernel.accessAllowed ? 'block' : 'none';\n",
              "\n",
              "      async function convertToInteractive(key) {\n",
              "        const element = document.querySelector('#df-b683468d-d5e2-4c0e-a9a1-6ddf2e670644');\n",
              "        const dataTable =\n",
              "          await google.colab.kernel.invokeFunction('convertToInteractive',\n",
              "                                                    [key], {});\n",
              "        if (!dataTable) return;\n",
              "\n",
              "        const docLinkHtml = 'Like what you see? Visit the ' +\n",
              "          '<a target=\"_blank\" href=https://colab.research.google.com/notebooks/data_table.ipynb>data table notebook</a>'\n",
              "          + ' to learn more about interactive tables.';\n",
              "        element.innerHTML = '';\n",
              "        dataTable['output_type'] = 'display_data';\n",
              "        await google.colab.output.renderOutput(dataTable, element);\n",
              "        const docLink = document.createElement('div');\n",
              "        docLink.innerHTML = docLinkHtml;\n",
              "        element.appendChild(docLink);\n",
              "      }\n",
              "    </script>\n",
              "  </div>\n",
              "\n",
              "\n",
              "<div id=\"df-d0f55959-f3a2-4b53-976e-7017d8ccad97\">\n",
              "  <button class=\"colab-df-quickchart\" onclick=\"quickchart('df-d0f55959-f3a2-4b53-976e-7017d8ccad97')\"\n",
              "            title=\"Suggest charts\"\n",
              "            style=\"display:none;\">\n",
              "\n",
              "<svg xmlns=\"http://www.w3.org/2000/svg\" height=\"24px\"viewBox=\"0 0 24 24\"\n",
              "     width=\"24px\">\n",
              "    <g>\n",
              "        <path d=\"M19 3H5c-1.1 0-2 .9-2 2v14c0 1.1.9 2 2 2h14c1.1 0 2-.9 2-2V5c0-1.1-.9-2-2-2zM9 17H7v-7h2v7zm4 0h-2V7h2v10zm4 0h-2v-4h2v4z\"/>\n",
              "    </g>\n",
              "</svg>\n",
              "  </button>\n",
              "\n",
              "<style>\n",
              "  .colab-df-quickchart {\n",
              "      --bg-color: #E8F0FE;\n",
              "      --fill-color: #1967D2;\n",
              "      --hover-bg-color: #E2EBFA;\n",
              "      --hover-fill-color: #174EA6;\n",
              "      --disabled-fill-color: #AAA;\n",
              "      --disabled-bg-color: #DDD;\n",
              "  }\n",
              "\n",
              "  [theme=dark] .colab-df-quickchart {\n",
              "      --bg-color: #3B4455;\n",
              "      --fill-color: #D2E3FC;\n",
              "      --hover-bg-color: #434B5C;\n",
              "      --hover-fill-color: #FFFFFF;\n",
              "      --disabled-bg-color: #3B4455;\n",
              "      --disabled-fill-color: #666;\n",
              "  }\n",
              "\n",
              "  .colab-df-quickchart {\n",
              "    background-color: var(--bg-color);\n",
              "    border: none;\n",
              "    border-radius: 50%;\n",
              "    cursor: pointer;\n",
              "    display: none;\n",
              "    fill: var(--fill-color);\n",
              "    height: 32px;\n",
              "    padding: 0;\n",
              "    width: 32px;\n",
              "  }\n",
              "\n",
              "  .colab-df-quickchart:hover {\n",
              "    background-color: var(--hover-bg-color);\n",
              "    box-shadow: 0 1px 2px rgba(60, 64, 67, 0.3), 0 1px 3px 1px rgba(60, 64, 67, 0.15);\n",
              "    fill: var(--button-hover-fill-color);\n",
              "  }\n",
              "\n",
              "  .colab-df-quickchart-complete:disabled,\n",
              "  .colab-df-quickchart-complete:disabled:hover {\n",
              "    background-color: var(--disabled-bg-color);\n",
              "    fill: var(--disabled-fill-color);\n",
              "    box-shadow: none;\n",
              "  }\n",
              "\n",
              "  .colab-df-spinner {\n",
              "    border: 2px solid var(--fill-color);\n",
              "    border-color: transparent;\n",
              "    border-bottom-color: var(--fill-color);\n",
              "    animation:\n",
              "      spin 1s steps(1) infinite;\n",
              "  }\n",
              "\n",
              "  @keyframes spin {\n",
              "    0% {\n",
              "      border-color: transparent;\n",
              "      border-bottom-color: var(--fill-color);\n",
              "      border-left-color: var(--fill-color);\n",
              "    }\n",
              "    20% {\n",
              "      border-color: transparent;\n",
              "      border-left-color: var(--fill-color);\n",
              "      border-top-color: var(--fill-color);\n",
              "    }\n",
              "    30% {\n",
              "      border-color: transparent;\n",
              "      border-left-color: var(--fill-color);\n",
              "      border-top-color: var(--fill-color);\n",
              "      border-right-color: var(--fill-color);\n",
              "    }\n",
              "    40% {\n",
              "      border-color: transparent;\n",
              "      border-right-color: var(--fill-color);\n",
              "      border-top-color: var(--fill-color);\n",
              "    }\n",
              "    60% {\n",
              "      border-color: transparent;\n",
              "      border-right-color: var(--fill-color);\n",
              "    }\n",
              "    80% {\n",
              "      border-color: transparent;\n",
              "      border-right-color: var(--fill-color);\n",
              "      border-bottom-color: var(--fill-color);\n",
              "    }\n",
              "    90% {\n",
              "      border-color: transparent;\n",
              "      border-bottom-color: var(--fill-color);\n",
              "    }\n",
              "  }\n",
              "</style>\n",
              "\n",
              "  <script>\n",
              "    async function quickchart(key) {\n",
              "      const quickchartButtonEl =\n",
              "        document.querySelector('#' + key + ' button');\n",
              "      quickchartButtonEl.disabled = true;  // To prevent multiple clicks.\n",
              "      quickchartButtonEl.classList.add('colab-df-spinner');\n",
              "      try {\n",
              "        const charts = await google.colab.kernel.invokeFunction(\n",
              "            'suggestCharts', [key], {});\n",
              "      } catch (error) {\n",
              "        console.error('Error during call to suggestCharts:', error);\n",
              "      }\n",
              "      quickchartButtonEl.classList.remove('colab-df-spinner');\n",
              "      quickchartButtonEl.classList.add('colab-df-quickchart-complete');\n",
              "    }\n",
              "    (() => {\n",
              "      let quickchartButtonEl =\n",
              "        document.querySelector('#df-d0f55959-f3a2-4b53-976e-7017d8ccad97 button');\n",
              "      quickchartButtonEl.style.display =\n",
              "        google.colab.kernel.accessAllowed ? 'block' : 'none';\n",
              "    })();\n",
              "  </script>\n",
              "</div>\n",
              "\n",
              "  <div id=\"id_f4938ad1-20d6-4230-ade1-1e616771c020\">\n",
              "    <style>\n",
              "      .colab-df-generate {\n",
              "        background-color: #E8F0FE;\n",
              "        border: none;\n",
              "        border-radius: 50%;\n",
              "        cursor: pointer;\n",
              "        display: none;\n",
              "        fill: #1967D2;\n",
              "        height: 32px;\n",
              "        padding: 0 0 0 0;\n",
              "        width: 32px;\n",
              "      }\n",
              "\n",
              "      .colab-df-generate:hover {\n",
              "        background-color: #E2EBFA;\n",
              "        box-shadow: 0px 1px 2px rgba(60, 64, 67, 0.3), 0px 1px 3px 1px rgba(60, 64, 67, 0.15);\n",
              "        fill: #174EA6;\n",
              "      }\n",
              "\n",
              "      [theme=dark] .colab-df-generate {\n",
              "        background-color: #3B4455;\n",
              "        fill: #D2E3FC;\n",
              "      }\n",
              "\n",
              "      [theme=dark] .colab-df-generate:hover {\n",
              "        background-color: #434B5C;\n",
              "        box-shadow: 0px 1px 3px 1px rgba(0, 0, 0, 0.15);\n",
              "        filter: drop-shadow(0px 1px 2px rgba(0, 0, 0, 0.3));\n",
              "        fill: #FFFFFF;\n",
              "      }\n",
              "    </style>\n",
              "    <button class=\"colab-df-generate\" onclick=\"generateWithVariable('movie_reviews')\"\n",
              "            title=\"Generate code using this dataframe.\"\n",
              "            style=\"display:none;\">\n",
              "\n",
              "  <svg xmlns=\"http://www.w3.org/2000/svg\" height=\"24px\"viewBox=\"0 0 24 24\"\n",
              "       width=\"24px\">\n",
              "    <path d=\"M7,19H8.4L18.45,9,17,7.55,7,17.6ZM5,21V16.75L18.45,3.32a2,2,0,0,1,2.83,0l1.4,1.43a1.91,1.91,0,0,1,.58,1.4,1.91,1.91,0,0,1-.58,1.4L9.25,21ZM18.45,9,17,7.55Zm-12,3A5.31,5.31,0,0,0,4.9,8.1,5.31,5.31,0,0,0,1,6.5,5.31,5.31,0,0,0,4.9,4.9,5.31,5.31,0,0,0,6.5,1,5.31,5.31,0,0,0,8.1,4.9,5.31,5.31,0,0,0,12,6.5,5.46,5.46,0,0,0,6.5,12Z\"/>\n",
              "  </svg>\n",
              "    </button>\n",
              "    <script>\n",
              "      (() => {\n",
              "      const buttonEl =\n",
              "        document.querySelector('#id_f4938ad1-20d6-4230-ade1-1e616771c020 button.colab-df-generate');\n",
              "      buttonEl.style.display =\n",
              "        google.colab.kernel.accessAllowed ? 'block' : 'none';\n",
              "\n",
              "      buttonEl.onclick = () => {\n",
              "        google.colab.notebook.generateWithVariable('movie_reviews');\n",
              "      }\n",
              "      })();\n",
              "    </script>\n",
              "  </div>\n",
              "\n",
              "    </div>\n",
              "  </div>\n"
            ],
            "application/vnd.google.colaboratory.intrinsic+json": {
              "type": "dataframe",
              "variable_name": "movie_reviews"
            }
          },
          "metadata": {},
          "execution_count": 6
        },
        {
          "output_type": "display_data",
          "data": {
            "text/plain": [
              "<google.colab._quickchart_helpers.SectionTitle at 0x7f80670c7340>"
            ],
            "text/html": [
              "<h4 class=\"colab-quickchart-section-title\">Distributions</h4>\n",
              "<style>\n",
              "  .colab-quickchart-section-title {\n",
              "      clear: both;\n",
              "  }\n",
              "</style>"
            ]
          },
          "metadata": {}
        },
        {
          "output_type": "display_data",
          "data": {
            "text/plain": [
              "from matplotlib import pyplot as plt\n",
              "movie_reviews['sentiment'].plot(kind='hist', bins=20, title='sentiment')\n",
              "plt.gca().spines[['top', 'right',]].set_visible(False)"
            ],
            "text/html": [
              "      <div class=\"colab-quickchart-chart-with-code\" id=\"chart-d6ded54f-be91-4c17-8516-44be457110a2\">\n",
              "        <img style=\"width: 180px;\" src=\"data:image/png;base64,iVBORw0KGgoAAAANSUhEUgAAAjwAAAGrCAYAAADEhE38AAAAOXRFWHRTb2Z0d2FyZQBNYXRwbG90\n",
              "bGliIHZlcnNpb24zLjcuMSwgaHR0cHM6Ly9tYXRwbG90bGliLm9yZy/bCgiHAAAACXBIWXMAAA9h\n",
              "AAAPYQGoP6dpAAAfy0lEQVR4nO3df5RU9X34/9ewC1sRFioKorD8XLDyYykEimii8dRW+RrBX42x\n",
              "KhQtiLHGg6eoRz1GYyG2mkqxVrSU1HAag4J6jhibaFHTRAUMGMUj8sN1VwWxoCwkgLDc7x9+MsdV\n",
              "xB0yw65vHo9z5hzmvmdm3++5DDzPzN25uSzLsgAASFiblp4AAECpCR4AIHmCBwBInuABAJIneACA\n",
              "5AkeACB5ggcASJ7gAQCSJ3gAgOQJHiA5Z5xxRnzve99r6WkArUjOqSWAL6va2tro06dPrFmzJvr3\n",
              "79/S02miNc8NDkXe4QEAkid4gJK7++67o1+/ftGxY8fo1q1bTJw4MSIiPvzww5g6dWr06tUrunTp\n",
              "EmPHjo3169fn7zdx4sS44IIL4sorr4wuXbpEt27d4qabbsqPDxo0KCIiampqokOHDnH55ZdHRMQp\n",
              "p5wSN954Y/52uVwuZs2aFSeccEIcfvjhUVNTE6+88ko89NBDMXDgwKisrIzzzjsvtm/fnr9PqeYG\n",
              "tAzBA5TUmjVrYvr06fHYY4/Ftm3bYt26dTFp0qTIsizOPvvsaGhoiBUrVsS7774bQ4YMiTPPPDN2\n",
              "796dv/8jjzwSJ510UmzatCkeffTR+P73vx9LliyJiIhVq1ZFRMTLL78c27dvj3vvvfdz5/HDH/4w\n",
              "/uu//is++OCDGDhwYIwfPz6eeOKJWL58eaxZsyZWrFgRs2fPjog46HMDSk/wACVVXl4eWZbFqlWr\n",
              "oqGhITp06BBf+9rXYsWKFfHLX/4y5syZE0cccURUVFTEjBkz4s0334wXX3wxf/8TTzwxLrjggigr\n",
              "K4sTTjghhg0bFkuXLi14HtOmTYs+ffpEu3bt4q//+q9j/fr1MWPGjPy7TmPHjs0/7sGeG1B65S09\n",
              "ASBtffr0iQcffDD+7d/+LaZMmRLV1dUxbdq0aNOmTezZsyd69OjxmfvU19fn/3zMMcc0GTv88MNj\n",
              "27ZtBc+je/fuTR5jX9t+/7hr1qw5qHMDSk/wACU3bty4GDduXOzZsycWLVoUF1xwQSxZsiTatWsX\n",
              "77//frRt2/aAHrdNm9K8SX300Ue32rkBB8YrEiip1atXxxNPPBHbt2+P8vLy6NSpU0RE9OjRIwYP\n",
              "HhxTp06NTZs2RUTEBx98EAsXLozf/e53zXrso446Ktq0aROrV68u6pxPOumkVjs34MAIHqCkPvro\n",
              "o/iHf/iHOPbYY6OysjKuueaaeOCBB6Jfv37x85//PNq3bx9/9md/Fh07doyampp45JFHIpfLNeux\n",
              "DzvssJgxY0Zcdtll0blz57jiiiuKMueysrJWOzfgwPjiQQAged7hAQCSJ3gAgOQJHgAgeYIHAEie\n",
              "4AEAkid4AIDkCR4AIHmC5/+ZNWtWS08BACgRwfP/vPXWWy09BQCgRAQPAJA8wQMAJE/wAADJEzwA\n",
              "QPIEDwCQPMEDACRP8AAAyRM8AEDyBA8AkDzBAwAkT/AAAMkTPABA8gQPAJA8wQMAJE/wAADJK2/p\n",
              "CRwKel+3uCSPW/v9/68kjwupKdVrMMLrkLSk/FrxDg8AkDzBAwAkT/AAAMkTPABA8gQPAJA8wQMA\n",
              "JE/wAADJEzwAQPIEDwCQPMEDACRP8AAAyRM8AEDyBA8AkDzBAwAkT/AAAMkTPABA8gQPAJA8wQMA\n",
              "JE/wAADJEzwAQPIEDwCQPMEDACRP8AAAyRM8AEDyBA8AkDzBAwAk76AEz7x58yKXy8Wjjz4aERGb\n",
              "Nm2K008/Paqrq2Pw4MHx3HPP5W9bijEA4NBW8uCpra2N+++/P0aPHp3fdt1118Xo0aNjzZo1MW/e\n",
              "vLjwwgtj9+7dJRsDAA5tJQ2evXv3xmWXXRazZ8+OioqK/PYFCxbE5ZdfHhERI0eOjGOOOSaeffbZ\n",
              "ko0BAIe28lI++A9+8IM48cQTY8SIEfltmzdvjt27d8fRRx+d39a7d++oq6srydi+7Nq1K3bt2tVk\n",
              "W2Nj4x+8XgCgdSrZOzyvvvpqLFy4MG688cZS/YgDNnPmzOjUqVOTy9KlS1t6WgBAiZQseH7xi19E\n",
              "bW1tVFdXR+/eveOFF16IyZMnx4IFC6K8vDw2btyYv21tbW1UVVVFly5dij62L9dff31s3bq1yWXU\n",
              "qFEleBYAgNagZMEzderU2LBhQ9TW1kZtbW2MHj067rvvvpg6dWqcf/75ce+990ZExLJly+Kdd96J\n",
              "k08+OSKiJGOfVlFREZWVlU0uZWVlpXoqAIAWVtJjeD7P7bffHhdffHFUV1dHu3btYv78+dG2bduS\n",
              "jQEAh7aDFjzPPPNM/s/dunWLn/3sZ/u8XSnGAIBDm29aBgCSJ3gAgOQJHgAgeYIHAEie4AEAkid4\n",
              "AIDkCR4AIHmCBwBInuABAJIneACA5AkeACB5ggcASJ7gAQCSJ3gAgOQJHgAgeYIHAEie4AEAkid4\n",
              "AIDkCR4AIHmCBwBInuABAJIneACA5AkeACB5ggcASJ7gAQCSJ3gAgOQJHgAgeYIHAEie4AEAkid4\n",
              "AIDkCR4AIHmCBwBInuABAJIneACA5AkeACB5ggcASJ7gAQCSJ3gAgOQJHgAgeYIHAEie4AEAkid4\n",
              "AIDkCR4AIHmCBwBInuABAJIneACA5AkeACB5ggcASJ7gAQCSJ3gAgOQJHgAgeYIHAEie4AEAkid4\n",
              "AIDkCR4AIHmCBwBInuABAJIneACA5AkeACB5ggcASJ7gAQCSJ3gAgOQJHgAgeYIHAEie4AEAkid4\n",
              "AIDkCR4AIHmCBwBInuABAJIneACA5AkeACB5ggcASF5Jg+cv/uIvYujQoTFs2LD46le/GitWrIiI\n",
              "iDVr1sSYMWNiwIABMXLkyFi1alX+PqUYAwAObSUNngULFsRvfvObWLlyZUybNi0mTpwYERFTpkyJ\n",
              "yZMnxxtvvBHXXnttfnupxgCAQ1tJg6dz5875P2/dujVyuVxs2rQpli9fHhdddFFERJx77rlRX18f\n",
              "a9euLcnYvuzatSsaGhqaXBobG0v4TAAALam81D/gkksuiSVLlkRExBNPPBH19fXRvXv3KC//+Efn\n",
              "crmoqqqKurq66NSpU9HH+vfv/5k5zZw5M2655ZYm20aPHl2y5wAAaFklP2j5gQceiPr6+rjtttvi\n",
              "2muvLfWPa5brr78+tm7d2uQyatSolp4WAFAiJX+H5/cmTJgQl19+efTo0SM2bNgQe/bsifLy8siy\n",
              "LOrq6qKqqioqKyuLPrYvFRUVUVFR0WRbWVnZwXgaAIAWULJ3eD788MN4991389cfffTR6NKlS3Tt\n",
              "2jWGDx8e8+fPj4iIhQsXRo8ePaJ///4lGQMAKNk7PFu3bo3zzz8/duzYEW3atImjjjoqHn/88cjl\n",
              "cjFnzpyYOHFizJgxIyorK2PevHn5+5ViDAA4tJUseHr16hVLly7d59jAgQPj+eefP2hjAMChzTct\n",
              "AwDJEzwAQPIEDwCQPMEDACRP8AAAyRM8AEDyBA8AkDzBAwAkT/AAAMkTPABA8gQPAJA8wQMAJE/w\n",
              "AADJEzwAQPIEDwCQPMEDACRP8AAAyRM8AEDyBA8AkDzBAwAkT/AAAMkTPABA8gQPAJA8wQMAJE/w\n",
              "AADJKzh4/vu//7sU8wAAKJmCg+fWW2+NgQMHxqxZs6KhoaEUcwIAKKqCg+eXv/xlPPjgg/Hqq6/G\n",
              "gAED4oorrojXXnutFHMDACiKAzqG50//9E/j/vvvjyeffDIef/zxGDp0aJx22mnxyiuvFHt+AAB/\n",
              "sAMKnqeeeirGjRsX55xzTnz729+OjRs3xpQpU+Lss88u9vwAAP5g5YXe4U/+5E/iyCOPjKuuuirO\n",
              "OeecKCsri4iI8847L+bOnVv0CQIA/KEKDp758+fHiBEj9jn205/+9A+eEABAsRX8kdZLL70UW7Zs\n",
              "yV/fvHlz3H///UWdFABAMRUcPPfcc08cccQR+etdunSJe+65p6iTAgAopoKDJ8uyz2xrbGwsymQA\n",
              "AEqh4ODp3r17LFiwIH/9Jz/5SXTv3r2okwIAKKaCD1q+6667Yty4cTF9+vSIiGjfvn089thjRZ8Y\n",
              "AECxFBw8xx13XLz22muxevXqiIgYOHBg/lfTAQBao4KDJyIil8tF586dY8+ePfHOO+9ERERVVVVR\n",
              "JwYAUCwFB88Pf/jDuOqqq6Jt27bRps3HhwDlcrnYtGlT0ScHAFAMBQfP9773vVi2bFkMHDiwFPMB\n",
              "ACi6gn9L68gjjxQ7AMCXSsHBM378+Ljrrrti06ZN0dDQkL8AALRWBX+kdcMNN0RExLRp0yKXy0WW\n",
              "ZZHL5Xz5IADQahUcPHv37i3FPAAASqbgj7QiPj6B6I9+9KOIiPjwww9jw4YNRZ0UAEAxHdDJQydN\n",
              "mhTf/e53I+Ljs6VfeOGFxZ4XAEDRFBw89913X7zwwgtRWVkZERH9+vWL999/v+gTAwAoloKDp6Ki\n",
              "Ig477LAm28rLD+gLmwEADoqCg+eoo46KN954I3K5XER8/M3LTisBALRmB3S29G9961vx+uuvR8+e\n",
              "PaOysjIef/zxUswNAKAoCg6e/v37x4svvhirV6+OLMucLR0AaPUKDp66urqIiDj88MMjIpwtHQBo\n",
              "9QoOnhEjRuS/YXnnzp3xu9/9Lrp06eJs6QBAq1Vw8Hz6V9AXLVoUL7/8ctEmBABQbAf0TcufdM45\n",
              "58TixYuLMRcAgJIo+B2eT54ZvbGxMV588UVnSwcAWrWCg6dz5875Y3jKysqiuro6/uVf/qUUcwMA\n",
              "KApnSwcAkvcHH8MDANDaFfwOT5s2bfKnlfikLMsil8tFY2NjUSYGAFAsBQfPrbfeGjt27IipU6dG\n",
              "RMS9994bhx12WFx99dXFnhsAQFEUHDyPPPJIvPTSS/nrt912W4wYMSJuuOGGok4MAKBYCj6GZ9u2\n",
              "bU2+VXnTpk2xbdu2ok4KAKCYCn6H55prromampoYO3ZsREQ8+eST8d3vfrfY8wIAKJqCg2fKlClx\n",
              "4oknxpIlSyIiYtq0aTFo0KCiTwwAoFgKDp6IiC5dusSQIUPilFNOiT179sRHH30U7dq1K/bcAACK\n",
              "ouBjeB5++OEYPXp0/M3f/E1ERKxatSrGjx9f7HkBABRNwcEzc+bM+PWvfx2dO3eOiIiampp46623\n",
              "ij0vAICiKTh4ysrKokuXLk22+TgLAGjNCg6ejh07xnvvvZf/tuWnn346jjjiiKJPDACgWAoOnttv\n",
              "vz3OOOOMWL9+fZx00klxySWXxJ133vmZ2+3cuTPGjx8fAwYMiJqamjjttNNi7dq1EfHxd/ecfvrp\n",
              "UV1dHYMHD47nnnsuf79SjAEAh7aCfktr79690djYGEuWLIlf/epXkWVZjBkzJn88z6dNnjw5zjjj\n",
              "jMjlcnH33XfHZZddFs8880xcd911MXr06HjyySdj2bJlcfbZZ8ebb74Zbdu2LckYAHBoKyh42rRp\n",
              "E5MnT46XX345zjjjjP3e9o/+6I/yX04YETF69Oi44447IiJiwYIF+Xd7Ro4cGcccc0w8++yz8ed/\n",
              "/uclGfu0Xbt2xa5du5psc9JTAEhXwR9pVVdX58OiELNmzYpx48bF5s2bY/fu3XH00Ufnx3r37h11\n",
              "dXUlGduXmTNnRqdOnZpcli5dWvCaAIAvh4K/eHDLli0xbNiwGDNmTHTo0CG/fdGiRZ97nxkzZsTa\n",
              "tWvj6aefjh07dhzYTIvo+uuvj2nTpjXZdtNNN7XQbACAUmt28EyePDnuu+++mDBhQpx11lnxx3/8\n",
              "x8263x133BGLFi2Kp556Ktq3bx/t27eP8vLy2LhxY/4dmdra2qiqqoouXboUfWxfKioqoqKiosm2\n",
              "srKy5j4VAMCXTLM/0lq+fHlEREyYMCEeeOCBmDBhQpPLvvzgBz+IH//4x/Hzn/+8yYHN559/ftx7\n",
              "770REbFs2bJ455134uSTTy7ZGABwaDugc2llWfaFt3n77bfjmmuuib59+8bXv/71iPj4nZUXX3wx\n",
              "br/99rj44oujuro62rVrF/Pnz8//NlUpxgCAQ1uzg2fHjh3xyiuvRJZlsXPnzvyff2/o0KFNbt+j\n",
              "R4/PDaNu3brFz372s4M2BgAc2goKnrPOOit//ZN/zuVysX79+uLODACgSJodPLW1tSWcBgBA6RT8\n",
              "PTwAAF82ggcASJ7gAQCSJ3gAgOQJHgAgeYIHAEie4AEAkid4AIDkCR4AIHmCBwBInuABAJIneACA\n",
              "5AkeACB5ggcASJ7gAQCSJ3gAgOQJHgAgeYIHAEie4AEAkid4AIDkCR4AIHmCBwBInuABAJIneACA\n",
              "5AkeACB5ggcASJ7gAQCSJ3gAgOQJHgAgeYIHAEie4AEAkid4AIDkCR4AIHmCBwBInuABAJIneACA\n",
              "5AkeACB5ggcASJ7gAQCSJ3gAgOQJHgAgeYIHAEie4AEAkid4AIDkCR4AIHmCBwBInuABAJIneACA\n",
              "5AkeACB5ggcASJ7gAQCSJ3gAgOQJHgAgeYIHAEie4AEAkid4AIDkCR4AIHmCBwBInuABAJIneACA\n",
              "5AkeACB5ggcASJ7gAQCSJ3gAgOQJHgAgeYIHAEie4AEAkid4AIDkCR4AIHmCBwBIXkmD56qrrore\n",
              "vXtHLpeLlStX5revWbMmxowZEwMGDIiRI0fGqlWrSjoGABzaSho85513Xvzv//5v9OrVq8n2KVOm\n",
              "xOTJk+ONN96Ia6+9NiZOnFjSMQDg0FbS4Pna174WPXr0aLJt06ZNsXz58rjooosiIuLcc8+N+vr6\n",
              "WLt2bUnG9mXXrl3R0NDQ5NLY2FiqpwEAaGEH/Rie+vr66N69e5SXl0dERC6Xi6qqqqirqyvJ2L7M\n",
              "nDkzOnXq1OSydOnSg7B6AKAlHJIHLV9//fWxdevWJpdRo0a19LQAgBIpP9g/sGfPnrFhw4bYs2dP\n",
              "lJeXR5ZlUVdXF1VVVVFZWVn0sX2pqKiIioqKJtvKysoOxvIBgBZw0N/h6dq1awwfPjzmz58fEREL\n",
              "Fy6MHj16RP/+/UsyBgBQ0nd4pkyZEosXL46NGzfGX/7lX0bHjh1j7dq1MWfOnJg4cWLMmDEjKisr\n",
              "Y968efn7lGIMADi0lTR45syZs8/tAwcOjOeff/6gjQEAh7ZD8qBlAODQIngAgOQJHgAgeYIHAEie\n",
              "4AEAkid4AIDkCR4AIHmCBwBInuABAJIneACA5AkeACB5ggcASJ7gAQCSJ3gAgOQJHgAgeYIHAEie\n",
              "4AEAkid4AIDkCR4AIHmCBwBInuABAJIneACA5AkeACB5ggcASJ7gAQCSJ3gAgOQJHgAgeYIHAEie\n",
              "4AEAkid4AIDkCR4AIHmCBwBInuABAJIneACA5AkeACB5ggcASJ7gAQCSJ3gAgOQJHgAgeYIHAEie\n",
              "4AEAkid4AIDkCR4AIHmCBwBInuABAJIneACA5AkeACB5ggcASJ7gAQCSJ3gAgOQJHgAgeYIHAEie\n",
              "4AEAkid4AIDkCR4AIHmCBwBInuABAJIneACA5AkeACB5ggcASJ7gAQCSJ3gAgOQJHgAgeYIHAEie\n",
              "4AEAkid4AIDkCR4AIHmCBwBInuABAJIneACA5AkeACB5SQXPmjVrYsyYMTFgwIAYOXJkrFq1qqWn\n",
              "BAC0AkkFz5QpU2Ly5MnxxhtvxLXXXhsTJ05s6SkBAK1AMsGzadOmWL58eVx00UUREXHuuedGfX19\n",
              "rF279jO33bVrVzQ0NDS5NDY2HuwpAwAHSXlLT6BY6uvro3v37lFe/vGScrlcVFVVRV1dXfTv37/J\n",
              "bWfOnBm33HJLk23HHXdcTJs2rejzamxsjO5Ll8aoUaOirKysqI89bdrTRX28A9HY2BhLS7S+1iL1\n",
              "NR4K6yvVazDC6/BgsL6D55wSPW5jY2OccMJtJVljr1694jvf+c4X3i6XZVlW1J/cQl566aW48MIL\n",
              "Y/Xq1flto0aNiu9///tx6qmnNrntrl27YteuXU22VVRUREVFRdHn1dDQEJ06dYqtW7dGZWVl0R+/\n",
              "paW+voj012h9X36pr9H6vvxawxqTeYenZ8+esWHDhtizZ0+Ul5dHlmVRV1cXVVVVn7ltqeIGAGid\n",
              "kjmGp2vXrjF8+PCYP39+REQsXLgwevTo8ZmPswCAQ08y7/BERMyZMycmTpwYM2bMiMrKypg3b15L\n",
              "TwkAaAWSCp6BAwfG888/39LTaKKioiJuvvnmZD9CS319Eemv0fq+/FJfo/V9+bWGNSZz0DIAwOdJ\n",
              "5hgeAIDPI3gAgOQJHgAgeYIHAEie4CmCxYsXx4gRI6KioiKuvvrq/d52f2d0b61ne9+7d2/83d/9\n",
              "XfTr1y/69+8fd9999z5vt3nz5hg2bFj+MmDAgCgvL48tW7ZERMQpp5wSffr0yY//8z//88Fcxn41\n",
              "d40REb17946BAwfm1/GTn/wkP/Zl34c7d+6M8ePHx4ABA6KmpiZOO+20Jueja237sLnP99y5c6O6\n",
              "ujr69esXf/u3fxu7d+9u1lhLa876/ud//idGjRoVxx9/fAwaNCimT58ee/fujYiI2traKCsra/K6\n",
              "XLdu3cFexudqzvqeeeaZOOyww5qsYceOHfnx1rz/Ipq3xnnz5jVZ35FHHhnnnPPxSR5a+z686qqr\n",
              "onfv3pHL5WLlypWfe7tW8RrM+IOtXr06W7lyZXbDDTdk3/nOd/Z7269//evZvHnzsizLsoceeij7\n",
              "yle+0qyxlvSf//mf2amnnprt2bMn27x5c1ZVVZW9+uqrX3i/f/qnf8rOPPPM/PWTTz45e+SRR0o4\n",
              "0wNXyBp79eqVrVixYp9jX/Z9uGPHjmzx4sXZ3r17syzLstmzZ2cnn3xyfry17cPmPN/r16/Punfv\n",
              "nm3YsCHbu3dv9o1vfCO7++67v3CsNWjO+n79619n69aty7Ls4/134okn5u/z5ptvZp06dTpIsy1c\n",
              "c9a3ZMmSrKamZp/3b+37L8sO7N+EQYMGZQ8//HCWZa1/Hz777LNZfX39fv9dbC2vQcFTRDfffPN+\n",
              "g+e9997LOnbsmO3evTvLsizbu3dv1q1bt2zNmjX7HWtpY8eOzX784x/nr//93/99dsMNN3zh/Y47\n",
              "7rgm/zm2tv8sP6mQNX7eCzvFfbhs2bKsV69e+eutaR829/n+x3/8x2zKlCn564sXL85OPPHELxxr\n",
              "aQf69+nb3/52dvPNN2dZ1rr/s2zu+vYXPK15/2XZge3DF154ITvqqKOyjz76KMuy1r0PP2l/wdNa\n",
              "XoM+0jqI9ndG9/2NtbS6urro1atX/nrv3r2/cF6/+tWv4oMPPogzzzyzyfbrrrsuhgwZEt/85jdj\n",
              "/fr1JZnvgSh0jZdcckkMGTIkLr300nj//fcjYv/7t6UdyD6MiJg1a1aMGzeuybbWsg+b+3zvb+0H\n",
              "+rwcDAfy92njxo3x8MMPN3nd/fa3v42RI0fG8OHD49Zbb43GxsaSz705ClnfunXrYvjw4TFy5Mi4\n",
              "55578ttb8/6LOLB9OHfu3Lj44oujbdu2+W2tdR82V2t5DSb1TculcsIJJ8SaNWv2ObZixYro2bPn\n",
              "QZ5RcX3R+g7E3Llz45JLLsm/0CMifvSjH0XPnj0jy7L413/91zjzzDPjtddeO6DHL1Qx1/jcc89F\n",
              "VVVV7N69O2688caYMGFCPPHEE8WY5gErxT6cMWNGrF27Np5++un8tpbch+xfQ0NDfOMb34jp06fH\n",
              "V77ylYiI6N69e7zzzjvRtWvX2LJlS3zzm9+MO++8M6ZPn97Cs22+4cOHx9tvvx2dOnWKt99+O8aO\n",
              "HRtHHnlk/NVf/VVLT63ofvvb38aDDz4YL7zwQn5bCvuwtfAOTzM8//zz8X//93/7vBQSO588o3tE\n",
              "NDmj+/7GSu2L1ldVVRVvvfVW/va1tbX7ndf27dtjwYIFMWnSpCbbf/9c5XK5uPLKK2P9+vWxefPm\n",
              "0izqU4q5xt9vb9u2bVx99dXxi1/8IiL2v39Lrdj78I477ohFixbFT3/602jfvn1+e0vuw09r7vO9\n",
              "v7UX+rwcTIX8fdq2bVucfvrpMW7cuJg2bVp+e0VFRXTt2jUiIo444oiYNGlS/u9rS2vu+iorK6NT\n",
              "p04REdGjR4/41re+lV9Da95/EYX/m/DQQw/FoEGD4vjjj89va837sLlazWuwJB+UHaK+6BieLPv4\n",
              "GIhPHsA2YsSIZo21pHnz5n3mgNff/OY3n3v7f//3f//MZ7C7d+/ONm7cmL/+8MMPZ1VVVSWbc6Ga\n",
              "u8bt27dnH3zwQf76nXfemX31q1/NX09hH955553Z8OHDsy1btjTZ3hr3YXOe73Xr1n3moMjZs2d/\n",
              "4Vhr0Jz1bdu2LRszZkx2yy23fGbsvffeyx8LsnPnzuy8887LbrrpppLOuRDNWd+7776bNTY2ZlmW\n",
              "ZQ0NDdmYMWOyuXPnZlnW+vdflhX2b8JJJ52U3X///U22tfZ9+Hv7O4antbwGBU8RPPXUU9mxxx6b\n",
              "dezYMevQoUN27LHHZo899liWZVn22GOPZZdeemn+tq+//no2evTorLq6OhsxYkST/3T2N9aS9uzZ\n",
              "k11xxRVZnz59sr59+2Z33XVXfuzT68uyLDvhhBOy//iP/2iybfv27dmIESOywYMHZ0OHDs1OPfXU\n",
              "bOXKlQdl/s3R3DWuW7cuGzZsWDZkyJBs8ODB2VlnnZW9+eab+dt+2fdhfX19FhFZ3759s5qamqym\n",
              "piYbNWpUlmWtcx9+3vN96aWX5l+DWZZl9913X9a3b9+sb9++2aRJk/L/gXzRWEtrzvpuu+22rLy8\n",
              "PL+/ampqsttuuy3LsixbuHBhNmjQoGzo0KHZ8ccfn1155ZXZzp07W2w9n9ac9c2ePTs7/vjj82u4\n",
              "+eab879FmGWte/9lWfP/jr7++utZhw4dsoaGhib3b+37cPLkydmxxx6blZWVZV27ds369euXZVnr\n",
              "fA06eSgAkDzH8AAAyRM8AEDyBA8AkDzBAwAkT/AAAMkTPABA8gQPAJA8wQMAJE/wAADJEzwAQPL+\n",
              "f1CuKjI1DsMiAAAAAElFTkSuQmCC\n",
              "\">\n",
              "      </div>\n",
              "      <script type=\"text/javascript\">\n",
              "        (() => {\n",
              "          const chartElement = document.getElementById(\"chart-d6ded54f-be91-4c17-8516-44be457110a2\");\n",
              "          async function getCodeForChartHandler(event) {\n",
              "            const chartCodeResponse =  await google.colab.kernel.invokeFunction(\n",
              "                'getCodeForChart', [\"chart-d6ded54f-be91-4c17-8516-44be457110a2\"], {});\n",
              "            const responseJson = chartCodeResponse.data['application/json'];\n",
              "            await google.colab.notebook.addCell(responseJson.code, 'code');\n",
              "          }\n",
              "          chartElement.onclick = getCodeForChartHandler;\n",
              "        })();\n",
              "      </script>\n",
              "      <style>\n",
              "        .colab-quickchart-chart-with-code  {\n",
              "            display: block;\n",
              "            float: left;\n",
              "            border: 1px solid transparent;\n",
              "        }\n",
              "\n",
              "        .colab-quickchart-chart-with-code:hover {\n",
              "            cursor: pointer;\n",
              "            border: 1px solid #aaa;\n",
              "        }\n",
              "      </style>"
            ]
          },
          "metadata": {}
        },
        {
          "output_type": "display_data",
          "data": {
            "text/plain": [
              "<google.colab._quickchart_helpers.SectionTitle at 0x7f8017d0e680>"
            ],
            "text/html": [
              "<h4 class=\"colab-quickchart-section-title\">Values</h4>\n",
              "<style>\n",
              "  .colab-quickchart-section-title {\n",
              "      clear: both;\n",
              "  }\n",
              "</style>"
            ]
          },
          "metadata": {}
        },
        {
          "output_type": "display_data",
          "data": {
            "text/plain": [
              "from matplotlib import pyplot as plt\n",
              "movie_reviews['sentiment'].plot(kind='line', figsize=(8, 4), title='sentiment')\n",
              "plt.gca().spines[['top', 'right']].set_visible(False)"
            ],
            "text/html": [
              "      <div class=\"colab-quickchart-chart-with-code\" id=\"chart-ea8b94a5-f506-48e2-9161-d0770c3285e2\">\n",
              "        <img style=\"width: 180px;\" src=\"data:image/png;base64,iVBORw0KGgoAAAANSUhEUgAAAqsAAAFuCAYAAACm1lFrAAAAOXRFWHRTb2Z0d2FyZQBNYXRwbG90\n",
              "bGliIHZlcnNpb24zLjcuMSwgaHR0cHM6Ly9tYXRwbG90bGliLm9yZy/bCgiHAAAACXBIWXMAAA9h\n",
              "AAAPYQGoP6dpAAAlyUlEQVR4nO3df3AUdZ7/8Vcz0RGRRAMEoskkkB/cV8jmh5tcAE/lu0UtIhc4\n",
              "WS9cCWtUSNz74p6VrdPNd5da2VsJVV+Fohb3iMLl1s0tZiXopk73D3+sbjw5Se5AbkOtJEAyg0ai\n",
              "oAlwOpLk8/2D2jlnSUICM9MfkuejqquY/ny6591dnZkXPd39cYwxRgAAAICFJrhdAAAAADAUwioA\n",
              "AACsRVgFAACAtQirAAAAsBZhFQAAANYirAIAAMBahFUAAABYi7AKAAAAaxFWAQAAYC3CKgBY6s47\n",
              "79Q//MM/uF0GALjKYbhVAHBXR0eHZs6cqba2NmVmZrpdThibawMwPnBmFQAAANYirALACG3btk0Z\n",
              "GRmaPHmypk+frrKyMknSZ599pu985ztKS0vTlClTtGTJEh09ejS0XFlZmVauXKl169ZpypQpmj59\n",
              "utavXx9qnzNnjiQpNzdX1113nR566CFJ0h133KEf/vCHoX6O42jr1q2aN2+eJk2apNzcXP3Xf/2X\n",
              "XnjhBc2ePVvx8fH61re+pTNnzoSWiVZtABArhFUAGIG2tjY9+uij+vWvf63Tp0/ryJEjeuCBB2SM\n",
              "0V/91V+pt7dX+/fv14cffqicnBwtXbpU586dCy3/4osv6tZbb1V3d7deeuklbdq0Sb/97W8lSa2t\n",
              "rZKk9957T2fOnNH27duHrOOf//mf9ctf/lKffvqpZs+ereXLl+uVV15RS0uL2tratH//fv30pz+V\n",
              "pJjXBgDRQFgFgBGIi4uTMUatra3q7e3Vddddp9tuu0379+/Xv/3bv6mmpkaJiYnyer3auHGjjh07\n",
              "pnfffTe0/IIFC7Ry5Up5PB7NmzdPeXl52rdv36jrqKys1MyZM3X11Vfr3nvv1dGjR7Vx48bQ2d4l\n",
              "S5aE1hvr2gAgGuLcLgAArgQzZ87U888/r3/8x39URUWFsrKyVFlZqQkTJqivr08pKSkXLBMIBEL/\n",
              "vvHGG8PaJk2apNOnT4+6juTk5LB1DDbvj+tta2uLaW0AEA2EVQAYoWXLlmnZsmXq6+vTnj17tHLl\n",
              "Sv32t7/V1VdfrY8//lhXXXXVJa13woTo/Mg1Y8YMa2sDgJHiUwgARuD999/XK6+8ojNnziguLk4J\n",
              "CQmSpJSUFM2dO1ff+c531N3dLUn69NNP1dDQoP/+7/8e0bqnTZumCRMm6P33349ozbfeequ1tQHA\n",
              "SBFWAWAEvvzySz3xxBO66aabFB8fr+9973t67rnnlJGRoVdffVXXXnut/vzP/1yTJ09Wbm6uXnzx\n",
              "RTmOM6J1T5w4URs3btSaNWt0/fXX62//9m8jUrPH47G2NgAYKQYFAAAAgLU4swoAAABrEVYBAABg\n",
              "LcIqAAAArEVYBQAAgLUIqwAAALAWYRUAAADWIqwCAADAWmM2rG7dutXtEgAAAHCZxmxY7ezsdLsE\n",
              "AAAAXKYxG1YBAABw5SOsAgAAwFqEVQAAAFiLsAoAAABrEVYBAABgLcIqAAAArEVYBQAAgLUIqwAA\n",
              "ALBWVMLqd7/7XaWnp8txHB04cGDIfjt37lRWVpYyMjK0du1anTt3bkRtAAAAGB+iEla/9a1v6e23\n",
              "31ZaWtqQfY4dO6b169erqalJ7e3tOnHihJ555pmLtgEAAGD8iEpYve2225SSkjJsn927d6ukpEQz\n",
              "ZsyQ4zh66KGHtGvXrou2AQAAYPyIc+uN/X5/2JnX9PR0+f3+i7YNJhgMKhgMhs3r7++PcMWD6x8w\n",
              "Kq3ZG5P3Amyx9GvJKlsw0+0yAADjgGthNZKqq6u1YcOGsHnFxcUxe/+Wzk9j9l6ADdq6zxBWAQAx\n",
              "4VpY9fl8OnLkSOh1R0eHfD7fRdsGU1VVpcrKyrB569evj3DFg5vgSNtXFcTkvQC3fXw6qPW/blX/\n",
              "gHG7FADAOOFaWF2xYoVuvfVWPf7445o+fbq2b9+ulStXXrRtMF6vV16vN2yex+OJav1/5DiOFs9N\n",
              "jsl7AW7rPHnW7RIAAONMVG6wqqioUEpKio4fP65vfvObyszMlCStWbNGjY2NkqRZs2Zpw4YNWrBg\n",
              "gTIzMzVt2jRVVFRctA0AAADjh2OMGZO/51VWVmrz5s1ulwGMKZ0nz+r2//emrvPG6fcbvul2OQCA\n",
              "cYARrAAAAGAtwioAAACsRVgFAACAtQirAAAAsBZhFcCojdH7MgEAFiKsAgAAwFqEVQAj5shxuwQA\n",
              "wDhDWAUAAIC1CKsAAACwFmEVAAAA1iKsAgAAwFqEVQAAAFiLsAoAAABrEVYBAABgLcIqgFFj/CoA\n",
              "QKwQVgEAAGAtwiqAEXMYwAoAEGOEVQAAAFiLsAoAAABrEVYBAABgLcIqAAAArEVYBQAAgLUIqwAA\n",
              "ALAWYRUAAADWIqwCGDXDEFYAgBghrAIAAMBaUQmrbW1tmj9/vrKzs1VYWKjW1tYL+tTW1iovLy80\n",
              "TZ06VXfffbckqaOjQx6PJ6z9yJEj0SgVAAAAFouLxkorKipUXl6usrIy7d69W2VlZWpubg7rc//9\n",
              "9+v+++8PvZ47d67uvffe0OvJkyfrwIED0SgPAAAAV4iIn1nt7u5WS0uLVq1aJUlasWKFAoGA2tvb\n",
              "h1zm3XffVXd3t0pKSiJdDgAAAK5gEQ+rgUBAycnJios7f9LWcRz5fD75/f4hl9m5c6dWr16tq666\n",
              "KjTv7NmzKiwsVEFBgX784x+rv79/yOWDwaB6e3vDpuH6AwAA4Mrg+g1WZ8+e1fPPP68HH3wwNC85\n",
              "OVkffPCBmpub9dprr6mpqUlPPfXUkOuorq5WQkJC2LRv375YlA8AAIAoinhYTU1NVVdXl/r6+iRJ\n",
              "xhj5/X75fL5B+7/wwguaM2eObr755tA8r9erpKQkSVJiYqIeeOABNTU1DfmeVVVV6unpCZuKiooi\n",
              "uFUAAABwQ8TDalJSkgoKClRXVydJamhoUEpKijIzMwftv3PnzrCzqtL5617PnTsn6fxP/Hv27FF+\n",
              "fv6Q7+n1ehUfHx82eTyeCG0RAAAA3BKVywBqampUU1Oj7Oxsbdq0SbW1tZKkNWvWqLGxMdTv/fff\n",
              "14EDB1RaWhq2/Ntvv638/Hzl5uaqoKBAM2bM0A9+8INolArgEhgxKgAAIDai8uiq2bNna+/evRfM\n",
              "37FjxwX9Tp8+fUG/u+++O/TMVQAAAIxfrt9gBeDK4ThuVwAAGG8IqwAAALAWYRUAAADWIqwCAADA\n",
              "WoRVAAAAWIuwCgAAAGsRVgEAAGAtwioAAACsRVgFMGqGAawAADFCWAUAAIC1CKsARsxhCCsAQIwR\n",
              "VgEAAGAtwioAAACsRVgFAACAtQirAAAAsBZhFQAAANYirAIAAMBahFUAo8aYAACAWCGsAgAAwFqE\n",
              "VQAAAFiLsApgxBi/CgAQa4RVAAAAWIuwCgAAAGsRVgEAAGAtwioAAACsRVgFAACAtaISVtva2jR/\n",
              "/nxlZ2ersLBQra2tF/R58803NXHiROXl5YWmzz//PNS+c+dOZWVlKSMjQ2vXrtW5c+eiUSoAAAAs\n",
              "FpWwWlFRofLych0+fFiPPfaYysrKBu03e/ZsHThwIDRNnDhRknTs2DGtX79eTU1Nam9v14kTJ/TM\n",
              "M89Eo1QAl4IhrAAAMRLxsNrd3a2WlhatWrVKkrRixQoFAgG1t7ePeB27d+9WSUmJZsyYIcdx9NBD\n",
              "D2nXrl2RLhUAAACWi3hYDQQCSk5OVlxcnCTJcRz5fD75/f4L+h45ckQFBQUqLCzUz372s9B8v9+v\n",
              "tLS00Ov09PRBl/+jYDCo3t7esKm/vz+CWwVAkhxGBQAAxFicW29cUFCg48ePKyEhQcePH9eSJUs0\n",
              "depU/fVf//Wo11VdXa0NGzaEzSsuLo5UqQAAAHBJxM+spqamqqurS319fZIkY4z8fr98Pl9Yv/j4\n",
              "eCUkJEiSUlJS9Dd/8zdqamqSJPl8PnV2dob6dnR0XLD8V1VVVamnpydsKioqivSmAQAAIMYiHlaT\n",
              "kpJUUFCguro6SVJDQ4NSUlKUmZkZ1q+rq0sDAwOSpNOnT+tf//VflZ+fL+n8da6NjY366KOPZIzR\n",
              "9u3btXLlyiHf0+v1Kj4+PmzyeDyR3jQAAADEWFSeBlBTU6OamhplZ2dr06ZNqq2tlSStWbNGjY2N\n",
              "ks6H2JycHOXm5qq4uFiLFi3S/fffL0maNWuWNmzYoAULFigzM1PTpk1TRUVFNEoFAACAxRxjzJh8\n",
              "CE1lZaU2b97sdhnAmNLV87nmVb+hqz0TdPiJO90uBwAwDjCCFQAAAKxFWAUAAIC1CKsARs0whBUA\n",
              "IEYIqwAAALAWYRXAiDliCCsAQGwRVgEAAGAtwioAAACsRVgFAACAtQirAAAAsBZhFQAAANYirAIA\n",
              "AMBahFUAo2YYEwAAECOEVQAAAFiLsApgxBzGBAAAxBhhFQAAANYirAIAAMBahFUAAABYi7AKAAAA\n",
              "axFWAQAAYC3CKgAAAKxFWAUAAIC1CKsARo0BrAAAsUJYBQAAgLUIqwBGjAGsAACxRlgFAACAtQir\n",
              "AAAAsFZUwmpbW5vmz5+v7OxsFRYWqrW19YI+b7zxhoqKinTzzTdrzpw5evTRRzUwMCBJ6ujokMfj\n",
              "UV5eXmg6cuRINEoFAACAxaISVisqKlReXq7Dhw/rscceU1lZ2QV9brjhBj3//PM6dOiQ/uM//kPv\n",
              "vPOOnnvuuVD75MmTdeDAgdCUkZERjVIBAABgsYiH1e7ubrW0tGjVqlWSpBUrVigQCKi9vT2sX35+\n",
              "vmbNmiVJuuaaa5SXl6eOjo5IlwMAAIArWMTDaiAQUHJysuLi4iRJjuPI5/PJ7/cPucxHH32k3bt3\n",
              "a+nSpaF5Z8+eVWFhoQoKCvTjH/9Y/f39Qy4fDAbV29sbNg3XHwAAAFcG12+w6u3t1V/+5V/q0Ucf\n",
              "1de//nVJUnJysj744AM1NzfrtddeU1NTk5566qkh11FdXa2EhISwad++fbHaBAAAAERJxMNqamqq\n",
              "urq61NfXJ0kyxsjv98vn813Q9/Tp01q8eLGWLVumysrK0Hyv16ukpCRJUmJioh544AE1NTUN+Z5V\n",
              "VVXq6ekJm4qKiiK8ZQD+yBjGsAIAxEbEw2pSUpIKCgpUV1cnSWpoaFBKSooyMzPD+p05c0aLFy/W\n",
              "4sWL9cMf/jCsrbu7W+fOnZN0/if+PXv2KD8/f8j39Hq9io+PD5s8Hk+EtwwAAACxFpXLAGpqalRT\n",
              "U6Ps7Gxt2rRJtbW1kqQ1a9aosbFRkrR161bt27dPe/bsCT2e6oknnpAkvf3228rPz1dubq4KCgo0\n",
              "Y8YM/eAHP4hGqQBGgyGsAAAx5pgx+nteZWWlNm/e7HYZwJjSffoLFT3xuiY40tHqu9wuBwAwDrh+\n",
              "gxUAAAAwFMIqAAAArEVYBQAAgLUIqwAAALAWYRUAAADWIqwCGLUx+QgRAICVCKsAAACwFmEVwIg5\n",
              "jAoAAIgxwioAAACsRVgFAACAtQirAAAAsBZhFQAAANYirAIAAMBahFUAAABYi7AKAAAAaxFWAYya\n",
              "YQgrAECMEFYBAABgLcIqgBFzGMAKABBjhFUAAABYi7AKAAAAaxFWAQAAYC3CKgAAAKxFWAUAAIC1\n",
              "CKsAAACwFmEVAAAA1iKsAgAAwFpRCattbW2aP3++srOzVVhYqNbW1kH77dy5U1lZWcrIyNDatWt1\n",
              "7ty5EbUBcAdjAgAAYi0qYbWiokLl5eU6fPiwHnvsMZWVlV3Q59ixY1q/fr2amprU3t6uEydO6Jln\n",
              "nrloGwAAAMaPiIfV7u5utbS0aNWqVZKkFStWKBAIqL29Pazf7t27VVJSohkzZshxHD300EPatWvX\n",
              "RdsAAAAwfsRFeoWBQEDJycmKizu/asdx5PP55Pf7lZmZGern9/uVlpYWep2eni6/33/RtsEEg0EF\n",
              "g8Gwef39/RHZHgDA+GSM0eONrWr9sNftUoCYKUi7Qf93yf9yu4wwEQ+rbqiurtaGDRvC5hUXF7tU\n",
              "DQBgLAic+lw/39vpdhlATE2+xr5oGPGKUlNT1dXVpb6+PsXFxckYI7/fL5/PF9bP5/PpyJEjodcd\n",
              "HR2hPsO1DaaqqkqVlZVh89avXx+JzQEAjFN9AwOSpIlXebSlNNflaoDYmDbZ63YJF4h4WE1KSlJB\n",
              "QYHq6upUVlamhoYGpaSkhF0CIJ2/lvXWW2/V448/runTp2v79u1auXLlRdsG4/V65fWG71yPxxPp\n",
              "TQMAjENXeRwtnpvsdhnAuBWVpwHU1NSopqZG2dnZ2rRpk2prayVJa9asUWNjoyRp1qxZ2rBhgxYs\n",
              "WKDMzExNmzZNFRUVF20DAADA+OEYY4zbRURDZWWlNm/e7HYZwJhy8kxQt/zkNUnSseolchyevIqx\n",
              "6+jHZ/S/n3pL8dfE6eDj33S7HGDcYgQrAAAGMSbP5ABXIMIqgBHjTCoAINYIqwAADIP/pAHuIqwC\n",
              "AADAWoRVAAAAWIuwCgDAIMbms3KAKw9hFQAAANYirAIAMAzurwLcRVgFAACAtQirAC4J1/MBAGKB\n",
              "sAoAwKD4HxlgA8IqgBHj0j0AQKwRVgEAGAb/SQPcRVgFAACAtQirAAAAsBZhFQCAQfDEC8AOhFUA\n",
              "AABYi7AKAMAwHIawAlxFWAVwSfiFFAAQC4RVAAAAWIuwCmDE+DUU4wm/HgB2IKwCAADAWoRVAACG\n",
              "wQ8KgLsIqwAAALAWYRUAAADWIqwCADAIRrAC7BDRsDowMKCHH35YGRkZyszM1LZt2wbt98UXX2j5\n",
              "8uXKzs5Wbm6uFi1apPb29lD7HXfcoZkzZyovL095eXnasmVLJMsEAADAFSIukiurq6vToUOHdPjw\n",
              "YfX09Cg/P18LFy7UnDlzLuhbXl6uO++8U47jaNu2bVqzZo3efPPNUPuWLVu0fPnySJYHAMCo8cg2\n",
              "wF0RPbNaX1+vtWvXyuPxKDExUaWlpdq1a9cF/a655hotWbIkNIRdcXGxOjo6IlkKgCgz/EYKAIiB\n",
              "iIZVv9+vtLS00Ov09HT5/f6LLrd161YtW7YsbN73v/995eTkqLS0VEePHh12+WAwqN7e3rCpv7//\n",
              "0jYCAAAA1hjVZQDz5s1TW1vboG379++/pAI2btyo9vZ2vf7666F5v/jFL5SamipjjJ5++mktXbpU\n",
              "hw4dGnId1dXV2rBhQ9i84uLiS6oHwNAcnjiJccQwhhVghVGdWd27d68++eSTQafU1FT5fD51dnaG\n",
              "+nd0dMjn8w25vieffFJ79uzRb37zG1177bWh+ampqZIkx3G0bt06HT16VCdPnhxyPVVVVerp6Qmb\n",
              "ioqKRrNpAAAAsFBELwO455579Oyzz6q/v1+nTp1SfX29SktLB+27efNm7dq1S6+++qquv/760Py+\n",
              "vj6dOHEi9LqhoUHTp0/XlClThnxfr9er+Pj4sMnj8URsuwAA4xm/KABuiujTAFavXq3m5mZlZWXJ\n",
              "cRxVVlYqJydHktTY2KjGxkbt2LFDx48f1/e+9z3NmjVLCxculHQ+cL777rsKBoO66667FAwGNWHC\n",
              "BE2dOlWNjY2RLBMAAABXiIiGVY/Ho6effnrQtpKSEpWUlEiSUlJShryTeNKkSWppaYlkWQAAjBoP\n",
              "vADswAhWAAAAsBZhFQAAANYirAIAMAxGsALcRVgFcEm4nA8AEAuEVQAABsENVoAdCKsARo6fQwEA\n",
              "MUZYBQBgGPwfDXAXYRUAAADWIqwCAADAWoRVAAAGYXjmBWAFwioAAACsRVgFAGAYDAoAuIuwCuCS\n",
              "8AxKAEAsEFYBAABgLcIqgBHj51CMJ/x6ANiBsAoAAABrEVYBABiGwxhWgKsIqwAAALAWYRUAAADW\n",
              "IqwCAADAWoRVAAAAWIuwCgDAMHhkG+AuwiqAS2LEQygBANFHWAUAAIC1CKsARoxfQzGeMIIVYAfC\n",
              "KgAAAKwV0bA6MDCghx9+WBkZGcrMzNS2bduG7Juenq7Zs2crLy9PeXl5qq+vD7W1tbVp/vz5ys7O\n",
              "VmFhoVpbWyNZJgAAI8YvCoC74iK5srq6Oh06dEiHDx9WT0+P8vPztXDhQs2ZM2fQ/vX19crLy7tg\n",
              "fkVFhcrLy1VWVqbdu3errKxMzc3NkSwVAAAAV4CInlmtr6/X2rVr5fF4lJiYqNLSUu3atWtU6+ju\n",
              "7lZLS4tWrVolSVqxYoUCgYDa29sjWSoAAACuABENq36/X2lpaaHX6enp8vv9Q/b/9re/rZycHD34\n",
              "4IP6+OOPJUmBQEDJycmKizt/0tdxHPl8vmHXEwwG1dvbGzb19/dHaKsAAOMRj2cD7DCqsDpv3jxN\n",
              "nTp10CkQCIzqjX/3u9/p4MGD+s///E9NnTpV991336iW/6rq6molJCSETfv27bvk9QEAAMAOowqr\n",
              "e/fu1SeffDLolJqaKp/Pp87OzlD/jo4O+Xy+Qdf1x/lXXXWVHnnkETU1NUmSUlNT1dXVpb6+PkmS\n",
              "MUZ+v3/I9UhSVVWVenp6wqaioqLRbBqAUeKxPhgvHIawAlwV0csA7rnnHj377LPq7+/XqVOnVF9f\n",
              "r9LS0gv6nT17Vp999lno9a5du5Sfny9JSkpKUkFBgerq6iRJDQ0NSklJUWZm5pDv6/V6FR8fHzZ5\n",
              "PJ5IbhoAAABcENGnAaxevVrNzc3KysqS4ziqrKxUTk6OJKmxsVGNjY3asWOHTpw4oRUrVqi/v1/G\n",
              "GM2aNUvPPfdcaD01NTUqKyvTxo0bFR8fr9ra2kiWCeAScYYJABBrEQ2rHo9HTz/99KBtJSUlKikp\n",
              "kSTNmjVL+/fvH3I9s2fP1t69eyNZGgAAo8KlLoAdGMEKAAAA1iKsAgAAwFqEVQAAAFiLsAoAAABr\n",
              "EVYBABgE91cBdiCsAgAAwFqEVQAAhsHjhQF3EVYBAABgLcIqgBHjBBMAINYIqwAADMIwhBVgBcIq\n",
              "AAAArEVYBQBgGNxgBbiLsAoAAABrEVYBAABgLcIqAACD4PYqwA6EVQAAAFiLsArgkvBUH4wXDk8Y\n",
              "BlxFWAUAAIC1CKsARoxH+AAAYo2wCgDAILjUBbADYRUAAADWIqwCADAMLn8B3EVYBQAAgLUIqwAA\n",
              "ALAWYRUAgEFxhxVgA8IqgEti+CIHAMRARMPqwMCAHn74YWVkZCgzM1Pbtm0btN/JkyeVl5cXmrKz\n",
              "sxUXF6dTp05Jku644w7NnDkz1L5ly5ZIlgkAwIhxfxXgrrhIrqyurk6HDh3S4cOH1dPTo/z8fC1c\n",
              "uFBz5swJ6zdlyhQdOHAg9PrJJ5/UW2+9pcTExNC8LVu2aPny5ZEsD8BlYthJAECsRfTMan19vdau\n",
              "XSuPx6PExESVlpZq165dF11u586devDBByNZCgAAAMaAiIZVv9+vtLS00Ov09HT5/f5hl3nnnXf0\n",
              "6aefaunSpWHzv//97ysnJ0elpaU6evTosOsIBoPq7e0Nm/r7+y99QwAA4x4jWAF2GFVYnTdvnqZO\n",
              "nTroFAgELqmAnTt36tvf/rbi4v7nioRf/OIX+sMf/qCDBw/qL/7iLy4Isn+qurpaCQkJYdO+ffsu\n",
              "qR4AAADYY1Rhde/evfrkk08GnVJTU+Xz+dTZ2Rnq39HRIZ/PN+T6zpw5o1/96ld64IEHwuanpqZK\n",
              "khzH0bp163T06FGdPHlyyPVUVVWpp6cnbCoqKhrNpgEAMCiHIawAV0X0MoB77rlHzz77rPr7+3Xq\n",
              "1CnV19ertLR0yP719fXKzc3Vn/3Zn4Xm9fX16cSJE6HXDQ0Nmj59uqZMmTLkerxer+Lj48Mmj8cT\n",
              "mY0CAACAayL6NIDVq1erublZWVlZchxHlZWVysnJkSQ1NjaqsbFRO3bsCPXfuXOn1q5dG7aOYDCo\n",
              "u+66S8FgUBMmTNDUqVPV2NgYyTIBAABwhYhoWPV4PHr66acHbSspKVFJSUnYvHfeeeeCfpMmTVJL\n",
              "S0skywIAYNS4vwqwAyNYAbgk3CkNAIgFwioAAMPg9irAXYRVACPGTdEAgFgjrAIAAMBahFUAAAbB\n",
              "ddmAHQirAAAAsBZhFQCA4XCtNuAqwioAAACsRVgFAACAtQirAC4J955grDPcYQVYgbAKAAAAaxFW\n",
              "AQAYBvdXAe4irAIAAMBahFUAAABYi7AKAMAguL0KsANhFQAAANYirAIAMAzH4RYrwE2EVQAAAFiL\n",
              "sAoAAABrEVYBXBJG98FYxyEO2IGwCgAAAGsRVgGMGPeZYDzisAfcRVgFAACAtQirAAAAsBZhFQCA\n",
              "QRjGsAKsQFgFAACAtSIaVl9++WXdcsst8nq9euSRR4bt29bWpvnz5ys7O1uFhYVqbW0dURsAALHE\n",
              "jYWAuyIaVrOysvRP//RP+vu///uL9q2oqFB5ebkOHz6sxx57TGVlZSNqAwAAwPgR0bCanZ2t3Nxc\n",
              "xcXFDduvu7tbLS0tWrVqlSRpxYoVCgQCam9vH7YNAAAA48vwqTJKAoGAkpOTQ6HWcRz5fD75/X4l\n",
              "JCQM2ZaZmTno+oLBoILBYNi8/v7+6G4EMM6t3rlPcRP4fRRjV+8X59wuAYBGGVbnzZuntra2Qdv2\n",
              "79+v1NTUiBQ1WtXV1dqwYUPYvOLiYldqAcayqyZM0NTrrtYnZ77UgcBnbpcDxMSMhIlulwCMa6MK\n",
              "q3v37o3Im6ampqqrq0t9fX2Ki4uTMUZ+v18+n0/x8fFDtg2lqqpKlZWVYfPWr18fkVoB/I8JExy9\n",
              "9H8W6Pcf9LhdChATjuOoeOYUt8sAxjVXLgNISkpSQUGB6urqVFZWpoaGBqWkpIR+5h+ubTBer1de\n",
              "rzdsnsfjieo2AONVyg3XKuWGa90uAwAwTjjGmIg99fj111/Xfffdp97eXhljlJCQoJ/97GcqKSlR\n",
              "Y2OjGhsbtWPHDknS+++/r7KyMp08eVLx8fGqra1VTk7ORdtGqrKyUps3b47UpgEAAMAFEQ2rNiGs\n",
              "AgAAXPkYwQoAAADWIqwCAADAWoRVAAAAWIuwCgAAAGsRVgEAAGAtwioAAACsRVgFAACAtQirAAAA\n",
              "sBZhFQAAANYasyNY3X333UpPT4/Je/X392vfvn0qKiqSx+OJyXuOB+zX6GC/Rh77NDrYr9HBfo0O\n",
              "9uulSUtL09/93d8N22fMhtVY6u3tVUJCgnp6ehQfH+92OWMG+zU62K+Rxz6NDvZrdLBfo4P9Gj1c\n",
              "BgAAAABrEVYBAABgLcIqAAAArEVYjQCv16sf/ehH8nq9bpcyprBfo4P9Gnns0+hgv0YH+zU62K/R\n",
              "ww1WAAAAsBZnVgEAAGAtwioAAACsRVgFAACAtQirl6mtrU3z589Xdna2CgsL1dra6nZJ1vjiiy+0\n",
              "fPlyZWdnKzc3V4sWLVJ7e7skqbu7W4sXL1ZWVpbmzp2r3/3ud6HlotE2VtXW1spxHL300kuS2K+X\n",
              "KxgMat26dcrKylJOTo5WrVolafi/82i0jSWvvPKKCgoKlJeXp7lz5+rnP/+5JI7V0frud7+r9PR0\n",
              "OY6jAwcOhObH+tgca8ftYPt1uO8uiWPXFQaXZeHChaa2ttYYY8wLL7xgvv71r7tbkEU+//xz8/LL\n",
              "L5uBgQFjjDE//elPze23326MMeb+++83P/rRj4wxxuzbt8/cdNNN5ssvv4xa21h07NgxM2/ePFNc\n",
              "XGxefPFFYwz79XI98sgjZt26daFjtquryxgz/N95NNrGioGBAXPDDTeY9957zxhz/pj1er2mt7eX\n",
              "Y3WU3nrrLRMIBExaWprZv39/aH6sj82xdtwOtl+H++4yhs9ZNxBWL8OJEyfM5MmTzblz54wx5z+Y\n",
              "p0+fbtra2lyuzE7Nzc0mLS3NGGPMpEmTQkHAGGMKCwvNq6++GrW2saa/v9984xvfMC0tLeb2228P\n",
              "hVX266U7c+aMmTx5sunp6QmbP9zfeTTaxpKBgQGTmJho3nrrLWOMMe+995658cYbTTAY5Fi9RF8N\n",
              "VbE+Nsfycfun/wn4qq9+dxnD56wb4tw+s3slCwQCSk5OVlzc+d3oOI58Pp/8fr8yMzNdrs4+W7du\n",
              "1bJly3Ty5EmdO3dOM2bMCLWlp6fL7/dHpW0s2rx5sxYsWKBbbrklNI/9enmOHDmixMREbdy4Ua+9\n",
              "9pomTpyoxx9/XNdff/2Qf+cJCQkRbxtLnx2O46i+vl533323Jk2apE8//VR79uzR6dOnOVYjYLjv\n",
              "oGgcm+PluP1Tf/zukvicdQthFTGxceNGtbe36/XXX9fnn3/udjlXtN///vdqaGjgmqYI6+vrU2dn\n",
              "p26++WZt2rRJ+/fv16JFi/Tyyy+7XdoVq6+vTz/5yU+0Z88e3XbbbWpublZJSUnYNZeAzb763QX3\n",
              "cIPVZUhNTVVXV5f6+vokScYY+f1++Xw+lyuzy5NPPqk9e/boN7/5ja699lpNmTJFcXFx+uijj0J9\n",
              "Ojo65PP5otI21jQ1Namjo0NZWVlKT0/Xv//7v6u8vFy/+tWv2K+XwefzacKECbr33nslSfn5+Zo5\n",
              "c6Y6OzuH/Dsf7jPgUtvGkgMHDujDDz/UbbfdJkkqLCxUSkqKDh48yLEaAdE4/jhu/8effndJ4vvL\n",
              "LW5dfzBW3H777WEXm99yyy3uFmSZp556yhQUFJhTp06Fzb/vvvvCLia/8cYbQxeTR6NtLPvqNavs\n",
              "18uzaNEi8/LLLxtjjDl69KiZMmWKOX78+LB/59FoGys++ugjc91115lDhw4ZY4xpa2szN9xwg+ns\n",
              "7ORYvUR/em1lrI/NsXrc/ul+Heq7yxg+Z91AWL1Mf/jDH0xxcbHJysoyt9xyizl48KDbJVkjEAgY\n",
              "SWbWrFkmNzfX5ObmmqKiImPM+S+xRYsWmczMTHPzzTebN954I7RcNNrGsq+GVfbr5Tly5Ii54447\n",
              "zNy5c83XvvY1s3v3bmPM8H/n0WgbS375y1+G9ufcuXPNv/zLvxhjOFZHq7y83Nx0003G4/GYpKQk\n",
              "k5GRYYyJ/bE51o7bwfbrcN9dxnDsusExxhi3z+4CAAAAg+GaVQAAAFiLsAoAAABrEVYBAABgLcIq\n",
              "AAAArEVYBQAAgLUIqwAAALAWYRUAAADWIqwCAADAWoRVAAAAWIuwCgAAAGsRVgEAAGCt/w8XT3fJ\n",
              "gy2iowAAAABJRU5ErkJggg==\n",
              "\">\n",
              "      </div>\n",
              "      <script type=\"text/javascript\">\n",
              "        (() => {\n",
              "          const chartElement = document.getElementById(\"chart-ea8b94a5-f506-48e2-9161-d0770c3285e2\");\n",
              "          async function getCodeForChartHandler(event) {\n",
              "            const chartCodeResponse =  await google.colab.kernel.invokeFunction(\n",
              "                'getCodeForChart', [\"chart-ea8b94a5-f506-48e2-9161-d0770c3285e2\"], {});\n",
              "            const responseJson = chartCodeResponse.data['application/json'];\n",
              "            await google.colab.notebook.addCell(responseJson.code, 'code');\n",
              "          }\n",
              "          chartElement.onclick = getCodeForChartHandler;\n",
              "        })();\n",
              "      </script>\n",
              "      <style>\n",
              "        .colab-quickchart-chart-with-code  {\n",
              "            display: block;\n",
              "            float: left;\n",
              "            border: 1px solid transparent;\n",
              "        }\n",
              "\n",
              "        .colab-quickchart-chart-with-code:hover {\n",
              "            cursor: pointer;\n",
              "            border: 1px solid #aaa;\n",
              "        }\n",
              "      </style>"
            ]
          },
          "metadata": {}
        }
      ],
      "source": [
        "\n",
        "twitter_data = pd.read_excel(\"/content/Final_balanced_sentiment_data.xlsx\")\n",
        "\n",
        "twitter_data"
      ]
    },
    {
      "source": [
        "from matplotlib import pyplot as plt\n",
        "twitter_data['sentiment'].plot(kind='hist', bins=20, title='sentiment')\n",
        "plt.gca().spines[['top', 'right',]].set_visible(False)"
      ],
      "cell_type": "code",
      "metadata": {
        "id": "lmcthRV2fl10",
        "outputId": "a637396b-f480-4100-e084-c65dfda67d17",
        "colab": {
          "base_uri": "https://localhost:8080/",
          "height": 452
        }
      },
      "execution_count": 59,
      "outputs": [
        {
          "output_type": "display_data",
          "data": {
            "text/plain": [
              "<Figure size 640x480 with 1 Axes>"
            ],
            "image/png": "[encoded data removed]"
          },
          "metadata": {}
        }
      ]
    },
    {
      "cell_type": "code",
      "source": [
        "from google.colab import drive\n",
        "drive.mount('/content/drive')"
      ],
      "metadata": {
        "id": "AKq0TqwyeS-C"
      },
      "execution_count": null,
      "outputs": []
    },
    {
      "cell_type": "code",
      "execution_count": 60,
      "metadata": {
        "id": "elu2E2KjPBJX",
        "colab": {
          "base_uri": "https://localhost:8080/"
        },
        "outputId": "df5eea4b-32e2-4449-f7be-20f823e11c6e"
      },
      "outputs": [
        {
          "output_type": "execute_result",
          "data": {
            "text/plain": [
              "(131359, 2)"
            ]
          },
          "metadata": {},
          "execution_count": 60
        }
      ],
      "source": [
        "# Dataset exploration\n",
        "\n",
        "twitter_data.shape"
      ]
    },
    {
      "cell_type": "code",
      "execution_count": 61,
      "metadata": {
        "id": "Ua8sjtdaPIAq",
        "colab": {
          "base_uri": "https://localhost:8080/",
          "height": 206
        },
        "outputId": "ba1dc75d-bee7-4588-83ae-93ec556eb820"
      },
      "outputs": [
        {
          "output_type": "execute_result",
          "data": {
            "text/plain": [
              "                                                text  sentiment\n",
              "0  what did just say vote for modi  welcome bjp t...          1\n",
              "1  asking his supporters prefix chowkidar their n...          1\n",
              "2  answer who among these the most powerful world...          1\n",
              "3  with upcoming election india saga going import...          1\n",
              "4                         gandhi was gay does modi            1"
            ],
            "text/html": [
              "\n",
              "  <div id=\"df-2332d524-3454-437a-a0d0-adecc408fd69\" class=\"colab-df-container\">\n",
              "    <div>\n",
              "<style scoped>\n",
              "    .dataframe tbody tr th:only-of-type {\n",
              "        vertical-align: middle;\n",
              "    }\n",
              "\n",
              "    .dataframe tbody tr th {\n",
              "        vertical-align: top;\n",
              "    }\n",
              "\n",
              "    .dataframe thead th {\n",
              "        text-align: right;\n",
              "    }\n",
              "</style>\n",
              "<table border=\"1\" class=\"dataframe\">\n",
              "  <thead>\n",
              "    <tr style=\"text-align: right;\">\n",
              "      <th></th>\n",
              "      <th>text</th>\n",
              "      <th>sentiment</th>\n",
              "    </tr>\n",
              "  </thead>\n",
              "  <tbody>\n",
              "    <tr>\n",
              "      <th>0</th>\n",
              "      <td>what did just say vote for modi  welcome bjp t...</td>\n",
              "      <td>1</td>\n",
              "    </tr>\n",
              "    <tr>\n",
              "      <th>1</th>\n",
              "      <td>asking his supporters prefix chowkidar their n...</td>\n",
              "      <td>1</td>\n",
              "    </tr>\n",
              "    <tr>\n",
              "      <th>2</th>\n",
              "      <td>answer who among these the most powerful world...</td>\n",
              "      <td>1</td>\n",
              "    </tr>\n",
              "    <tr>\n",
              "      <th>3</th>\n",
              "      <td>with upcoming election india saga going import...</td>\n",
              "      <td>1</td>\n",
              "    </tr>\n",
              "    <tr>\n",
              "      <th>4</th>\n",
              "      <td>gandhi was gay does modi</td>\n",
              "      <td>1</td>\n",
              "    </tr>\n",
              "  </tbody>\n",
              "</table>\n",
              "</div>\n",
              "    <div class=\"colab-df-buttons\">\n",
              "\n",
              "  <div class=\"colab-df-container\">\n",
              "    <button class=\"colab-df-convert\" onclick=\"convertToInteractive('df-2332d524-3454-437a-a0d0-adecc408fd69')\"\n",
              "            title=\"Convert this dataframe to an interactive table.\"\n",
              "            style=\"display:none;\">\n",
              "\n",
              "  <svg xmlns=\"http://www.w3.org/2000/svg\" height=\"24px\" viewBox=\"0 -960 960 960\">\n",
              "    <path d=\"M120-120v-720h720v720H120Zm60-500h600v-160H180v160Zm220 220h160v-160H400v160Zm0 220h160v-160H400v160ZM180-400h160v-160H180v160Zm440 0h160v-160H620v160ZM180-180h160v-160H180v160Zm440 0h160v-160H620v160Z\"/>\n",
              "  </svg>\n",
              "    </button>\n",
              "\n",
              "  <style>\n",
              "    .colab-df-container {\n",
              "      display:flex;\n",
              "      gap: 12px;\n",
              "    }\n",
              "\n",
              "    .colab-df-convert {\n",
              "      background-color: #E8F0FE;\n",
              "      border: none;\n",
              "      border-radius: 50%;\n",
              "      cursor: pointer;\n",
              "      display: none;\n",
              "      fill: #1967D2;\n",
              "      height: 32px;\n",
              "      padding: 0 0 0 0;\n",
              "      width: 32px;\n",
              "    }\n",
              "\n",
              "    .colab-df-convert:hover {\n",
              "      background-color: #E2EBFA;\n",
              "      box-shadow: 0px 1px 2px rgba(60, 64, 67, 0.3), 0px 1px 3px 1px rgba(60, 64, 67, 0.15);\n",
              "      fill: #174EA6;\n",
              "    }\n",
              "\n",
              "    .colab-df-buttons div {\n",
              "      margin-bottom: 4px;\n",
              "    }\n",
              "\n",
              "    [theme=dark] .colab-df-convert {\n",
              "      background-color: #3B4455;\n",
              "      fill: #D2E3FC;\n",
              "    }\n",
              "\n",
              "    [theme=dark] .colab-df-convert:hover {\n",
              "      background-color: #434B5C;\n",
              "      box-shadow: 0px 1px 3px 1px rgba(0, 0, 0, 0.15);\n",
              "      filter: drop-shadow(0px 1px 2px rgba(0, 0, 0, 0.3));\n",
              "      fill: #FFFFFF;\n",
              "    }\n",
              "  </style>\n",
              "\n",
              "    <script>\n",
              "      const buttonEl =\n",
              "        document.querySelector('#df-2332d524-3454-437a-a0d0-adecc408fd69 button.colab-df-convert');\n",
              "      buttonEl.style.display =\n",
              "        google.colab.kernel.accessAllowed ? 'block' : 'none';\n",
              "\n",
              "      async function convertToInteractive(key) {\n",
              "        const element = document.querySelector('#df-2332d524-3454-437a-a0d0-adecc408fd69');\n",
              "        const dataTable =\n",
              "          await google.colab.kernel.invokeFunction('convertToInteractive',\n",
              "                                                    [key], {});\n",
              "        if (!dataTable) return;\n",
              "\n",
              "        const docLinkHtml = 'Like what you see? Visit the ' +\n",
              "          '<a target=\"_blank\" href=https://colab.research.google.com/notebooks/data_table.ipynb>data table notebook</a>'\n",
              "          + ' to learn more about interactive tables.';\n",
              "        element.innerHTML = '';\n",
              "        dataTable['output_type'] = 'display_data';\n",
              "        await google.colab.output.renderOutput(dataTable, element);\n",
              "        const docLink = document.createElement('div');\n",
              "        docLink.innerHTML = docLinkHtml;\n",
              "        element.appendChild(docLink);\n",
              "      }\n",
              "    </script>\n",
              "  </div>\n",
              "\n",
              "\n",
              "<div id=\"df-27a99674-89be-4c37-b3b2-1c481696c34a\">\n",
              "  <button class=\"colab-df-quickchart\" onclick=\"quickchart('df-27a99674-89be-4c37-b3b2-1c481696c34a')\"\n",
              "            title=\"Suggest charts\"\n",
              "            style=\"display:none;\">\n",
              "\n",
              "<svg xmlns=\"http://www.w3.org/2000/svg\" height=\"24px\"viewBox=\"0 0 24 24\"\n",
              "     width=\"24px\">\n",
              "    <g>\n",
              "        <path d=\"M19 3H5c-1.1 0-2 .9-2 2v14c0 1.1.9 2 2 2h14c1.1 0 2-.9 2-2V5c0-1.1-.9-2-2-2zM9 17H7v-7h2v7zm4 0h-2V7h2v10zm4 0h-2v-4h2v4z\"/>\n",
              "    </g>\n",
              "</svg>\n",
              "  </button>\n",
              "\n",
              "<style>\n",
              "  .colab-df-quickchart {\n",
              "      --bg-color: #E8F0FE;\n",
              "      --fill-color: #1967D2;\n",
              "      --hover-bg-color: #E2EBFA;\n",
              "      --hover-fill-color: #174EA6;\n",
              "      --disabled-fill-color: #AAA;\n",
              "      --disabled-bg-color: #DDD;\n",
              "  }\n",
              "\n",
              "  [theme=dark] .colab-df-quickchart {\n",
              "      --bg-color: #3B4455;\n",
              "      --fill-color: #D2E3FC;\n",
              "      --hover-bg-color: #434B5C;\n",
              "      --hover-fill-color: #FFFFFF;\n",
              "      --disabled-bg-color: #3B4455;\n",
              "      --disabled-fill-color: #666;\n",
              "  }\n",
              "\n",
              "  .colab-df-quickchart {\n",
              "    background-color: var(--bg-color);\n",
              "    border: none;\n",
              "    border-radius: 50%;\n",
              "    cursor: pointer;\n",
              "    display: none;\n",
              "    fill: var(--fill-color);\n",
              "    height: 32px;\n",
              "    padding: 0;\n",
              "    width: 32px;\n",
              "  }\n",
              "\n",
              "  .colab-df-quickchart:hover {\n",
              "    background-color: var(--hover-bg-color);\n",
              "    box-shadow: 0 1px 2px rgba(60, 64, 67, 0.3), 0 1px 3px 1px rgba(60, 64, 67, 0.15);\n",
              "    fill: var(--button-hover-fill-color);\n",
              "  }\n",
              "\n",
              "  .colab-df-quickchart-complete:disabled,\n",
              "  .colab-df-quickchart-complete:disabled:hover {\n",
              "    background-color: var(--disabled-bg-color);\n",
              "    fill: var(--disabled-fill-color);\n",
              "    box-shadow: none;\n",
              "  }\n",
              "\n",
              "  .colab-df-spinner {\n",
              "    border: 2px solid var(--fill-color);\n",
              "    border-color: transparent;\n",
              "    border-bottom-color: var(--fill-color);\n",
              "    animation:\n",
              "      spin 1s steps(1) infinite;\n",
              "  }\n",
              "\n",
              "  @keyframes spin {\n",
              "    0% {\n",
              "      border-color: transparent;\n",
              "      border-bottom-color: var(--fill-color);\n",
              "      border-left-color: var(--fill-color);\n",
              "    }\n",
              "    20% {\n",
              "      border-color: transparent;\n",
              "      border-left-color: var(--fill-color);\n",
              "      border-top-color: var(--fill-color);\n",
              "    }\n",
              "    30% {\n",
              "      border-color: transparent;\n",
              "      border-left-color: var(--fill-color);\n",
              "      border-top-color: var(--fill-color);\n",
              "      border-right-color: var(--fill-color);\n",
              "    }\n",
              "    40% {\n",
              "      border-color: transparent;\n",
              "      border-right-color: var(--fill-color);\n",
              "      border-top-color: var(--fill-color);\n",
              "    }\n",
              "    60% {\n",
              "      border-color: transparent;\n",
              "      border-right-color: var(--fill-color);\n",
              "    }\n",
              "    80% {\n",
              "      border-color: transparent;\n",
              "      border-right-color: var(--fill-color);\n",
              "      border-bottom-color: var(--fill-color);\n",
              "    }\n",
              "    90% {\n",
              "      border-color: transparent;\n",
              "      border-bottom-color: var(--fill-color);\n",
              "    }\n",
              "  }\n",
              "</style>\n",
              "\n",
              "  <script>\n",
              "    async function quickchart(key) {\n",
              "      const quickchartButtonEl =\n",
              "        document.querySelector('#' + key + ' button');\n",
              "      quickchartButtonEl.disabled = true;  // To prevent multiple clicks.\n",
              "      quickchartButtonEl.classList.add('colab-df-spinner');\n",
              "      try {\n",
              "        const charts = await google.colab.kernel.invokeFunction(\n",
              "            'suggestCharts', [key], {});\n",
              "      } catch (error) {\n",
              "        console.error('Error during call to suggestCharts:', error);\n",
              "      }\n",
              "      quickchartButtonEl.classList.remove('colab-df-spinner');\n",
              "      quickchartButtonEl.classList.add('colab-df-quickchart-complete');\n",
              "    }\n",
              "    (() => {\n",
              "      let quickchartButtonEl =\n",
              "        document.querySelector('#df-27a99674-89be-4c37-b3b2-1c481696c34a button');\n",
              "      quickchartButtonEl.style.display =\n",
              "        google.colab.kernel.accessAllowed ? 'block' : 'none';\n",
              "    })();\n",
              "  </script>\n",
              "</div>\n",
              "\n",
              "    </div>\n",
              "  </div>\n"
            ],
            "application/vnd.google.colaboratory.intrinsic+json": {
              "type": "dataframe",
              "variable_name": "movie_reviews"
            }
          },
          "metadata": {},
          "execution_count": 61
        }
      ],
      "source": [
        "twitter_data.head(5)"
      ]
    },
    {
      "cell_type": "code",
      "execution_count": 62,
      "metadata": {
        "id": "CRIDYlo4O8Va",
        "colab": {
          "base_uri": "https://localhost:8080/"
        },
        "outputId": "92e2e826-a5b1-4e32-a6c4-be7a25d93178"
      },
      "outputs": [
        {
          "output_type": "execute_result",
          "data": {
            "text/plain": [
              "0"
            ]
          },
          "metadata": {},
          "execution_count": 62
        }
      ],
      "source": [
        "# Checking for missing values\n",
        "\n",
        "twitter_data.isnull().values.sum()"
      ]
    },
    {
      "cell_type": "code",
      "source": [
        "# Delete rows with any null values\n",
        "twitter_data = twitter_data.dropna()\n",
        "\n",
        "# Verify that there are no missing values left\n",
        "missing_values_cleaned = twitter_data.isnull().sum()\n",
        "print(missing_values_cleaned)"
      ],
      "metadata": {
        "id": "Cpue0Uf8gBTR",
        "outputId": "5883c970-233c-45d4-d562-3ceb98432fae",
        "colab": {
          "base_uri": "https://localhost:8080/"
        }
      },
      "execution_count": 63,
      "outputs": [
        {
          "output_type": "stream",
          "name": "stdout",
          "text": [
            "text         0\n",
            "sentiment    0\n",
            "dtype: int64\n"
          ]
        }
      ]
    },
    {
      "cell_type": "code",
      "execution_count": 64,
      "metadata": {
        "id": "ys4A3cAFPSYI",
        "colab": {
          "base_uri": "https://localhost:8080/",
          "height": 466
        },
        "outputId": "8365076d-4031-42ab-9007-9ee0ec453f19"
      },
      "outputs": [
        {
          "output_type": "execute_result",
          "data": {
            "text/plain": [
              "<Axes: xlabel='sentiment', ylabel='count'>"
            ]
          },
          "metadata": {},
          "execution_count": 64
        },
        {
          "output_type": "display_data",
          "data": {
            "text/plain": [
              "<Figure size 640x480 with 1 Axes>"
            ],
            "image/png": "[encoded data removed]"
          },
          "metadata": {}
        }
      ],
      "source": [
        "# Let's observe distribution of positive / negative sentiments in dataset\n",
        "\n",
        "import seaborn as sns\n",
        "sns.countplot(x='sentiment', data=twitter_data)"
      ]
    },
    {
      "cell_type": "markdown",
      "metadata": {
        "id": "IAVIsg26PVZC"
      },
      "source": [
        "## Data Preprocessing"
      ]
    },
    {
      "cell_type": "code",
      "execution_count": 65,
      "metadata": {
        "id": "PJ6a6aKjPORv",
        "colab": {
          "base_uri": "https://localhost:8080/",
          "height": 36
        },
        "outputId": "a7671a57-7700-4ffe-d1b8-8b70f8d1949a"
      },
      "outputs": [
        {
          "output_type": "execute_result",
          "data": {
            "text/plain": [
              "'answer who among these the most powerful world leader today trump putin modi may '"
            ],
            "application/vnd.google.colaboratory.intrinsic+json": {
              "type": "string"
            }
          },
          "metadata": {},
          "execution_count": 65
        }
      ],
      "source": [
        "twitter_data[\"text\"][2]\n",
        "\n",
        "# You can see that our text contains punctuations, brackets, HTML tags and numbers\n",
        "# We will preprocess this text in the next section"
      ]
    },
    {
      "cell_type": "code",
      "execution_count": 67,
      "metadata": {
        "id": "pPFVY9UtPnkY"
      },
      "outputs": [],
      "source": [
        "TAG_RE = re.compile(r'<[^>]+>')\n",
        "\n",
        "def remove_tags(text):\n",
        "    '''Removes HTML tags: replaces anything between opening and closing <> with empty space'''\n",
        "\n",
        "    return TAG_RE.sub('', text)"
      ]
    },
    {
      "cell_type": "code",
      "source": [
        "import nltk\n",
        "nltk.download('stopwords')"
      ],
      "metadata": {
        "id": "D3GyEDf7DwFz",
        "colab": {
          "base_uri": "https://localhost:8080/"
        },
        "outputId": "6d58e502-e4ad-43f1-da7f-cb1c16c60f66"
      },
      "execution_count": 68,
      "outputs": [
        {
          "output_type": "stream",
          "name": "stderr",
          "text": [
            "[nltk_data] Downloading package stopwords to /root/nltk_data...\n",
            "[nltk_data]   Package stopwords is already up-to-date!\n"
          ]
        },
        {
          "output_type": "execute_result",
          "data": {
            "text/plain": [
              "True"
            ]
          },
          "metadata": {},
          "execution_count": 68
        }
      ]
    },
    {
      "cell_type": "code",
      "execution_count": 69,
      "metadata": {
        "id": "QBuD9E20PZDb"
      },
      "outputs": [],
      "source": [
        "def preprocess_text(sen):\n",
        "    '''Cleans text data up, leaving only 2 or more char long non-stepwords composed of A-Z & a-z only\n",
        "    in lowercase'''\n",
        "    sentence=sen\n",
        "    # sentence = sen.lower()\n",
        "\n",
        "    # # Remove html tags\n",
        "    # sentence = remove_tags(sentence)\n",
        "\n",
        "    # # Remove punctuations and numbers\n",
        "    # sentence = re.sub('[^a-zA-Z]', ' ', sentence)\n",
        "\n",
        "    # Single character removal\n",
        "    sentence = re.sub(r\"\\s+[a-zA-Z]\\s+\", ' ', sentence)  # When we remove apostrophe from the word \"Mark's\", the apostrophe is replaced by an empty space. Hence, we are left with single character \"s\" that we are removing here.\n",
        "\n",
        "    # Remove multiple spaces\n",
        "    sentence = re.sub(r'\\s+', ' ', sentence)  # Next, we remove all the single characters and replace it by a space which creates multiple spaces in our text. Finally, we remove the multiple spaces from our text as well.\n",
        "\n",
        "    # Remove Stopwords\n",
        "    pattern = re.compile(r'\\b(' + r'|'.join(stopwords.words('english')) + r')\\b\\s*')\n",
        "    sentence = pattern.sub('', sentence)\n",
        "\n",
        "    return sentence"
      ]
    },
    {
      "cell_type": "code",
      "execution_count": 70,
      "metadata": {
        "id": "GPSBPltpQDPp"
      },
      "outputs": [],
      "source": [
        "# Calling preprocessing_text function on twitter_data\n",
        "\n",
        "X = []\n",
        "sentences = list(twitter_data['text'])\n",
        "for sen in sentences:\n",
        "    X.append(preprocess_text(sen))"
      ]
    },
    {
      "cell_type": "code",
      "execution_count": 71,
      "metadata": {
        "id": "CZXW5YCbQGoW",
        "colab": {
          "base_uri": "https://localhost:8080/",
          "height": 36
        },
        "outputId": "a398a0f7-41db-4605-c0c1-4d4364d558b7"
      },
      "outputs": [
        {
          "output_type": "execute_result",
          "data": {
            "text/plain": [
              "'answer among powerful world leader today trump putin modi may '"
            ],
            "application/vnd.google.colaboratory.intrinsic+json": {
              "type": "string"
            }
          },
          "metadata": {},
          "execution_count": 71
        }
      ],
      "source": [
        "# Sample cleaned up movie review\n",
        "\n",
        "X[2]\n",
        "\n",
        "# As we shall use Word Embeddings, stemming/lemmatization is not performed as a preprocessing step here"
      ]
    },
    {
      "cell_type": "code",
      "execution_count": 72,
      "metadata": {
        "id": "-EKC4DJTQKsB"
      },
      "outputs": [],
      "source": [
        "# Converting sentiment labels to 0 & 1\n",
        "\n",
        "y = twitter_data['sentiment']\n",
        "\n",
        "# y = np.array(list(map(lambda x: 1 if x==\"positive\" else 0, y)))"
      ]
    },
    {
      "cell_type": "code",
      "execution_count": 116,
      "metadata": {
        "id": "UZPyxSQVQPT_"
      },
      "outputs": [],
      "source": [
        "X_train, X_test, y_train, y_test = train_test_split(X, y, test_size=0.20, random_state=42)\n",
        "\n",
        "# The train set will be used to train our deep learning models\n",
        "# while test set will be used to evaluate how well our model performs"
      ]
    },
    {
      "cell_type": "markdown",
      "metadata": {
        "id": "FsF3k9QbQc5q"
      },
      "source": [
        "## Preparing embedding layer"
      ]
    },
    {
      "cell_type": "markdown",
      "source": [
        "Let's now write the script for our embedding layer. Embedding layer converts our textual data into numeric form. It is then **used as the first layer for the deep learning models in Keras**."
      ],
      "metadata": {
        "id": "hv27X0dUcurD"
      }
    },
    {
      "cell_type": "code",
      "source": [
        "# Embedding layer expects the words to be in numeric form\n",
        "# Using Tokenizer function from keras.preprocessing.text library\n",
        "# Method fit_on_text trains the tokenizer\n",
        "# Method texts_to_sequences converts sentences to their numeric form\n",
        "\n",
        "word_tokenizer = Tokenizer()\n",
        "word_tokenizer.fit_on_texts(X_train)\n",
        "\n",
        "X_train = word_tokenizer.texts_to_sequences(X_train)\n",
        "X_test = word_tokenizer.texts_to_sequences(X_test)"
      ],
      "metadata": {
        "id": "kZ5kWzGKeAgc"
      },
      "execution_count": 117,
      "outputs": []
    },
    {
      "cell_type": "code",
      "source": [
        "# Adding 1 to store dimensions for words for which no pretrained word embeddings exist\n",
        "\n",
        "vocab_length = len(word_tokenizer.word_index) + 1\n",
        "\n",
        "vocab_length"
      ],
      "metadata": {
        "id": "vn-Rj21reKVm",
        "colab": {
          "base_uri": "https://localhost:8080/"
        },
        "outputId": "5a7cbfbc-8459-4b1c-e17a-a4950bdb5bb4"
      },
      "execution_count": 110,
      "outputs": [
        {
          "output_type": "execute_result",
          "data": {
            "text/plain": [
              "88154"
            ]
          },
          "metadata": {},
          "execution_count": 110
        }
      ]
    },
    {
      "cell_type": "code",
      "source": [
        "# Padding all reviews to fixed length 100\n",
        "\n",
        "maxlen = 100\n",
        "\n",
        "X_train = pad_sequences(X_train, padding='post', maxlen=maxlen)\n",
        "X_test = pad_sequences(X_test, padding='post', maxlen=maxlen)"
      ],
      "metadata": {
        "id": "9-QqBAR0hz22"
      },
      "execution_count": 118,
      "outputs": []
    },
    {
      "cell_type": "code",
      "execution_count": 82,
      "metadata": {
        "id": "VH4uFszlRGPk"
      },
      "outputs": [],
      "source": [
        "# Load GloVe word embeddings and create an Embeddings Dictionary\n",
        "\n",
        "from numpy import asarray\n",
        "from numpy import zeros\n",
        "\n",
        "embeddings_dictionary = dict()\n",
        "glove_file = open('/content/glove.6B.100d.txt', encoding=\"utf8\")\n",
        "\n",
        "for line in glove_file:\n",
        "    records = line.split()\n",
        "    word = records[0]\n",
        "    vector_dimensions = asarray(records[1:], dtype='float32')\n",
        "    embeddings_dictionary [word] = vector_dimensions\n",
        "glove_file.close()"
      ]
    },
    {
      "cell_type": "code",
      "execution_count": 83,
      "metadata": {
        "id": "ZN6SP61FSDZB"
      },
      "outputs": [],
      "source": [
        "# Create Embedding Matrix having 100 columns\n",
        "# Containing 100-dimensional GloVe word embeddings for all words in our corpus.\n",
        "\n",
        "embedding_matrix = zeros((vocab_length, 100))\n",
        "for word, index in word_tokenizer.word_index.items():\n",
        "    embedding_vector = embeddings_dictionary.get(word)\n",
        "    if embedding_vector is not None:\n",
        "        embedding_matrix[index] = embedding_vector"
      ]
    },
    {
      "cell_type": "code",
      "source": [
        "embedding_matrix.shape"
      ],
      "metadata": {
        "id": "fjwFEeCmiAPo",
        "colab": {
          "base_uri": "https://localhost:8080/"
        },
        "outputId": "b6fdcb0f-4e0b-442d-d1bb-a9e7b8e37283"
      },
      "execution_count": 84,
      "outputs": [
        {
          "output_type": "execute_result",
          "data": {
            "text/plain": [
              "(88154, 100)"
            ]
          },
          "metadata": {},
          "execution_count": 84
        }
      ]
    },
    {
      "cell_type": "markdown",
      "source": [
        "# Model Training with:"
      ],
      "metadata": {
        "id": "OW-AbfS3jNy_"
      }
    },
    {
      "cell_type": "markdown",
      "metadata": {
        "id": "F_bNYrfoSIBj"
      },
      "source": [
        "## Simple Neural Network"
      ]
    },
    {
      "cell_type": "code",
      "execution_count": 85,
      "metadata": {
        "id": "qf-U8d-WSFxk"
      },
      "outputs": [],
      "source": [
        "# Neural Network architecture\n",
        "\n",
        "# snn_model = Sequential()\n",
        "# embedding_layer = Embedding(vocab_length, 100, weights=[embedding_matrix], input_length=maxlen , trainable=False)\n",
        "\n",
        "# snn_model.add(embedding_layer)\n",
        "\n",
        "# snn_model.add(Flatten())\n",
        "# snn_model.add(Dense(1, activation='sigmoid'))\n",
        "snn_model = Sequential()\n",
        "embedding_layer = Embedding(vocab_length, 100, weights=[embedding_matrix], input_length=maxlen, trainable=False)\n",
        "snn_model.add(embedding_layer)\n",
        "snn_model.add(Flatten())\n",
        "snn_model.add(Dense(3, activation='softmax'))  # 3 output nodes for 3 classes\n"
      ]
    },
    {
      "cell_type": "code",
      "execution_count": 86,
      "metadata": {
        "id": "JjUzsDS5SOrH",
        "colab": {
          "base_uri": "https://localhost:8080/"
        },
        "outputId": "f452a301-cb0e-4fb3-db2a-0236732dc1eb"
      },
      "outputs": [
        {
          "output_type": "stream",
          "name": "stdout",
          "text": [
            "Model: \"sequential_3\"\n",
            "_________________________________________________________________\n",
            " Layer (type)                Output Shape              Param #   \n",
            "=================================================================\n",
            " embedding_3 (Embedding)     (None, 100, 100)          8815400   \n",
            "                                                                 \n",
            " flatten_3 (Flatten)         (None, 10000)             0         \n",
            "                                                                 \n",
            " dense_3 (Dense)             (None, 3)                 30003     \n",
            "                                                                 \n",
            "=================================================================\n",
            "Total params: 8845403 (33.74 MB)\n",
            "Trainable params: 30003 (117.20 KB)\n",
            "Non-trainable params: 8815400 (33.63 MB)\n",
            "_________________________________________________________________\n",
            "None\n"
          ]
        }
      ],
      "source": [
        "# Model compiling\n",
        "\n",
        "# snn_model.compile(optimizer='adam', loss='binary_crossentropy', metrics=['acc'])\n",
        "\n",
        "snn_model.compile(optimizer='adam', loss='categorical_crossentropy', metrics=['accuracy'])\n",
        "print(snn_model.summary())\n"
      ]
    },
    {
      "cell_type": "code",
      "source": [
        "# y_train = to_categorical(y_train, num_classes=3)\n",
        "# y_test = to_categorical(y_test, num_classes=3)\n",
        "# print(y_train.shape)\n",
        "# print(y_test.shape)\n",
        "\n",
        "\n",
        "# Convert labels to one-hot encoding\n",
        "y_train = to_categorical(y_train, num_classes=3)\n",
        "y_test = to_categorical(y_test, num_classes=3)\n",
        "\n",
        "# Now print the shapes to verify\n",
        "print(\"Corrected Shapes:\")\n",
        "print(\"y_train shape:\", y_train.shape)\n",
        "print(\"y_test shape:\", y_test.shape)"
      ],
      "metadata": {
        "id": "UyKfXYLOlVxs",
        "outputId": "9dd81bb0-c67a-4ad5-b488-a6dc94230ae4",
        "colab": {
          "base_uri": "https://localhost:8080/"
        }
      },
      "execution_count": 87,
      "outputs": [
        {
          "output_type": "stream",
          "name": "stdout",
          "text": [
            "Corrected Shapes:\n",
            "y_train shape: (105087, 3)\n",
            "y_test shape: (26272, 3)\n"
          ]
        }
      ]
    },
    {
      "cell_type": "code",
      "execution_count": 88,
      "metadata": {
        "id": "Fbjq_xjXSVIw",
        "colab": {
          "base_uri": "https://localhost:8080/"
        },
        "outputId": "8cf31a21-e82a-44b1-98b8-0f8c7d8ad6bc"
      },
      "outputs": [
        {
          "output_type": "stream",
          "name": "stdout",
          "text": [
            "Epoch 1/6\n",
            "657/657 [==============================] - 8s 12ms/step - loss: 0.9058 - accuracy: 0.5788 - val_loss: 0.8761 - val_accuracy: 0.6032\n",
            "Epoch 2/6\n",
            "657/657 [==============================] - 9s 13ms/step - loss: 0.8479 - accuracy: 0.6205 - val_loss: 0.8664 - val_accuracy: 0.6120\n",
            "Epoch 3/6\n",
            "657/657 [==============================] - 8s 12ms/step - loss: 0.8341 - accuracy: 0.6272 - val_loss: 0.8709 - val_accuracy: 0.6127\n",
            "Epoch 4/6\n",
            "657/657 [==============================] - 5s 7ms/step - loss: 0.8267 - accuracy: 0.6304 - val_loss: 0.8746 - val_accuracy: 0.6076\n",
            "Epoch 5/6\n",
            "657/657 [==============================] - 6s 9ms/step - loss: 0.8236 - accuracy: 0.6330 - val_loss: 0.8723 - val_accuracy: 0.6094\n",
            "Epoch 6/6\n",
            "657/657 [==============================] - 9s 14ms/step - loss: 0.8207 - accuracy: 0.6347 - val_loss: 0.8738 - val_accuracy: 0.6101\n"
          ]
        }
      ],
      "source": [
        "# Model training\n",
        "\n",
        "snn_model_history = snn_model.fit(X_train, y_train, batch_size=128, epochs=6, verbose=1, validation_split=0.2)"
      ]
    },
    {
      "cell_type": "code",
      "execution_count": 89,
      "metadata": {
        "id": "bLiriTfNSYcc",
        "colab": {
          "base_uri": "https://localhost:8080/"
        },
        "outputId": "09971147-7a62-4299-8652-bcb60115b502"
      },
      "outputs": [
        {
          "output_type": "stream",
          "name": "stdout",
          "text": [
            "821/821 [==============================] - 2s 2ms/step - loss: 0.8662 - accuracy: 0.6132\n"
          ]
        }
      ],
      "source": [
        "# Predictions on the Test Set\n",
        "\n",
        "score = snn_model.evaluate(X_test, y_test, verbose=1)"
      ]
    },
    {
      "cell_type": "code",
      "execution_count": 90,
      "metadata": {
        "id": "CeFtXQ9MSaaN",
        "colab": {
          "base_uri": "https://localhost:8080/"
        },
        "outputId": "fab369a4-5961-4620-f3a5-70c68d6328c2"
      },
      "outputs": [
        {
          "output_type": "stream",
          "name": "stdout",
          "text": [
            "Test Score: 0.8661549687385559\n",
            "Test Accuracy: 0.6131622791290283\n"
          ]
        }
      ],
      "source": [
        "# Model Performance\n",
        "\n",
        "print(\"Test Score:\", score[0])\n",
        "print(\"Test Accuracy:\", score[1])"
      ]
    },
    {
      "cell_type": "code",
      "execution_count": 92,
      "metadata": {
        "id": "r55HElqVSc5K",
        "colab": {
          "base_uri": "https://localhost:8080/",
          "height": 927
        },
        "outputId": "b5075da9-7183-44e6-85a7-ad1e35f5d913"
      },
      "outputs": [
        {
          "output_type": "display_data",
          "data": {
            "text/plain": [
              "<Figure size 640x480 with 1 Axes>"
            ],
            "image/png": "[encoded data removed]"
          },
          "metadata": {}
        },
        {
          "output_type": "display_data",
          "data": {
            "text/plain": [
              "<Figure size 640x480 with 1 Axes>"
            ],
            "image/png": "[encoded data removed]"
          },
          "metadata": {}
        }
      ],
      "source": [
        "# Model Performance Charts\n",
        "\n",
        "# import matplotlib.pyplot as plt\n",
        "\n",
        "# plt.plot(snn_model_history.history['acc'])\n",
        "# plt.plot(snn_model_history.history['val_acc'])\n",
        "\n",
        "# plt.title('model accuracy')\n",
        "# plt.ylabel('accuracy')\n",
        "# plt.xlabel('epoch')\n",
        "# plt.legend(['train','test'], loc='upper left')\n",
        "# plt.show()\n",
        "\n",
        "# plt.plot(snn_model_history.history['loss'])\n",
        "# plt.plot(snn_model_history.history['val_loss'])\n",
        "\n",
        "# plt.title('model loss')\n",
        "# plt.ylabel('loss')\n",
        "# plt.xlabel('epoch')\n",
        "# plt.legend(['train','test'], loc='upper left')\n",
        "# plt.show()\n",
        "\n",
        "import matplotlib.pyplot as plt\n",
        "\n",
        "# Plot training & validation accuracy values\n",
        "plt.plot(snn_model_history.history['accuracy'])\n",
        "plt.plot(snn_model_history.history['val_accuracy'])\n",
        "plt.title('Model accuracy')\n",
        "plt.ylabel('Accuracy')\n",
        "plt.xlabel('Epoch')\n",
        "plt.legend(['Train', 'Validation'], loc='upper left')\n",
        "plt.show()\n",
        "\n",
        "# Plot training & validation loss values\n",
        "plt.plot(snn_model_history.history['loss'])\n",
        "plt.plot(snn_model_history.history['val_loss'])\n",
        "plt.title('Model loss')\n",
        "plt.ylabel('Loss')\n",
        "plt.xlabel('Epoch')\n",
        "plt.legend(['Train', 'Validation'], loc='upper left')\n",
        "plt.show()\n"
      ]
    },
    {
      "cell_type": "markdown",
      "metadata": {
        "id": "HMulFBC4SfAY"
      },
      "source": [
        "## Convolutional Neural Network"
      ]
    },
    {
      "cell_type": "code",
      "execution_count": 93,
      "metadata": {
        "id": "CzNlGNGGUhVx"
      },
      "outputs": [],
      "source": [
        "from keras.layers import Conv1D"
      ]
    },
    {
      "cell_type": "code",
      "execution_count": 112,
      "metadata": {
        "id": "kbVF6c4ASgUs"
      },
      "outputs": [],
      "source": [
        "# # Neural Network architecture\n",
        "\n",
        "# cnn_model = Sequential()\n",
        "\n",
        "# embedding_layer = Embedding(vocab_length, 100, weights=[embedding_matrix], input_length=maxlen , trainable=False)\n",
        "# cnn_model.add(embedding_layer)\n",
        "\n",
        "# cnn_model.add(Conv1D(128, 5, activation='relu'))\n",
        "# cnn_model.add(GlobalMaxPooling1D())\n",
        "# cnn_model.add(Dense(1, activation='sigmoid'))\n",
        "\n",
        "\n",
        "# Define the model\n",
        "cnn_model = Sequential()\n",
        "\n",
        "# Embedding layer\n",
        "embedding_layer = Embedding(vocab_length, 100, weights=[embedding_matrix], input_length=maxlen, trainable=False)\n",
        "cnn_model.add(embedding_layer)\n",
        "\n",
        "# Convolutional layer\n",
        "cnn_model.add(Conv1D(128, 5, activation='relu'))\n",
        "\n",
        "# Global max pooling layer\n",
        "cnn_model.add(GlobalMaxPooling1D())\n",
        "\n",
        "# Output layer for 3 classes\n",
        "cnn_model.add(Dense(3, activation='softmax'))  # 3 output units for 3 classes, softmax for multi-class classification"
      ]
    },
    {
      "cell_type": "code",
      "execution_count": 121,
      "metadata": {
        "id": "XayF5sTqSlP_",
        "colab": {
          "base_uri": "https://localhost:8080/"
        },
        "outputId": "0b090df6-98bb-4828-ca32-d4bae15f0dc8"
      },
      "outputs": [
        {
          "output_type": "stream",
          "name": "stdout",
          "text": [
            "Model: \"sequential_6\"\n",
            "_________________________________________________________________\n",
            " Layer (type)                Output Shape              Param #   \n",
            "=================================================================\n",
            " embedding_6 (Embedding)     (None, 100, 100)          8815400   \n",
            "                                                                 \n",
            " conv1d_2 (Conv1D)           (None, 96, 128)           64128     \n",
            "                                                                 \n",
            " global_max_pooling1d_2 (Gl  (None, 128)               0         \n",
            " obalMaxPooling1D)                                               \n",
            "                                                                 \n",
            " dense_6 (Dense)             (None, 3)                 387       \n",
            "                                                                 \n",
            "=================================================================\n",
            "Total params: 8879915 (33.87 MB)\n",
            "Trainable params: 64515 (252.01 KB)\n",
            "Non-trainable params: 8815400 (33.63 MB)\n",
            "_________________________________________________________________\n",
            "None\n"
          ]
        }
      ],
      "source": [
        "# Model compiling\n",
        "\n",
        "# cnn_model.compile(optimizer='adam', loss='binary_crossentropy', metrics=['acc'])\n",
        "# print(cnn_model.summary())\n",
        "\n",
        "\n",
        "cnn_model.compile(optimizer='adam', loss='categorical_crossentropy', metrics=['accuracy'])\n",
        "\n",
        "# Print model summary\n",
        "print(cnn_model.summary())"
      ]
    },
    {
      "cell_type": "code",
      "source": [
        "y_train = to_categorical(y_train, num_classes=3)\n",
        "y_test = to_categorical(y_test, num_classes=3)\n",
        "\n",
        "# Now print the shapes to verify\n",
        "print(\"y_train shape:\", y_train.shape)\n",
        "print(\"y_test shape:\", y_test.shape)"
      ],
      "metadata": {
        "id": "YAZQojqN3TNq",
        "outputId": "df296c33-5cfa-4551-bcdf-c49fa5a8a845",
        "colab": {
          "base_uri": "https://localhost:8080/"
        }
      },
      "execution_count": 122,
      "outputs": [
        {
          "output_type": "stream",
          "name": "stdout",
          "text": [
            "y_train shape: (105087, 3)\n",
            "y_test shape: (26272, 3)\n"
          ]
        }
      ]
    },
    {
      "cell_type": "code",
      "execution_count": 123,
      "metadata": {
        "id": "AaF5Rc6GSnDY",
        "colab": {
          "base_uri": "https://localhost:8080/"
        },
        "outputId": "2b5b6696-39cb-4a8d-bcff-151903efe9cb"
      },
      "outputs": [
        {
          "output_type": "stream",
          "name": "stdout",
          "text": [
            "Epoch 1/6\n",
            "657/657 [==============================] - 77s 116ms/step - loss: 0.7805 - accuracy: 0.6518 - val_loss: 0.6725 - val_accuracy: 0.7200\n",
            "Epoch 2/6\n",
            "657/657 [==============================] - 84s 128ms/step - loss: 0.5973 - accuracy: 0.7607 - val_loss: 0.6150 - val_accuracy: 0.7535\n",
            "Epoch 3/6\n",
            "657/657 [==============================] - 77s 117ms/step - loss: 0.5097 - accuracy: 0.8051 - val_loss: 0.5905 - val_accuracy: 0.7656\n",
            "Epoch 4/6\n",
            "657/657 [==============================] - 86s 131ms/step - loss: 0.4464 - accuracy: 0.8328 - val_loss: 0.5951 - val_accuracy: 0.7659\n",
            "Epoch 5/6\n",
            "657/657 [==============================] - 83s 126ms/step - loss: 0.3933 - accuracy: 0.8563 - val_loss: 0.5950 - val_accuracy: 0.7686\n",
            "Epoch 6/6\n",
            "657/657 [==============================] - 76s 116ms/step - loss: 0.3555 - accuracy: 0.8723 - val_loss: 0.6043 - val_accuracy: 0.7719\n"
          ]
        }
      ],
      "source": [
        "# Model training\n",
        "\n",
        "cnn_model_history = cnn_model.fit(X_train, y_train, batch_size=128, epochs=6, verbose=1, validation_split=0.2)"
      ]
    },
    {
      "cell_type": "code",
      "execution_count": 124,
      "metadata": {
        "id": "fTqK3hr6VNUi",
        "colab": {
          "base_uri": "https://localhost:8080/"
        },
        "outputId": "49ba07dd-ce3d-46d0-f2ba-a8b282d1a6d7"
      },
      "outputs": [
        {
          "output_type": "stream",
          "name": "stdout",
          "text": [
            "821/821 [==============================] - 10s 12ms/step - loss: 0.6133 - accuracy: 0.7648\n"
          ]
        }
      ],
      "source": [
        "# Predictions on the Test Set\n",
        "\n",
        "score = cnn_model.evaluate(X_test, y_test, verbose=1)"
      ]
    },
    {
      "cell_type": "code",
      "execution_count": 125,
      "metadata": {
        "id": "bQhafHPmSvpG",
        "colab": {
          "base_uri": "https://localhost:8080/"
        },
        "outputId": "a25fdfc4-78ff-4bed-e9ef-91375fb9a1da"
      },
      "outputs": [
        {
          "output_type": "stream",
          "name": "stdout",
          "text": [
            "Test Score: 0.6133131980895996\n",
            "Test Accuracy: 0.7647686004638672\n"
          ]
        }
      ],
      "source": [
        "# Model Performance\n",
        "\n",
        "print(\"Test Score:\", score[0])\n",
        "print(\"Test Accuracy:\", score[1])"
      ]
    },
    {
      "cell_type": "code",
      "execution_count": 128,
      "metadata": {
        "id": "YLdZa9GNSyAy",
        "colab": {
          "base_uri": "https://localhost:8080/",
          "height": 927
        },
        "outputId": "b17eef33-706f-4a55-f510-9f0b12855493"
      },
      "outputs": [
        {
          "output_type": "display_data",
          "data": {
            "text/plain": [
              "<Figure size 640x480 with 1 Axes>"
            ],
            "image/png": "[encoded data removed]"
          },
          "metadata": {}
        },
        {
          "output_type": "display_data",
          "data": {
            "text/plain": [
              "<Figure size 640x480 with 1 Axes>"
            ],
            "image/png": "[encoded data removed]"
          },
          "metadata": {}
        }
      ],
      "source": [
        "# # Model Performance Charts\n",
        "\n",
        "# import matplotlib.pyplot as plt\n",
        "\n",
        "# plt.plot(cnn_model_history.history['acc'])\n",
        "# plt.plot(cnn_model_history.history['val_acc'])\n",
        "\n",
        "# plt.title('model accuracy')\n",
        "# plt.ylabel('accuracy')\n",
        "# plt.xlabel('epoch')\n",
        "# plt.legend(['train','test'], loc = 'upper left')\n",
        "# plt.show()\n",
        "\n",
        "# plt.plot(cnn_model_history.history['loss'])\n",
        "# plt.plot(cnn_model_history.history['val_loss'])\n",
        "\n",
        "# plt.title('model loss')\n",
        "# plt.ylabel('loss')\n",
        "# plt.xlabel('epoch')\n",
        "# plt.legend(['train','test'], loc = 'upper left')\n",
        "# plt.show()\n",
        "\n",
        "\n",
        "import matplotlib.pyplot as plt\n",
        "\n",
        "# Plot training & validation accuracy values\n",
        "plt.plot(cnn_model_history.history['accuracy'])\n",
        "plt.plot(cnn_model_history.history['val_accuracy'])\n",
        "plt.title('Model accuracy')\n",
        "plt.ylabel('Accuracy')\n",
        "plt.xlabel('Epoch')\n",
        "plt.legend(['Train', 'Validation'], loc='upper left')\n",
        "plt.show()\n",
        "\n",
        "# Plot training & validation loss values\n",
        "plt.plot(cnn_model_history.history['loss'])\n",
        "plt.plot(cnn_model_history.history['val_loss'])\n",
        "plt.title('Model loss')\n",
        "plt.ylabel('Loss')\n",
        "plt.xlabel('Epoch')\n",
        "plt.legend(['Train', 'Validation'], loc='upper left')\n",
        "plt.show()\n"
      ]
    },
    {
      "cell_type": "markdown",
      "metadata": {
        "id": "2QTts_XPS1Wn"
      },
      "source": [
        "## Recurrent Neural Network (LSTM)"
      ]
    },
    {
      "cell_type": "code",
      "execution_count": 129,
      "metadata": {
        "id": "1iLtWqoMVwU5"
      },
      "outputs": [],
      "source": [
        "from keras.layers import LSTM"
      ]
    },
    {
      "cell_type": "code",
      "execution_count": 130,
      "metadata": {
        "id": "0ccqZ-8kS2el"
      },
      "outputs": [],
      "source": [
        "# Neural Network architecture\n",
        "\n",
        "lstm_model = Sequential()\n",
        "embedding_layer = Embedding(vocab_length, 100, weights=[embedding_matrix], input_length=maxlen , trainable=False)\n",
        "\n",
        "lstm_model.add(embedding_layer)\n",
        "lstm_model.add(LSTM(128))\n",
        "\n",
        "lstm_model.add(Dense(3, activation='softmax'))"
      ]
    },
    {
      "cell_type": "code",
      "execution_count": 131,
      "metadata": {
        "id": "Zk00Ss9HS68g",
        "colab": {
          "base_uri": "https://localhost:8080/"
        },
        "outputId": "3cc52126-d012-4f72-9367-6e829fd29777"
      },
      "outputs": [
        {
          "output_type": "stream",
          "name": "stdout",
          "text": [
            "Model: \"sequential_7\"\n",
            "_________________________________________________________________\n",
            " Layer (type)                Output Shape              Param #   \n",
            "=================================================================\n",
            " embedding_7 (Embedding)     (None, 100, 100)          8815400   \n",
            "                                                                 \n",
            " lstm (LSTM)                 (None, 128)               117248    \n",
            "                                                                 \n",
            " dense_7 (Dense)             (None, 3)                 387       \n",
            "                                                                 \n",
            "=================================================================\n",
            "Total params: 8933035 (34.08 MB)\n",
            "Trainable params: 117635 (459.51 KB)\n",
            "Non-trainable params: 8815400 (33.63 MB)\n",
            "_________________________________________________________________\n",
            "None\n"
          ]
        }
      ],
      "source": [
        "# Model compiling\n",
        "\n",
        "lstm_model.compile(optimizer='adam', loss='binary_crossentropy', metrics=['acc'])\n",
        "print(lstm_model.summary())"
      ]
    },
    {
      "cell_type": "code",
      "source": [
        "# y_train = to_categorical(y_train, num_classes=3)\n",
        "# y_test = to_categorical(y_test, num_classes=3)\n",
        "\n",
        "# Now print the shapes to verify\n",
        "print(\"y_train shape:\", y_train.shape)\n",
        "print(\"y_test shape:\", y_test.shape)"
      ],
      "metadata": {
        "id": "PuRoeXBi-yNR"
      },
      "execution_count": null,
      "outputs": []
    },
    {
      "cell_type": "code",
      "execution_count": 132,
      "metadata": {
        "id": "QMhhaZUaS9jF",
        "colab": {
          "base_uri": "https://localhost:8080/"
        },
        "outputId": "230f6000-5d0b-4eee-aeea-b81b8be26f76"
      },
      "outputs": [
        {
          "output_type": "stream",
          "name": "stdout",
          "text": [
            "Epoch 1/6\n",
            "657/657 [==============================] - 330s 424ms/step - loss: 0.5974 - acc: 0.4232 - val_loss: 0.5228 - val_acc: 0.5701\n",
            "Epoch 2/6\n",
            "657/657 [==============================] - 291s 443ms/step - loss: 0.4837 - acc: 0.6442 - val_loss: 0.5283 - val_acc: 0.5882\n",
            "Epoch 3/6\n",
            "657/657 [==============================] - 290s 442ms/step - loss: 0.4665 - acc: 0.6619 - val_loss: 0.4267 - val_acc: 0.7007\n",
            "Epoch 4/6\n",
            "657/657 [==============================] - 294s 447ms/step - loss: 0.4042 - acc: 0.7210 - val_loss: 0.3901 - val_acc: 0.7342\n",
            "Epoch 5/6\n",
            "657/657 [==============================] - 278s 424ms/step - loss: 0.3695 - acc: 0.7523 - val_loss: 0.3718 - val_acc: 0.7529\n",
            "Epoch 6/6\n",
            "657/657 [==============================] - 293s 446ms/step - loss: 0.3464 - acc: 0.7714 - val_loss: 0.3468 - val_acc: 0.7725\n"
          ]
        }
      ],
      "source": [
        "# Model Training\n",
        "\n",
        "lstm_model_history = lstm_model.fit(X_train, y_train, batch_size=128, epochs=6, verbose=1, validation_split=0.2)"
      ]
    },
    {
      "cell_type": "code",
      "source": [
        "# Predictions on the Test Set\n",
        "\n",
        "score = lstm_model.evaluate(X_test, y_test, verbose=1)"
      ],
      "metadata": {
        "id": "w7il9EjzlAaR",
        "colab": {
          "base_uri": "https://localhost:8080/"
        },
        "outputId": "8960ee6c-d68c-49b7-e85c-7702ab3d65fe"
      },
      "execution_count": 133,
      "outputs": [
        {
          "output_type": "stream",
          "name": "stdout",
          "text": [
            "821/821 [==============================] - 63s 76ms/step - loss: 0.3433 - acc: 0.7752\n"
          ]
        }
      ]
    },
    {
      "cell_type": "code",
      "execution_count": 134,
      "metadata": {
        "id": "6j71n54zS9mc",
        "colab": {
          "base_uri": "https://localhost:8080/"
        },
        "outputId": "e9dee3b0-480b-4f5c-f3b0-36177c9a81a9"
      },
      "outputs": [
        {
          "output_type": "stream",
          "name": "stdout",
          "text": [
            "Test Score: 0.3432861864566803\n",
            "Test Accuracy: 0.7752360105514526\n"
          ]
        }
      ],
      "source": [
        "# Model Performance\n",
        "\n",
        "print(\"Test Score:\", score[0])\n",
        "print(\"Test Accuracy:\", score[1])"
      ]
    },
    {
      "cell_type": "code",
      "execution_count": 135,
      "metadata": {
        "id": "LiibO1EuS9qB",
        "colab": {
          "base_uri": "https://localhost:8080/",
          "height": 927
        },
        "outputId": "ec1cab13-c602-4a09-8db6-22db6b7adaaa"
      },
      "outputs": [
        {
          "output_type": "display_data",
          "data": {
            "text/plain": [
              "<Figure size 640x480 with 1 Axes>"
            ],
            "image/png": "[encoded data removed]"
          },
          "metadata": {}
        },
        {
          "output_type": "display_data",
          "data": {
            "text/plain": [
              "<Figure size 640x480 with 1 Axes>"
            ],
            "image/png": "[encoded data removed]"
          },
          "metadata": {}
        }
      ],
      "source": [
        "# Model Performance Charts\n",
        "\n",
        "import matplotlib.pyplot as plt\n",
        "\n",
        "plt.plot(lstm_model_history.history['acc'])\n",
        "plt.plot(lstm_model_history.history['val_acc'])\n",
        "\n",
        "plt.title('model accuracy')\n",
        "plt.ylabel('accuracy')\n",
        "plt.xlabel('epoch')\n",
        "plt.legend(['train','test'], loc='upper left')\n",
        "plt.show()\n",
        "\n",
        "plt.plot(lstm_model_history.history['loss'])\n",
        "plt.plot(lstm_model_history.history['val_loss'])\n",
        "\n",
        "plt.title('model loss')\n",
        "plt.ylabel('loss')\n",
        "plt.xlabel('epoch')\n",
        "plt.legend(['train','test'], loc='upper left')\n",
        "plt.show()"
      ]
    },
    {
      "cell_type": "code",
      "source": [
        "# Saving the model as a h5 file for possible use later\n",
        "\n",
        "lstm_model.save(f\"./c1_lstm_model_acc_{round(score[1], 3)}.h5\", save_format='h5')"
      ],
      "metadata": {
        "id": "YwXAHNsnnSdw"
      },
      "execution_count": null,
      "outputs": []
    },
    {
      "cell_type": "markdown",
      "metadata": {
        "id": "CF77MN1uTHbG"
      },
      "source": [
        "# Making Predictions on Live IMDb data"
      ]
    },
    {
      "cell_type": "code",
      "source": [
        "!ls # lists files in working directory"
      ],
      "metadata": {
        "id": "0i2Qws60ogQY",
        "colab": {
          "base_uri": "https://localhost:8080/"
        },
        "outputId": "84217dba-bcce-48b6-f481-92f315e59c4e"
      },
      "execution_count": null,
      "outputs": [
        {
          "output_type": "stream",
          "name": "stdout",
          "text": [
            "a1_IMDB_Dataset.csv\t    b_SentimentAnalysis_with_NeuralNetwork.ipynb\n",
            "a2_glove.6B.100d.txt\t    c1_lstm_model_acc_0.856.h5\n",
            "a3_IMDb_Unseen_Reviews.csv  c1_lstm_model_acc_0.864.h5\n"
          ]
        }
      ]
    },
    {
      "cell_type": "code",
      "source": [
        "# # Load previously trained LSTM Model\n",
        "\n",
        "# from keras.models import load_model\n",
        "\n",
        "# model_path ='./c1_lstm_model_acc_0.856.h5'\n",
        "# pretrained_lstm_model = load_model(model_path)\n",
        "\n",
        "# # summarize model.\n",
        "# pretrained_lstm_model.summary()"
      ],
      "metadata": {
        "id": "4QV-OXuvtpLr"
      },
      "execution_count": null,
      "outputs": []
    },
    {
      "cell_type": "code",
      "source": [
        "# Load sample IMDb reviews csv, having ~6 movie reviews, along with their IMDb rating\n",
        "\n",
        "sample_reviews = pd.read_csv(\"a3_IMDb_Unseen_Reviews.csv\")\n",
        "\n",
        "sample_reviews.head(6)"
      ],
      "metadata": {
        "id": "qZiniS4-guUR",
        "colab": {
          "base_uri": "https://localhost:8080/",
          "height": 238
        },
        "outputId": "3957e1b5-3ca7-4e58-c8ba-4385504762a3"
      },
      "execution_count": null,
      "outputs": [
        {
          "output_type": "execute_result",
          "data": {
            "text/plain": [
              "   Unnamed: 0       Movie                                        Review Text  \\\n",
              "0           0  Ex Machina  Intelligent Movie.\\nThis movie is obviously al...   \n",
              "1           1  Ex Machina  Extraordinary and thought-provoking.\\n'Ex mach...   \n",
              "2           2  Ex Machina  Poor story, only reasonable otherwise.\\nIf I h...   \n",
              "3           3  Ex Machina  Had Great Potential.\\nThis movie is one of the...   \n",
              "4           4    Eternals  Amazing visuals and philosophical concepts!\\n\\...   \n",
              "5           5    Eternals  Worst MCU film ever\\n\\nFollowing the events of...   \n",
              "\n",
              "   IMDb Rating  \n",
              "0            9  \n",
              "1           10  \n",
              "2            3  \n",
              "3            1  \n",
              "4           10  \n",
              "5            3  "
            ],
            "text/html": [
              "\n",
              "  <div id=\"df-a9096adf-e5b5-425d-952d-f18175b7d3fd\">\n",
              "    <div class=\"colab-df-container\">\n",
              "      <div>\n",
              "<style scoped>\n",
              "    .dataframe tbody tr th:only-of-type {\n",
              "        vertical-align: middle;\n",
              "    }\n",
              "\n",
              "    .dataframe tbody tr th {\n",
              "        vertical-align: top;\n",
              "    }\n",
              "\n",
              "    .dataframe thead th {\n",
              "        text-align: right;\n",
              "    }\n",
              "</style>\n",
              "<table border=\"1\" class=\"dataframe\">\n",
              "  <thead>\n",
              "    <tr style=\"text-align: right;\">\n",
              "      <th></th>\n",
              "      <th>Unnamed: 0</th>\n",
              "      <th>Movie</th>\n",
              "      <th>Review Text</th>\n",
              "      <th>IMDb Rating</th>\n",
              "    </tr>\n",
              "  </thead>\n",
              "  <tbody>\n",
              "    <tr>\n",
              "      <th>0</th>\n",
              "      <td>0</td>\n",
              "      <td>Ex Machina</td>\n",
              "      <td>Intelligent Movie.\\nThis movie is obviously al...</td>\n",
              "      <td>9</td>\n",
              "    </tr>\n",
              "    <tr>\n",
              "      <th>1</th>\n",
              "      <td>1</td>\n",
              "      <td>Ex Machina</td>\n",
              "      <td>Extraordinary and thought-provoking.\\n'Ex mach...</td>\n",
              "      <td>10</td>\n",
              "    </tr>\n",
              "    <tr>\n",
              "      <th>2</th>\n",
              "      <td>2</td>\n",
              "      <td>Ex Machina</td>\n",
              "      <td>Poor story, only reasonable otherwise.\\nIf I h...</td>\n",
              "      <td>3</td>\n",
              "    </tr>\n",
              "    <tr>\n",
              "      <th>3</th>\n",
              "      <td>3</td>\n",
              "      <td>Ex Machina</td>\n",
              "      <td>Had Great Potential.\\nThis movie is one of the...</td>\n",
              "      <td>1</td>\n",
              "    </tr>\n",
              "    <tr>\n",
              "      <th>4</th>\n",
              "      <td>4</td>\n",
              "      <td>Eternals</td>\n",
              "      <td>Amazing visuals and philosophical concepts!\\n\\...</td>\n",
              "      <td>10</td>\n",
              "    </tr>\n",
              "    <tr>\n",
              "      <th>5</th>\n",
              "      <td>5</td>\n",
              "      <td>Eternals</td>\n",
              "      <td>Worst MCU film ever\\n\\nFollowing the events of...</td>\n",
              "      <td>3</td>\n",
              "    </tr>\n",
              "  </tbody>\n",
              "</table>\n",
              "</div>\n",
              "      <button class=\"colab-df-convert\" onclick=\"convertToInteractive('df-a9096adf-e5b5-425d-952d-f18175b7d3fd')\"\n",
              "              title=\"Convert this dataframe to an interactive table.\"\n",
              "              style=\"display:none;\">\n",
              "        \n",
              "  <svg xmlns=\"http://www.w3.org/2000/svg\" height=\"24px\"viewBox=\"0 0 24 24\"\n",
              "       width=\"24px\">\n",
              "    <path d=\"M0 0h24v24H0V0z\" fill=\"none\"/>\n",
              "    <path d=\"M18.56 5.44l.94 2.06.94-2.06 2.06-.94-2.06-.94-.94-2.06-.94 2.06-2.06.94zm-11 1L8.5 8.5l.94-2.06 2.06-.94-2.06-.94L8.5 2.5l-.94 2.06-2.06.94zm10 10l.94 2.06.94-2.06 2.06-.94-2.06-.94-.94-2.06-.94 2.06-2.06.94z\"/><path d=\"M17.41 7.96l-1.37-1.37c-.4-.4-.92-.59-1.43-.59-.52 0-1.04.2-1.43.59L10.3 9.45l-7.72 7.72c-.78.78-.78 2.05 0 2.83L4 21.41c.39.39.9.59 1.41.59.51 0 1.02-.2 1.41-.59l7.78-7.78 2.81-2.81c.8-.78.8-2.07 0-2.86zM5.41 20L4 18.59l7.72-7.72 1.47 1.35L5.41 20z\"/>\n",
              "  </svg>\n",
              "      </button>\n",
              "      \n",
              "  <style>\n",
              "    .colab-df-container {\n",
              "      display:flex;\n",
              "      flex-wrap:wrap;\n",
              "      gap: 12px;\n",
              "    }\n",
              "\n",
              "    .colab-df-convert {\n",
              "      background-color: #E8F0FE;\n",
              "      border: none;\n",
              "      border-radius: 50%;\n",
              "      cursor: pointer;\n",
              "      display: none;\n",
              "      fill: #1967D2;\n",
              "      height: 32px;\n",
              "      padding: 0 0 0 0;\n",
              "      width: 32px;\n",
              "    }\n",
              "\n",
              "    .colab-df-convert:hover {\n",
              "      background-color: #E2EBFA;\n",
              "      box-shadow: 0px 1px 2px rgba(60, 64, 67, 0.3), 0px 1px 3px 1px rgba(60, 64, 67, 0.15);\n",
              "      fill: #174EA6;\n",
              "    }\n",
              "\n",
              "    [theme=dark] .colab-df-convert {\n",
              "      background-color: #3B4455;\n",
              "      fill: #D2E3FC;\n",
              "    }\n",
              "\n",
              "    [theme=dark] .colab-df-convert:hover {\n",
              "      background-color: #434B5C;\n",
              "      box-shadow: 0px 1px 3px 1px rgba(0, 0, 0, 0.15);\n",
              "      filter: drop-shadow(0px 1px 2px rgba(0, 0, 0, 0.3));\n",
              "      fill: #FFFFFF;\n",
              "    }\n",
              "  </style>\n",
              "\n",
              "      <script>\n",
              "        const buttonEl =\n",
              "          document.querySelector('#df-a9096adf-e5b5-425d-952d-f18175b7d3fd button.colab-df-convert');\n",
              "        buttonEl.style.display =\n",
              "          google.colab.kernel.accessAllowed ? 'block' : 'none';\n",
              "\n",
              "        async function convertToInteractive(key) {\n",
              "          const element = document.querySelector('#df-a9096adf-e5b5-425d-952d-f18175b7d3fd');\n",
              "          const dataTable =\n",
              "            await google.colab.kernel.invokeFunction('convertToInteractive',\n",
              "                                                     [key], {});\n",
              "          if (!dataTable) return;\n",
              "\n",
              "          const docLinkHtml = 'Like what you see? Visit the ' +\n",
              "            '<a target=\"_blank\" href=https://colab.research.google.com/notebooks/data_table.ipynb>data table notebook</a>'\n",
              "            + ' to learn more about interactive tables.';\n",
              "          element.innerHTML = '';\n",
              "          dataTable['output_type'] = 'display_data';\n",
              "          await google.colab.output.renderOutput(dataTable, element);\n",
              "          const docLink = document.createElement('div');\n",
              "          docLink.innerHTML = docLinkHtml;\n",
              "          element.appendChild(docLink);\n",
              "        }\n",
              "      </script>\n",
              "    </div>\n",
              "  </div>\n",
              "  "
            ]
          },
          "metadata": {},
          "execution_count": 49
        }
      ]
    },
    {
      "cell_type": "code",
      "source": [
        "# Preprocess review text with earlier defined preprocess_text function\n",
        "\n",
        "unseen_reviews = sample_reviews['Review Text']\n",
        "\n",
        "unseen_processed = []\n",
        "for review in unseen_reviews:\n",
        "  review = preprocess_text(review)\n",
        "  unseen_processed.append(review)"
      ],
      "metadata": {
        "id": "aiXGG5k9VLVv"
      },
      "execution_count": null,
      "outputs": []
    },
    {
      "cell_type": "code",
      "source": [
        "# Tokenising instance with earlier trained tokeniser\n",
        "unseen_tokenized = word_tokenizer.texts_to_sequences(unseen_processed)\n",
        "\n",
        "# Pooling instance to have maxlength of 100 tokens\n",
        "unseen_padded = pad_sequences(unseen_tokenized, padding='post', maxlen=maxlen)"
      ],
      "metadata": {
        "id": "A8Ln84UfVZhz"
      },
      "execution_count": null,
      "outputs": []
    },
    {
      "cell_type": "code",
      "source": [
        "# Passing tokenised instance to the LSTM model for predictions\n",
        "unseen_sentiments = lstm_model.predict(unseen_padded)\n",
        "\n",
        "unseen_sentiments"
      ],
      "metadata": {
        "id": "4bh5LsCZhy7r",
        "colab": {
          "base_uri": "https://localhost:8080/"
        },
        "outputId": "87d6340e-29bd-414c-d3cc-f04578af1783"
      },
      "execution_count": null,
      "outputs": [
        {
          "output_type": "execute_result",
          "data": {
            "text/plain": [
              "array([[0.8834934 ],\n",
              "       [0.9929012 ],\n",
              "       [0.31473452],\n",
              "       [0.2754807 ],\n",
              "       [0.97470117],\n",
              "       [0.04180595]], dtype=float32)"
            ]
          },
          "metadata": {},
          "execution_count": 54
        }
      ]
    },
    {
      "cell_type": "code",
      "source": [
        "# Writing model output file back to Google Drive\n",
        "\n",
        "sample_reviews['Predicted Sentiments'] = np.round(unseen_sentiments*10,1)\n",
        "\n",
        "df_prediction_sentiments = pd.DataFrame(sample_reviews['Predicted Sentiments'], columns = ['Predicted Sentiments'])\n",
        "df_movie                 = pd.DataFrame(sample_reviews['Movie'], columns = ['Movie'])\n",
        "df_review_text           = pd.DataFrame(sample_reviews['Review Text'], columns = ['Review Text'])\n",
        "df_imdb_rating           = pd.DataFrame(sample_reviews['IMDb Rating'], columns = ['IMDb Rating'])\n",
        "\n",
        "\n",
        "dfx=pd.concat([df_movie, df_review_text, df_imdb_rating, df_prediction_sentiments], axis=1)\n",
        "\n",
        "dfx.to_csv(\"./c2_IMDb_Unseen_Predictions.csv\", sep=',', encoding='UTF-8')\n",
        "\n",
        "dfx.head(6)"
      ],
      "metadata": {
        "id": "b6W2OOeupUX8",
        "colab": {
          "base_uri": "https://localhost:8080/",
          "height": 238
        },
        "outputId": "0dcbd641-4639-4cf9-983a-0df352451623"
      },
      "execution_count": null,
      "outputs": [
        {
          "output_type": "execute_result",
          "data": {
            "text/plain": [
              "        Movie                                        Review Text  IMDb Rating  \\\n",
              "0  Ex Machina  Intelligent Movie.\\nThis movie is obviously al...            9   \n",
              "1  Ex Machina  Extraordinary and thought-provoking.\\n'Ex mach...           10   \n",
              "2  Ex Machina  Poor story, only reasonable otherwise.\\nIf I h...            3   \n",
              "3  Ex Machina  Had Great Potential.\\nThis movie is one of the...            1   \n",
              "4    Eternals  Amazing visuals and philosophical concepts!\\n\\...           10   \n",
              "5    Eternals  Worst MCU film ever\\n\\nFollowing the events of...            3   \n",
              "\n",
              "   Predicted Sentiments  \n",
              "0                   8.8  \n",
              "1                   9.9  \n",
              "2                   3.1  \n",
              "3                   2.8  \n",
              "4                   9.7  \n",
              "5                   0.4  "
            ],
            "text/html": [
              "\n",
              "  <div id=\"df-22661752-7412-47f1-b20b-f6926c7f563a\">\n",
              "    <div class=\"colab-df-container\">\n",
              "      <div>\n",
              "<style scoped>\n",
              "    .dataframe tbody tr th:only-of-type {\n",
              "        vertical-align: middle;\n",
              "    }\n",
              "\n",
              "    .dataframe tbody tr th {\n",
              "        vertical-align: top;\n",
              "    }\n",
              "\n",
              "    .dataframe thead th {\n",
              "        text-align: right;\n",
              "    }\n",
              "</style>\n",
              "<table border=\"1\" class=\"dataframe\">\n",
              "  <thead>\n",
              "    <tr style=\"text-align: right;\">\n",
              "      <th></th>\n",
              "      <th>Movie</th>\n",
              "      <th>Review Text</th>\n",
              "      <th>IMDb Rating</th>\n",
              "      <th>Predicted Sentiments</th>\n",
              "    </tr>\n",
              "  </thead>\n",
              "  <tbody>\n",
              "    <tr>\n",
              "      <th>0</th>\n",
              "      <td>Ex Machina</td>\n",
              "      <td>Intelligent Movie.\\nThis movie is obviously al...</td>\n",
              "      <td>9</td>\n",
              "      <td>8.8</td>\n",
              "    </tr>\n",
              "    <tr>\n",
              "      <th>1</th>\n",
              "      <td>Ex Machina</td>\n",
              "      <td>Extraordinary and thought-provoking.\\n'Ex mach...</td>\n",
              "      <td>10</td>\n",
              "      <td>9.9</td>\n",
              "    </tr>\n",
              "    <tr>\n",
              "      <th>2</th>\n",
              "      <td>Ex Machina</td>\n",
              "      <td>Poor story, only reasonable otherwise.\\nIf I h...</td>\n",
              "      <td>3</td>\n",
              "      <td>3.1</td>\n",
              "    </tr>\n",
              "    <tr>\n",
              "      <th>3</th>\n",
              "      <td>Ex Machina</td>\n",
              "      <td>Had Great Potential.\\nThis movie is one of the...</td>\n",
              "      <td>1</td>\n",
              "      <td>2.8</td>\n",
              "    </tr>\n",
              "    <tr>\n",
              "      <th>4</th>\n",
              "      <td>Eternals</td>\n",
              "      <td>Amazing visuals and philosophical concepts!\\n\\...</td>\n",
              "      <td>10</td>\n",
              "      <td>9.7</td>\n",
              "    </tr>\n",
              "    <tr>\n",
              "      <th>5</th>\n",
              "      <td>Eternals</td>\n",
              "      <td>Worst MCU film ever\\n\\nFollowing the events of...</td>\n",
              "      <td>3</td>\n",
              "      <td>0.4</td>\n",
              "    </tr>\n",
              "  </tbody>\n",
              "</table>\n",
              "</div>\n",
              "      <button class=\"colab-df-convert\" onclick=\"convertToInteractive('df-22661752-7412-47f1-b20b-f6926c7f563a')\"\n",
              "              title=\"Convert this dataframe to an interactive table.\"\n",
              "              style=\"display:none;\">\n",
              "        \n",
              "  <svg xmlns=\"http://www.w3.org/2000/svg\" height=\"24px\"viewBox=\"0 0 24 24\"\n",
              "       width=\"24px\">\n",
              "    <path d=\"M0 0h24v24H0V0z\" fill=\"none\"/>\n",
              "    <path d=\"M18.56 5.44l.94 2.06.94-2.06 2.06-.94-2.06-.94-.94-2.06-.94 2.06-2.06.94zm-11 1L8.5 8.5l.94-2.06 2.06-.94-2.06-.94L8.5 2.5l-.94 2.06-2.06.94zm10 10l.94 2.06.94-2.06 2.06-.94-2.06-.94-.94-2.06-.94 2.06-2.06.94z\"/><path d=\"M17.41 7.96l-1.37-1.37c-.4-.4-.92-.59-1.43-.59-.52 0-1.04.2-1.43.59L10.3 9.45l-7.72 7.72c-.78.78-.78 2.05 0 2.83L4 21.41c.39.39.9.59 1.41.59.51 0 1.02-.2 1.41-.59l7.78-7.78 2.81-2.81c.8-.78.8-2.07 0-2.86zM5.41 20L4 18.59l7.72-7.72 1.47 1.35L5.41 20z\"/>\n",
              "  </svg>\n",
              "      </button>\n",
              "      \n",
              "  <style>\n",
              "    .colab-df-container {\n",
              "      display:flex;\n",
              "      flex-wrap:wrap;\n",
              "      gap: 12px;\n",
              "    }\n",
              "\n",
              "    .colab-df-convert {\n",
              "      background-color: #E8F0FE;\n",
              "      border: none;\n",
              "      border-radius: 50%;\n",
              "      cursor: pointer;\n",
              "      display: none;\n",
              "      fill: #1967D2;\n",
              "      height: 32px;\n",
              "      padding: 0 0 0 0;\n",
              "      width: 32px;\n",
              "    }\n",
              "\n",
              "    .colab-df-convert:hover {\n",
              "      background-color: #E2EBFA;\n",
              "      box-shadow: 0px 1px 2px rgba(60, 64, 67, 0.3), 0px 1px 3px 1px rgba(60, 64, 67, 0.15);\n",
              "      fill: #174EA6;\n",
              "    }\n",
              "\n",
              "    [theme=dark] .colab-df-convert {\n",
              "      background-color: #3B4455;\n",
              "      fill: #D2E3FC;\n",
              "    }\n",
              "\n",
              "    [theme=dark] .colab-df-convert:hover {\n",
              "      background-color: #434B5C;\n",
              "      box-shadow: 0px 1px 3px 1px rgba(0, 0, 0, 0.15);\n",
              "      filter: drop-shadow(0px 1px 2px rgba(0, 0, 0, 0.3));\n",
              "      fill: #FFFFFF;\n",
              "    }\n",
              "  </style>\n",
              "\n",
              "      <script>\n",
              "        const buttonEl =\n",
              "          document.querySelector('#df-22661752-7412-47f1-b20b-f6926c7f563a button.colab-df-convert');\n",
              "        buttonEl.style.display =\n",
              "          google.colab.kernel.accessAllowed ? 'block' : 'none';\n",
              "\n",
              "        async function convertToInteractive(key) {\n",
              "          const element = document.querySelector('#df-22661752-7412-47f1-b20b-f6926c7f563a');\n",
              "          const dataTable =\n",
              "            await google.colab.kernel.invokeFunction('convertToInteractive',\n",
              "                                                     [key], {});\n",
              "          if (!dataTable) return;\n",
              "\n",
              "          const docLinkHtml = 'Like what you see? Visit the ' +\n",
              "            '<a target=\"_blank\" href=https://colab.research.google.com/notebooks/data_table.ipynb>data table notebook</a>'\n",
              "            + ' to learn more about interactive tables.';\n",
              "          element.innerHTML = '';\n",
              "          dataTable['output_type'] = 'display_data';\n",
              "          await google.colab.output.renderOutput(dataTable, element);\n",
              "          const docLink = document.createElement('div');\n",
              "          docLink.innerHTML = docLinkHtml;\n",
              "          element.appendChild(docLink);\n",
              "        }\n",
              "      </script>\n",
              "    </div>\n",
              "  </div>\n",
              "  "
            ]
          },
          "metadata": {},
          "execution_count": 55
        }
      ]
    }
  ],
  "metadata": {
    "colab": {
      "provenance": [],
      "collapsed_sections": [
        "EwZa81ThPbt3",
        "q6FO9rxjxHe_"
      ],
      "include_colab_link": true
    },
    "kernelspec": {
      "display_name": "Python 3",
      "name": "python3"
    },
    "language_info": {
      "name": "python"
    }
  },
  "nbformat": 4,
  "nbformat_minor": 0
}